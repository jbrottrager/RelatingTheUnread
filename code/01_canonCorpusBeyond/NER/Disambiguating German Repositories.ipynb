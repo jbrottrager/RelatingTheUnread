{
 "cells": [
  {
   "cell_type": "markdown",
   "id": "b0a873e4-3a15-40ea-befc-5e880a8de8a3",
   "metadata": {},
   "source": [
    "# Disambiguating German Repositories"
   ]
  },
  {
   "cell_type": "markdown",
   "id": "e310b686-da03-4847-a153-856aaa135a2b",
   "metadata": {},
   "source": [
    "--- Last edited: 2024-09-27 ---"
   ]
  },
  {
   "cell_type": "code",
   "execution_count": 1,
   "id": "64e2252a",
   "metadata": {},
   "outputs": [],
   "source": [
    "import collections\n",
    "from datetime import date\n",
    "import glob\n",
    "import json\n",
    "import os\n",
    "from pathlib import Path\n",
    "import pickle\n",
    "import random\n",
    "import requests\n",
    "import re\n",
    "import string\n",
    "import sys\n",
    "import time\n",
    "from tqdm import tqdm\n",
    "import csv\n",
    "import numpy as np\n",
    "import pandas as pd\n",
    "from tqdm.notebook import tqdm\n",
    "\n",
    "import qwikidata\n",
    "from qwikidata.sparql  import return_sparql_query_results\n",
    "\n",
    "from urllib.parse import urlencode\n",
    "\n",
    "from bs4 import BeautifulSoup\n",
    "import xml.etree.ElementTree as ET\n",
    "from lxml import etree\n",
    "\n",
    "from thefuzz import fuzz\n",
    "from thefuzz import process"
   ]
  },
  {
   "cell_type": "code",
   "execution_count": 2,
   "id": "a03d9271-68df-46da-a6a1-9cf68721d214",
   "metadata": {},
   "outputs": [],
   "source": [
    "def load_data(file):\n",
    "    with open(file, \"r\", encoding = \"utf-8\") as f:\n",
    "        data = json.load(f)\n",
    "    return(data)\n",
    "\n",
    "def save_data(file, data):\n",
    "    with open(file, \"w\", encoding = \"utf-8\") as f:\n",
    "        json.dump(data, f, indent = 4)"
   ]
  },
  {
   "cell_type": "code",
   "execution_count": 3,
   "id": "db319157-06ca-4318-bdd4-e84c225c11a7",
   "metadata": {},
   "outputs": [],
   "source": [
    "def query_entity_fishing(text, language='de'):\n",
    "    headers = {\n",
    "        'Content-Type': 'application/json'\n",
    "    }\n",
    "    data = {\n",
    "        \"text\": text,\n",
    "        \"language\": language  # Specify language if needed\n",
    "    }\n",
    "    try:\n",
    "        # Send a POST request to the Entity Fishing API\n",
    "        response = requests.post(api_url, headers=headers, data=json.dumps(data))\n",
    "        # Raise an error for bad HTTP status codes\n",
    "        response.raise_for_status()\n",
    "        # Parse the JSON response\n",
    "        return response.json()\n",
    "    except requests.exceptions.HTTPError as http_err:\n",
    "        print(f\"HTTP error occurred: {http_err}\")  # Handle HTTP errors\n",
    "        return {}\n",
    "    except requests.exceptions.RequestException as req_err:\n",
    "        print(f\"Request error: {req_err}\")  # Handle other request errors\n",
    "        return {}\n",
    "    except ValueError as json_err:\n",
    "        print(f\"JSON decoding error: {json_err}\")  # Handle JSON decoding errors\n",
    "        return {}"
   ]
  },
  {
   "cell_type": "code",
   "execution_count": 4,
   "id": "d7505fe7-3491-48d0-80a4-f8a6bbe41406",
   "metadata": {},
   "outputs": [],
   "source": [
    "def get_wikidata_label(wikidataid, language='de'):\n",
    "    # Define the Wikidata API URL\n",
    "    url = \"https://www.wikidata.org/w/api.php\"\n",
    "    \n",
    "    # Set the parameters for the API request\n",
    "    params = {\n",
    "        \"action\": \"wbgetentities\",\n",
    "        \"format\": \"json\",\n",
    "        \"ids\": wikidataid,\n",
    "        \"props\": \"labels\",\n",
    "        \"languages\": language\n",
    "    }\n",
    "    \n",
    "    try:\n",
    "        # Send the request to the Wikidata API\n",
    "        response = requests.get(url, params=params)\n",
    "        response.raise_for_status()\n",
    "        \n",
    "        # Parse the JSON response\n",
    "        data = response.json()\n",
    "        \n",
    "        # Extract the label\n",
    "        entity = data.get(\"entities\", {}).get(wikidataid, {})\n",
    "        labels = entity.get(\"labels\", {})\n",
    "        label = labels.get(language, {}).get(\"value\", None)\n",
    "        \n",
    "        return label\n",
    "    except requests.exceptions.HTTPError as http_err:\n",
    "        print(f\"HTTP error occurred: {http_err}\")  # Handle HTTP errors\n",
    "        return None\n",
    "    except requests.exceptions.RequestException as req_err:\n",
    "        print(f\"Request error: {req_err}\")  # Handle other request errors\n",
    "        return None\n",
    "    except ValueError as json_err:\n",
    "        print(f\"JSON decoding error: {json_err}\")  # Handle JSON decoding errors\n",
    "        return None"
   ]
  },
  {
   "cell_type": "code",
   "execution_count": 5,
   "id": "baf03f52-4488-4f9c-b0cd-4ed304f4f7a0",
   "metadata": {},
   "outputs": [],
   "source": [
    "def is_instance_of_literarywork(wikidata_id):\n",
    "    # URL to fetch the entity data\n",
    "    url = f\"https://www.wikidata.org/wiki/Special:EntityData/{wikidata_id}.json\"\n",
    "    response = requests.get(url)\n",
    "    \n",
    "    # Check if the request was successful\n",
    "    if response.status_code != 200:\n",
    "        return False\n",
    "\n",
    "    data = response.json()\n",
    "    \n",
    "    # Extract the entity data\n",
    "    entity_data = data['entities'].get(wikidata_id, {})\n",
    "    \n",
    "    # Extract claims (properties)\n",
    "    claims = entity_data.get('claims', {})\n",
    "    \n",
    "    # Check for \"instance of\" property (P31)\n",
    "    if 'P31' in claims:\n",
    "        for claim in claims['P31']:\n",
    "            mainsnak = claim.get('mainsnak', {})\n",
    "            datavalue = mainsnak.get('datavalue', {})\n",
    "            value = datavalue.get('value', {})\n",
    "            if value.get('id') == 'Q7725634':  # Q7725634 is the ID for 'literary work'\n",
    "                return True\n",
    "            if value.get('id') == 'Q47461344':  # Q47461344 is the ID for 'written work'\n",
    "                return True\n",
    "            if value.get('id') == 'Q838948':  # Q838948 is the ID for 'work of art'\n",
    "                return True\n",
    "            if value.get('id') == 'Q116476516':  # Q116476516 is the ID for 'dramatic work'\n",
    "                return True\n",
    "    \n",
    "    return False"
   ]
  },
  {
   "cell_type": "code",
   "execution_count": 6,
   "id": "cbed9e9b-545e-464c-8820-fd474bb02a15",
   "metadata": {},
   "outputs": [],
   "source": [
    "def get_publication_date(wikidata_id):\n",
    "    # URL to fetch the entity data\n",
    "    url = f\"https://www.wikidata.org/wiki/Special:EntityData/{wikidata_id}.json\"\n",
    "    response = requests.get(url)\n",
    "    \n",
    "    # Check if the request was successful\n",
    "    if response.status_code != 200:\n",
    "        return None\n",
    "\n",
    "    data = response.json()\n",
    "    \n",
    "    # Extract the entity data\n",
    "    entity_data = data['entities'].get(wikidata_id, {})\n",
    "    \n",
    "    # Extract claims (properties)\n",
    "    claims = entity_data.get('claims', {})\n",
    "    \n",
    "    # Check for \"publication date\" property (P577)\n",
    "    if 'P577' in claims:\n",
    "        # Get the first publication date\n",
    "        publication_date_claim = claims['P577'][0]\n",
    "        mainsnak = publication_date_claim.get('mainsnak', {})\n",
    "        datavalue = mainsnak.get('datavalue', {})\n",
    "        value = datavalue.get('value', {})\n",
    "        \n",
    "        # Extract the time value\n",
    "        publication_date = value.get('time')\n",
    "        if publication_date:\n",
    "            # Extract the year from the date string (format: +YYYY-MM-DDT00:00:00Z)\n",
    "            year = publication_date.split('-')[0].lstrip('+')\n",
    "            return year\n",
    "    \n",
    "    return None"
   ]
  },
  {
   "cell_type": "code",
   "execution_count": 7,
   "id": "11057528-b3eb-4b82-b9b1-4272e3283c7b",
   "metadata": {},
   "outputs": [],
   "source": [
    "def get_genres_and_forms_of_creative_work(wikidata_id):\n",
    "    # URL to fetch the entity data\n",
    "    url = f\"https://www.wikidata.org/wiki/Special:EntityData/{wikidata_id}.json\"\n",
    "    response = requests.get(url)\n",
    "    \n",
    "    # Check if the request was successful\n",
    "    if response.status_code != 200:\n",
    "        return None, None\n",
    "\n",
    "    data = response.json()\n",
    "    \n",
    "    # Extract the entity data\n",
    "    entity_data = data['entities'].get(wikidata_id, {})\n",
    "    \n",
    "    # Extract claims (properties)\n",
    "    claims = entity_data.get('claims', {})\n",
    "    \n",
    "    genres = []\n",
    "    forms_of_creative_work = []\n",
    "    \n",
    "    # Check for \"genre\" property (P136)\n",
    "    if 'P136' in claims:\n",
    "        for claim in claims['P136']:\n",
    "            mainsnak = claim.get('mainsnak', {})\n",
    "            datavalue = mainsnak.get('datavalue', {})\n",
    "            value = datavalue.get('value', {})\n",
    "            \n",
    "            # Extract the genre ID\n",
    "            genre_id = value.get('id')\n",
    "            if genre_id:\n",
    "                # Fetch the genre label\n",
    "                genre_label = get_label(genre_id)\n",
    "                if genre_label:\n",
    "                    genres.append(genre_label)\n",
    "    \n",
    "    # Check for \"form of creative work\" property (P7937)\n",
    "    if 'P7937' in claims:\n",
    "        for claim in claims['P7937']:\n",
    "            mainsnak = claim.get('mainsnak', {})\n",
    "            datavalue = mainsnak.get('datavalue', {})\n",
    "            value = datavalue.get('value', {})\n",
    "            \n",
    "            # Extract the form of creative work ID\n",
    "            form_of_creative_work_id = value.get('id')\n",
    "            if form_of_creative_work_id:\n",
    "                # Fetch the form of creative work label\n",
    "                form_of_creative_work_label = get_label(form_of_creative_work_id)\n",
    "                if form_of_creative_work_label:\n",
    "                    forms_of_creative_work.append(form_of_creative_work_label)\n",
    "    \n",
    "    return genres, forms_of_creative_work"
   ]
  },
  {
   "cell_type": "code",
   "execution_count": 8,
   "id": "d219a838-1aec-440c-82c8-1aaa34e17035",
   "metadata": {},
   "outputs": [],
   "source": [
    "def get_label(entity_id):\n",
    "    # URL to fetch the entity data\n",
    "    url = f\"https://www.wikidata.org/wiki/Special:EntityData/{entity_id}.json\"\n",
    "    response = requests.get(url)\n",
    "    \n",
    "    if response.status_code != 200:\n",
    "        return None\n",
    "\n",
    "    data = response.json()\n",
    "    \n",
    "    # Extract the entity data\n",
    "    entity_data = data['entities'].get(entity_id, {})\n",
    "    \n",
    "    # Extract labels\n",
    "    labels = entity_data.get('labels', {})\n",
    "    \n",
    "    # Get the English label if available, else return the first label found\n",
    "    if 'en' in labels:\n",
    "        return labels['en']['value']\n",
    "    elif labels:\n",
    "        return next(iter(labels.values()))['value']\n",
    "    \n",
    "    return None"
   ]
  },
  {
   "cell_type": "markdown",
   "id": "87cefdd0-d83b-4abe-bf62-0770e349fe1d",
   "metadata": {},
   "source": [
    "### Disambiguation"
   ]
  },
  {
   "cell_type": "code",
   "execution_count": 9,
   "id": "b3f4dfaf-d1d3-42b6-8fe0-e2413069446d",
   "metadata": {},
   "outputs": [],
   "source": [
    "api_url = \"http://localhost:8090/service/disambiguate\""
   ]
  },
  {
   "cell_type": "code",
   "execution_count": 10,
   "id": "100b8e3f-2870-40f6-b240-b8230b45e405",
   "metadata": {},
   "outputs": [],
   "source": [
    "#today = re.sub('-', '', str(date.today()))\n",
    "today = \"20240926\""
   ]
  },
  {
   "cell_type": "code",
   "execution_count": 11,
   "id": "408efd18-78f1-4dff-9377-e338b48434d0",
   "metadata": {},
   "outputs": [],
   "source": [
    "dict_text = load_data('C:/Users/Brottrager/Documents/Diss/sec_lit/GER/20240919_GER_dict_all_entities_WORK_OF_ART.json')"
   ]
  },
  {
   "cell_type": "code",
   "execution_count": 12,
   "id": "bea60075-c76c-4986-b0c6-bf28db7c1e56",
   "metadata": {},
   "outputs": [],
   "source": [
    "inverted_dict_text = {}\n",
    "\n",
    "for key, values in dict_text.items():\n",
    "    for value in values[0]:\n",
    "        if value in inverted_dict_text:\n",
    "            inverted_dict_text[value].append([key, values[1], values[2]]) \n",
    "        else:\n",
    "            inverted_dict_text[value] = [key, values[1], values[2]]"
   ]
  },
  {
   "cell_type": "markdown",
   "id": "b4c2480d-203c-45ee-8f06-ffd04276aba5",
   "metadata": {},
   "source": [
    "#### Textgrid"
   ]
  },
  {
   "cell_type": "code",
   "execution_count": 13,
   "id": "72d7b698-d5f3-4c4c-bb7b-e6b240ecced1",
   "metadata": {},
   "outputs": [],
   "source": [
    "textgrid_path = 'C:/Users/Brottrager/Documents/Diss/corpora/20240714/GER/0_scraping/textgrid/Digitale-Bibliothek-Literatur'\n",
    "textgrid_dir = Path(textgrid_path).glob('*.xml')\n",
    "files = list(textgrid_dir)"
   ]
  },
  {
   "cell_type": "code",
   "execution_count": 14,
   "id": "9640bccb-86d6-4692-b483-b92cee6a30a6",
   "metadata": {},
   "outputs": [],
   "source": [
    "textgrid_texts_path = 'C:/Users/Brottrager/Documents/Diss/corpora/20240714/GER/0_scraping/textgrid/' + today + '_individual_texts'\n",
    "if not os.path.exists(textgrid_texts_path):\n",
    "    os.makedirs(textgrid_texts_path)"
   ]
  },
  {
   "cell_type": "code",
   "execution_count": 15,
   "id": "caf36c5b-cfc8-4763-89f6-321dc7429f56",
   "metadata": {},
   "outputs": [],
   "source": [
    "namespaces = {\n",
    "    'tei': 'http://www.tei-c.org/ns/1.0'\n",
    "}"
   ]
  },
  {
   "cell_type": "code",
   "execution_count": 17,
   "id": "09ee344c-64f1-4815-b6ef-c76f919bc5dd",
   "metadata": {},
   "outputs": [
    {
     "data": {
      "application/vnd.jupyter.widget-view+json": {
       "model_id": "14fadf26a4634ed09e2c94f62e6b50c2",
       "version_major": 2,
       "version_minor": 0
      },
      "text/plain": [
       "  0%|          | 0/691 [00:00<?, ?it/s]"
      ]
     },
     "metadata": {},
     "output_type": "display_data"
    }
   ],
   "source": [
    "textgrid_dict = {}\n",
    "\n",
    "for file in tqdm(files): \n",
    "    tree = etree.parse(file)\n",
    "    author = tree.xpath('//tei:author', namespaces=namespaces)\n",
    "    author_content = re.sub(',', '_', author[0].text.strip())\n",
    "    author_content = re.sub(' ', '-', author_content)\n",
    "    author_content = re.sub('_-', '_', author_content)\n",
    "    texts = tree.xpath('//tei:text', namespaces=namespaces)\n",
    "    for i, text in enumerate(texts, start=1):\n",
    "        title = text.xpath('.//tei:head[@type=\"h2\"]', namespaces=namespaces)\n",
    "        if not title:\n",
    "            continue\n",
    "        \n",
    "        title_content = re.sub(r'[^\\w\\s-]', '', title[0].text.strip()).replace(' ', '-')\n",
    "        filename = f'{textgrid_texts_path}/{author_content}_{title_content}.xml'\n",
    "        \n",
    "        new_root = etree.Element(\"text\")\n",
    "        new_head = etree.SubElement(new_root, \"head\")\n",
    "        new_head.text = title[0].text.strip()\n",
    "        \n",
    "        paragraphs = text.xpath('.//*', namespaces=namespaces)\n",
    "        for paragraph in paragraphs:\n",
    "            new_paragraph = etree.SubElement(new_root, \"p\")\n",
    "            new_paragraph.text = paragraph.text\n",
    "        \n",
    "        with open(filename, 'w', encoding='utf-8') as file:\n",
    "            file.write(etree.tostring(new_root, encoding='unicode', pretty_print=True))\n",
    "\n",
    "        textgrid_dict[title[0].text.strip()] = [author[0].text.strip(), filename]"
   ]
  },
  {
   "cell_type": "code",
   "execution_count": null,
   "id": "71aa94ed-0ca3-40dc-8db4-e7dd3073af0d",
   "metadata": {
    "scrolled": true
   },
   "outputs": [],
   "source": [
    "wikified_textgrid = {}\n",
    "for title in tqdm(textgrid_dict.keys()):\n",
    "    response = query_entity_fishing(title)\n",
    "    if 'entities' in response and response['entities']:\n",
    "        # Get the first disambiguated entity\n",
    "        first_entity = response['entities'][0]\n",
    "        if 'wikidataId' in first_entity.keys():\n",
    "            wikiID = first_entity['wikidataId']\n",
    "            wikiname = get_wikidata_label(wikiID)\n",
    "            if wikiname is None:\n",
    "                wikiname = title\n",
    "            wikiname = re.sub(' ', '_', wikiname.upper())\n",
    "            if is_instance_of_literarywork(wikiID):\n",
    "                wikified_textgrid[title] = [wikiname, wikiID, textgrid_dict[title][1]]"
   ]
  },
  {
   "cell_type": "code",
   "execution_count": 18,
   "id": "d68c2933-00cb-4f39-bf7b-d68a1e54cefe",
   "metadata": {},
   "outputs": [],
   "source": [
    "#save_data('C:/Users/Brottrager/Documents/Diss/corpora/20240714/GER/0_scraping/textgrid/' + today + '_wikified_textgrid.json', wikified_textgrid)\n",
    "wikified_textgrid = load_data('C:/Users/Brottrager/Documents/Diss/corpora/20240714/GER/0_scraping/textgrid/20240926_wikified_textgrid.json')"
   ]
  },
  {
   "cell_type": "code",
   "execution_count": 19,
   "id": "41538ad6-59bf-4065-b65a-aa8dfc8c2bf2",
   "metadata": {},
   "outputs": [],
   "source": [
    "wikified_textgrid_inverted = {}\n",
    "\n",
    "for key, values in wikified_textgrid.items():\n",
    "    if values[1] in wikified_textgrid_inverted:\n",
    "        wikified_textgrid_inverted[values[1]][0].append(key) \n",
    "        wikified_textgrid_inverted[values[1]][0].append(values[2]) \n",
    "    else:\n",
    "        wikified_textgrid_inverted[values[1]] = [[key], values[0], [values[2]]]"
   ]
  },
  {
   "cell_type": "code",
   "execution_count": 20,
   "id": "f90a166a-7a54-4cf3-973c-c135b3dd46bb",
   "metadata": {},
   "outputs": [
    {
     "data": {
      "application/vnd.jupyter.widget-view+json": {
       "model_id": "3ceb96455b4a4cabb1cada2f1de1a109",
       "version_major": 2,
       "version_minor": 0
      },
      "text/plain": [
       "  0%|          | 0/35973 [00:00<?, ?it/s]"
      ]
     },
     "metadata": {},
     "output_type": "display_data"
    }
   ],
   "source": [
    "fuzzy_matched_textgrid = {}\n",
    "\n",
    "for key, values in tqdm(inverted_dict_text.items()):\n",
    "    if key not in wikified_textgrid:\n",
    "        result = process.extract(key, textgrid_dict.keys())\n",
    "        if result[0][1] >= 95:\n",
    "            fuzzy_matched_textgrid[key] = [result[0][0], result[0][1]]"
   ]
  },
  {
   "cell_type": "code",
   "execution_count": 21,
   "id": "844f3026-3872-44da-a0ed-6b00e456b15d",
   "metadata": {},
   "outputs": [],
   "source": [
    "save_data('C:/Users/Brottrager/Documents/Diss/corpora/20240714/GER/0_scraping/textgrid/' + today + '_fuzzy_matched_textgrid.json', fuzzy_matched_textgrid)\n",
    "#fuzzy_matched_textgrid = load_data('C:/Users/Brottrager/Documents/Diss/corpora/20240714/GER/0_scraping/textgrid/20240821_fuzzy_matched_textgrid.json')"
   ]
  },
  {
   "cell_type": "code",
   "execution_count": 22,
   "id": "ed819bfe-96c4-4a9d-8f5e-ff13410cf44e",
   "metadata": {},
   "outputs": [
    {
     "data": {
      "application/vnd.jupyter.widget-view+json": {
       "model_id": "9a5ed54a9e434475a659f7fd8f57c55d",
       "version_major": 2,
       "version_minor": 0
      },
      "text/plain": [
       "  0%|          | 0/1140 [00:00<?, ?it/s]"
      ]
     },
     "metadata": {},
     "output_type": "display_data"
    }
   ],
   "source": [
    "fuzzy_matched_textgrid_wikiname = {}\n",
    "\n",
    "for key, values in tqdm(fuzzy_matched_textgrid.items()):\n",
    "    wikiname = inverted_dict_text[key][0]\n",
    "    if wikiname not in fuzzy_matched_textgrid_wikiname:\n",
    "        fuzzy_matched_textgrid_wikiname[wikiname] = {'variations': dict_text[wikiname][0], 'wikiID': dict_text[wikiname][1], 'freq': dict_text[wikiname][3], \n",
    "                                                      'repo_title': values[0], 'repoID': textgrid_dict[values[0]][1], 'fuzzy_ratio': values[1]}"
   ]
  },
  {
   "cell_type": "code",
   "execution_count": 23,
   "id": "30eb0832-08ac-4fc8-928a-2ea4d722de73",
   "metadata": {},
   "outputs": [],
   "source": [
    "save_data('C:/Users/Brottrager/Documents/Diss/corpora/20240714/GER/0_scraping/textgrid/' + today + '_fuzzy_matched_textgrid_wikiname_final.json', fuzzy_matched_textgrid_wikiname)\n",
    "#fuzzy_matched_textgrid_wikiname = load_data('C:/Users/Brottrager/Documents/Diss/corpora/20240714/GER/0_scraping/textgrid/' + today + '_fuzzy_matched_textgrid_wikiname_final.json')"
   ]
  },
  {
   "cell_type": "markdown",
   "id": "a6b747ea-e876-4a90-8962-355d0198701d",
   "metadata": {},
   "source": [
    "#### Gutenberg-DE"
   ]
  },
  {
   "cell_type": "code",
   "execution_count": 24,
   "id": "618bc6f1-b977-413e-87a8-7040f0d0dd44",
   "metadata": {},
   "outputs": [],
   "source": [
    "all_titles_html = 'https://www.projekt-gutenberg.org/info/texte/allworka.html'"
   ]
  },
  {
   "cell_type": "code",
   "execution_count": 25,
   "id": "fc29e087-9116-4be4-94e0-57304dd48248",
   "metadata": {},
   "outputs": [],
   "source": [
    "page = requests.get(all_titles_html)\n",
    "soup = BeautifulSoup(page.content, 'html.parser')"
   ]
  },
  {
   "cell_type": "code",
   "execution_count": 26,
   "id": "8b4e75b1-7d90-4715-88df-4ad107704f64",
   "metadata": {},
   "outputs": [],
   "source": [
    "gutenberg_dict = {}\n",
    "\n",
    "dt_tag = soup.find('dt')\n",
    "dd_tags = dt_tag.find_next_siblings('dd')\n",
    "for dd in dd_tags:\n",
    "    a_tag = dd.find('a')\n",
    "    if a_tag:\n",
    "        title = a_tag.text\n",
    "        title = re.sub('[\\t\\r]+', '', title)\n",
    "        link = a_tag['href']\n",
    "        gutenberg_dict[title] = link"
   ]
  },
  {
   "cell_type": "code",
   "execution_count": 32,
   "id": "2e6bd7c4-0e40-4576-bde0-3100a8bede97",
   "metadata": {
    "scrolled": true
   },
   "outputs": [
    {
     "data": {
      "application/vnd.jupyter.widget-view+json": {
       "model_id": "2d824f7de1ee4ed2be440c3affc4a6f6",
       "version_major": 2,
       "version_minor": 0
      },
      "text/plain": [
       "  0%|          | 0/11642 [00:00<?, ?it/s]"
      ]
     },
     "metadata": {},
     "output_type": "display_data"
    },
    {
     "name": "stdout",
     "output_type": "stream",
     "text": [
      "HTTP error occurred: 400 Client Error: Bad Request for url: http://localhost:8090/service/disambiguate\n",
      "HTTP error occurred: 400 Client Error: Bad Request for url: http://localhost:8090/service/disambiguate\n",
      "HTTP error occurred: 400 Client Error: Bad Request for url: http://localhost:8090/service/disambiguate\n",
      "HTTP error occurred: 400 Client Error: Bad Request for url: http://localhost:8090/service/disambiguate\n",
      "HTTP error occurred: 400 Client Error: Bad Request for url: http://localhost:8090/service/disambiguate\n",
      "HTTP error occurred: 400 Client Error: Bad Request for url: http://localhost:8090/service/disambiguate\n",
      "HTTP error occurred: 400 Client Error: Bad Request for url: http://localhost:8090/service/disambiguate\n",
      "HTTP error occurred: 400 Client Error: Bad Request for url: http://localhost:8090/service/disambiguate\n",
      "HTTP error occurred: 400 Client Error: Bad Request for url: http://localhost:8090/service/disambiguate\n",
      "HTTP error occurred: 400 Client Error: Bad Request for url: http://localhost:8090/service/disambiguate\n",
      "HTTP error occurred: 400 Client Error: Bad Request for url: http://localhost:8090/service/disambiguate\n",
      "HTTP error occurred: 400 Client Error: Bad Request for url: http://localhost:8090/service/disambiguate\n",
      "HTTP error occurred: 400 Client Error: Bad Request for url: http://localhost:8090/service/disambiguate\n",
      "HTTP error occurred: 400 Client Error: Bad Request for url: http://localhost:8090/service/disambiguate\n",
      "HTTP error occurred: 400 Client Error: Bad Request for url: http://localhost:8090/service/disambiguate\n",
      "HTTP error occurred: 400 Client Error: Bad Request for url: http://localhost:8090/service/disambiguate\n",
      "HTTP error occurred: 400 Client Error: Bad Request for url: http://localhost:8090/service/disambiguate\n",
      "HTTP error occurred: 400 Client Error: Bad Request for url: http://localhost:8090/service/disambiguate\n",
      "HTTP error occurred: 400 Client Error: Bad Request for url: http://localhost:8090/service/disambiguate\n",
      "HTTP error occurred: 400 Client Error: Bad Request for url: http://localhost:8090/service/disambiguate\n",
      "HTTP error occurred: 400 Client Error: Bad Request for url: http://localhost:8090/service/disambiguate\n",
      "HTTP error occurred: 400 Client Error: Bad Request for url: http://localhost:8090/service/disambiguate\n",
      "HTTP error occurred: 400 Client Error: Bad Request for url: http://localhost:8090/service/disambiguate\n",
      "HTTP error occurred: 400 Client Error: Bad Request for url: http://localhost:8090/service/disambiguate\n",
      "HTTP error occurred: 400 Client Error: Bad Request for url: http://localhost:8090/service/disambiguate\n",
      "HTTP error occurred: 400 Client Error: Bad Request for url: http://localhost:8090/service/disambiguate\n",
      "HTTP error occurred: 400 Client Error: Bad Request for url: http://localhost:8090/service/disambiguate\n",
      "HTTP error occurred: 400 Client Error: Bad Request for url: http://localhost:8090/service/disambiguate\n",
      "HTTP error occurred: 400 Client Error: Bad Request for url: http://localhost:8090/service/disambiguate\n",
      "HTTP error occurred: 400 Client Error: Bad Request for url: http://localhost:8090/service/disambiguate\n",
      "HTTP error occurred: 400 Client Error: Bad Request for url: http://localhost:8090/service/disambiguate\n",
      "HTTP error occurred: 400 Client Error: Bad Request for url: http://localhost:8090/service/disambiguate\n",
      "HTTP error occurred: 400 Client Error: Bad Request for url: http://localhost:8090/service/disambiguate\n",
      "HTTP error occurred: 400 Client Error: Bad Request for url: http://localhost:8090/service/disambiguate\n",
      "HTTP error occurred: 400 Client Error: Bad Request for url: http://localhost:8090/service/disambiguate\n",
      "HTTP error occurred: 400 Client Error: Bad Request for url: http://localhost:8090/service/disambiguate\n",
      "HTTP error occurred: 400 Client Error: Bad Request for url: http://localhost:8090/service/disambiguate\n",
      "HTTP error occurred: 400 Client Error: Bad Request for url: http://localhost:8090/service/disambiguate\n",
      "HTTP error occurred: 400 Client Error: Bad Request for url: http://localhost:8090/service/disambiguate\n",
      "HTTP error occurred: 400 Client Error: Bad Request for url: http://localhost:8090/service/disambiguate\n",
      "HTTP error occurred: 400 Client Error: Bad Request for url: http://localhost:8090/service/disambiguate\n",
      "HTTP error occurred: 400 Client Error: Bad Request for url: http://localhost:8090/service/disambiguate\n",
      "HTTP error occurred: 400 Client Error: Bad Request for url: http://localhost:8090/service/disambiguate\n",
      "HTTP error occurred: 400 Client Error: Bad Request for url: http://localhost:8090/service/disambiguate\n",
      "HTTP error occurred: 400 Client Error: Bad Request for url: http://localhost:8090/service/disambiguate\n",
      "HTTP error occurred: 400 Client Error: Bad Request for url: http://localhost:8090/service/disambiguate\n",
      "HTTP error occurred: 400 Client Error: Bad Request for url: http://localhost:8090/service/disambiguate\n",
      "HTTP error occurred: 400 Client Error: Bad Request for url: http://localhost:8090/service/disambiguate\n",
      "HTTP error occurred: 400 Client Error: Bad Request for url: http://localhost:8090/service/disambiguate\n",
      "HTTP error occurred: 400 Client Error: Bad Request for url: http://localhost:8090/service/disambiguate\n",
      "HTTP error occurred: 400 Client Error: Bad Request for url: http://localhost:8090/service/disambiguate\n",
      "HTTP error occurred: 400 Client Error: Bad Request for url: http://localhost:8090/service/disambiguate\n",
      "HTTP error occurred: 400 Client Error: Bad Request for url: http://localhost:8090/service/disambiguate\n",
      "HTTP error occurred: 400 Client Error: Bad Request for url: http://localhost:8090/service/disambiguate\n",
      "HTTP error occurred: 400 Client Error: Bad Request for url: http://localhost:8090/service/disambiguate\n",
      "HTTP error occurred: 400 Client Error: Bad Request for url: http://localhost:8090/service/disambiguate\n",
      "HTTP error occurred: 400 Client Error: Bad Request for url: http://localhost:8090/service/disambiguate\n",
      "HTTP error occurred: 400 Client Error: Bad Request for url: http://localhost:8090/service/disambiguate\n",
      "HTTP error occurred: 400 Client Error: Bad Request for url: http://localhost:8090/service/disambiguate\n",
      "HTTP error occurred: 400 Client Error: Bad Request for url: http://localhost:8090/service/disambiguate\n",
      "HTTP error occurred: 400 Client Error: Bad Request for url: http://localhost:8090/service/disambiguate\n",
      "HTTP error occurred: 400 Client Error: Bad Request for url: http://localhost:8090/service/disambiguate\n",
      "HTTP error occurred: 400 Client Error: Bad Request for url: http://localhost:8090/service/disambiguate\n",
      "HTTP error occurred: 400 Client Error: Bad Request for url: http://localhost:8090/service/disambiguate\n",
      "HTTP error occurred: 400 Client Error: Bad Request for url: http://localhost:8090/service/disambiguate\n",
      "HTTP error occurred: 400 Client Error: Bad Request for url: http://localhost:8090/service/disambiguate\n",
      "HTTP error occurred: 400 Client Error: Bad Request for url: http://localhost:8090/service/disambiguate\n",
      "HTTP error occurred: 400 Client Error: Bad Request for url: http://localhost:8090/service/disambiguate\n",
      "HTTP error occurred: 400 Client Error: Bad Request for url: http://localhost:8090/service/disambiguate\n",
      "HTTP error occurred: 400 Client Error: Bad Request for url: http://localhost:8090/service/disambiguate\n",
      "HTTP error occurred: 400 Client Error: Bad Request for url: http://localhost:8090/service/disambiguate\n",
      "HTTP error occurred: 400 Client Error: Bad Request for url: http://localhost:8090/service/disambiguate\n",
      "HTTP error occurred: 400 Client Error: Bad Request for url: http://localhost:8090/service/disambiguate\n",
      "HTTP error occurred: 400 Client Error: Bad Request for url: http://localhost:8090/service/disambiguate\n",
      "HTTP error occurred: 400 Client Error: Bad Request for url: http://localhost:8090/service/disambiguate\n",
      "HTTP error occurred: 400 Client Error: Bad Request for url: http://localhost:8090/service/disambiguate\n",
      "HTTP error occurred: 400 Client Error: Bad Request for url: http://localhost:8090/service/disambiguate\n",
      "HTTP error occurred: 400 Client Error: Bad Request for url: http://localhost:8090/service/disambiguate\n",
      "HTTP error occurred: 400 Client Error: Bad Request for url: http://localhost:8090/service/disambiguate\n",
      "HTTP error occurred: 400 Client Error: Bad Request for url: http://localhost:8090/service/disambiguate\n",
      "HTTP error occurred: 400 Client Error: Bad Request for url: http://localhost:8090/service/disambiguate\n",
      "HTTP error occurred: 400 Client Error: Bad Request for url: http://localhost:8090/service/disambiguate\n",
      "HTTP error occurred: 400 Client Error: Bad Request for url: http://localhost:8090/service/disambiguate\n",
      "HTTP error occurred: 400 Client Error: Bad Request for url: http://localhost:8090/service/disambiguate\n",
      "HTTP error occurred: 400 Client Error: Bad Request for url: http://localhost:8090/service/disambiguate\n",
      "HTTP error occurred: 400 Client Error: Bad Request for url: http://localhost:8090/service/disambiguate\n",
      "HTTP error occurred: 400 Client Error: Bad Request for url: http://localhost:8090/service/disambiguate\n",
      "HTTP error occurred: 400 Client Error: Bad Request for url: http://localhost:8090/service/disambiguate\n",
      "HTTP error occurred: 400 Client Error: Bad Request for url: http://localhost:8090/service/disambiguate\n",
      "HTTP error occurred: 400 Client Error: Bad Request for url: http://localhost:8090/service/disambiguate\n",
      "HTTP error occurred: 400 Client Error: Bad Request for url: http://localhost:8090/service/disambiguate\n",
      "HTTP error occurred: 400 Client Error: Bad Request for url: http://localhost:8090/service/disambiguate\n",
      "HTTP error occurred: 400 Client Error: Bad Request for url: http://localhost:8090/service/disambiguate\n",
      "HTTP error occurred: 400 Client Error: Bad Request for url: http://localhost:8090/service/disambiguate\n",
      "HTTP error occurred: 400 Client Error: Bad Request for url: http://localhost:8090/service/disambiguate\n",
      "HTTP error occurred: 400 Client Error: Bad Request for url: http://localhost:8090/service/disambiguate\n",
      "HTTP error occurred: 400 Client Error: Bad Request for url: http://localhost:8090/service/disambiguate\n",
      "HTTP error occurred: 400 Client Error: Bad Request for url: http://localhost:8090/service/disambiguate\n",
      "HTTP error occurred: 400 Client Error: Bad Request for url: http://localhost:8090/service/disambiguate\n",
      "HTTP error occurred: 400 Client Error: Bad Request for url: http://localhost:8090/service/disambiguate\n",
      "HTTP error occurred: 400 Client Error: Bad Request for url: http://localhost:8090/service/disambiguate\n",
      "HTTP error occurred: 400 Client Error: Bad Request for url: http://localhost:8090/service/disambiguate\n",
      "HTTP error occurred: 400 Client Error: Bad Request for url: http://localhost:8090/service/disambiguate\n",
      "HTTP error occurred: 400 Client Error: Bad Request for url: http://localhost:8090/service/disambiguate\n",
      "HTTP error occurred: 400 Client Error: Bad Request for url: http://localhost:8090/service/disambiguate\n",
      "HTTP error occurred: 400 Client Error: Bad Request for url: http://localhost:8090/service/disambiguate\n",
      "HTTP error occurred: 400 Client Error: Bad Request for url: http://localhost:8090/service/disambiguate\n",
      "HTTP error occurred: 400 Client Error: Bad Request for url: http://localhost:8090/service/disambiguate\n",
      "HTTP error occurred: 400 Client Error: Bad Request for url: http://localhost:8090/service/disambiguate\n",
      "HTTP error occurred: 400 Client Error: Bad Request for url: http://localhost:8090/service/disambiguate\n",
      "HTTP error occurred: 400 Client Error: Bad Request for url: http://localhost:8090/service/disambiguate\n",
      "HTTP error occurred: 400 Client Error: Bad Request for url: http://localhost:8090/service/disambiguate\n",
      "HTTP error occurred: 400 Client Error: Bad Request for url: http://localhost:8090/service/disambiguate\n",
      "HTTP error occurred: 400 Client Error: Bad Request for url: http://localhost:8090/service/disambiguate\n",
      "HTTP error occurred: 400 Client Error: Bad Request for url: http://localhost:8090/service/disambiguate\n",
      "HTTP error occurred: 400 Client Error: Bad Request for url: http://localhost:8090/service/disambiguate\n",
      "HTTP error occurred: 400 Client Error: Bad Request for url: http://localhost:8090/service/disambiguate\n",
      "HTTP error occurred: 400 Client Error: Bad Request for url: http://localhost:8090/service/disambiguate\n",
      "HTTP error occurred: 400 Client Error: Bad Request for url: http://localhost:8090/service/disambiguate\n",
      "HTTP error occurred: 400 Client Error: Bad Request for url: http://localhost:8090/service/disambiguate\n",
      "HTTP error occurred: 400 Client Error: Bad Request for url: http://localhost:8090/service/disambiguate\n",
      "HTTP error occurred: 400 Client Error: Bad Request for url: http://localhost:8090/service/disambiguate\n",
      "HTTP error occurred: 400 Client Error: Bad Request for url: http://localhost:8090/service/disambiguate\n",
      "HTTP error occurred: 400 Client Error: Bad Request for url: http://localhost:8090/service/disambiguate\n",
      "HTTP error occurred: 400 Client Error: Bad Request for url: http://localhost:8090/service/disambiguate\n",
      "HTTP error occurred: 400 Client Error: Bad Request for url: http://localhost:8090/service/disambiguate\n",
      "HTTP error occurred: 400 Client Error: Bad Request for url: http://localhost:8090/service/disambiguate\n",
      "HTTP error occurred: 400 Client Error: Bad Request for url: http://localhost:8090/service/disambiguate\n",
      "HTTP error occurred: 400 Client Error: Bad Request for url: http://localhost:8090/service/disambiguate\n",
      "HTTP error occurred: 400 Client Error: Bad Request for url: http://localhost:8090/service/disambiguate\n",
      "HTTP error occurred: 400 Client Error: Bad Request for url: http://localhost:8090/service/disambiguate\n",
      "HTTP error occurred: 400 Client Error: Bad Request for url: http://localhost:8090/service/disambiguate\n",
      "HTTP error occurred: 400 Client Error: Bad Request for url: http://localhost:8090/service/disambiguate\n",
      "HTTP error occurred: 400 Client Error: Bad Request for url: http://localhost:8090/service/disambiguate\n",
      "HTTP error occurred: 400 Client Error: Bad Request for url: http://localhost:8090/service/disambiguate\n",
      "HTTP error occurred: 400 Client Error: Bad Request for url: http://localhost:8090/service/disambiguate\n",
      "HTTP error occurred: 400 Client Error: Bad Request for url: http://localhost:8090/service/disambiguate\n",
      "HTTP error occurred: 400 Client Error: Bad Request for url: http://localhost:8090/service/disambiguate\n",
      "HTTP error occurred: 400 Client Error: Bad Request for url: http://localhost:8090/service/disambiguate\n",
      "HTTP error occurred: 400 Client Error: Bad Request for url: http://localhost:8090/service/disambiguate\n",
      "HTTP error occurred: 400 Client Error: Bad Request for url: http://localhost:8090/service/disambiguate\n",
      "HTTP error occurred: 400 Client Error: Bad Request for url: http://localhost:8090/service/disambiguate\n",
      "HTTP error occurred: 400 Client Error: Bad Request for url: http://localhost:8090/service/disambiguate\n",
      "HTTP error occurred: 400 Client Error: Bad Request for url: http://localhost:8090/service/disambiguate\n",
      "HTTP error occurred: 400 Client Error: Bad Request for url: http://localhost:8090/service/disambiguate\n",
      "HTTP error occurred: 400 Client Error: Bad Request for url: http://localhost:8090/service/disambiguate\n",
      "HTTP error occurred: 400 Client Error: Bad Request for url: http://localhost:8090/service/disambiguate\n",
      "HTTP error occurred: 400 Client Error: Bad Request for url: http://localhost:8090/service/disambiguate\n",
      "HTTP error occurred: 400 Client Error: Bad Request for url: http://localhost:8090/service/disambiguate\n",
      "HTTP error occurred: 400 Client Error: Bad Request for url: http://localhost:8090/service/disambiguate\n",
      "HTTP error occurred: 400 Client Error: Bad Request for url: http://localhost:8090/service/disambiguate\n",
      "HTTP error occurred: 400 Client Error: Bad Request for url: http://localhost:8090/service/disambiguate\n",
      "HTTP error occurred: 400 Client Error: Bad Request for url: http://localhost:8090/service/disambiguate\n",
      "HTTP error occurred: 400 Client Error: Bad Request for url: http://localhost:8090/service/disambiguate\n",
      "HTTP error occurred: 400 Client Error: Bad Request for url: http://localhost:8090/service/disambiguate\n"
     ]
    }
   ],
   "source": [
    "wikified_gutenberg = {}\n",
    "for title in tqdm(gutenberg_dict.keys()):\n",
    "    response = query_entity_fishing(title)\n",
    "    if 'entities' in response and response['entities']:\n",
    "        # Get the first disambiguated entity\n",
    "        first_entity = response['entities'][0]\n",
    "        if 'wikidataId' in first_entity.keys():\n",
    "            wikiID = first_entity['wikidataId']\n",
    "            wikiname = get_wikidata_label(wikiID)\n",
    "            if wikiname is None:\n",
    "                wikiname = title\n",
    "            wikiname = re.sub(' ', '_', wikiname.upper())\n",
    "            if is_instance_of_literarywork(wikiID):\n",
    "                wikified_gutenberg[title] = [wikiname, wikiID, gutenberg_dict[title]]"
   ]
  },
  {
   "cell_type": "code",
   "execution_count": 27,
   "id": "77b1fdde-72ac-45f3-af90-066ae53a5bae",
   "metadata": {},
   "outputs": [],
   "source": [
    "#save_data('C:/Users/Brottrager/Documents/Diss/corpora/20240714/GER/0_scraping/GutenbergDE/' + today + '_wikified_gutenberg.json', wikified_gutenberg)\n",
    "wikified_gutenberg = load_data('C:/Users/Brottrager/Documents/Diss/corpora/20240714/GER/0_scraping/GutenbergDE/20240821_wikified_gutenberg.json')"
   ]
  },
  {
   "cell_type": "code",
   "execution_count": 28,
   "id": "7cedc14d-a3de-431c-b119-da414e0ba15d",
   "metadata": {},
   "outputs": [],
   "source": [
    "wikified_gutenberg_inverted = {}\n",
    "\n",
    "for key, values in wikified_gutenberg.items():\n",
    "    if values[1] in wikified_gutenberg_inverted:\n",
    "        wikified_gutenberg_inverted[values[1]][0].append(key) \n",
    "        wikified_gutenberg_inverted[values[1]][0].append(values[2]) \n",
    "    else:\n",
    "        wikified_gutenberg_inverted[values[1]] = [[key], values[0], [values[2]]]"
   ]
  },
  {
   "cell_type": "code",
   "execution_count": 29,
   "id": "6093f54a-dca9-4cf9-a0fa-a3e7b70e9d1f",
   "metadata": {},
   "outputs": [
    {
     "data": {
      "application/vnd.jupyter.widget-view+json": {
       "model_id": "ad70c9fe18384b36bf635b1e5e7c8d27",
       "version_major": 2,
       "version_minor": 0
      },
      "text/plain": [
       "  0%|          | 0/35973 [00:00<?, ?it/s]"
      ]
     },
     "metadata": {},
     "output_type": "display_data"
    }
   ],
   "source": [
    "fuzzy_matched_gutenberg = {}\n",
    "\n",
    "for key, values in tqdm(inverted_dict_text.items()):\n",
    "    if key not in wikified_gutenberg:\n",
    "        result = process.extract(key, gutenberg_dict.keys())\n",
    "        if result[0][1] >= 95:\n",
    "            fuzzy_matched_gutenberg[key] = [result[0][0], result[0][1]]"
   ]
  },
  {
   "cell_type": "code",
   "execution_count": 30,
   "id": "6d45f532-8310-4dae-8803-d2f22ae35633",
   "metadata": {},
   "outputs": [],
   "source": [
    "save_data('C:/Users/Brottrager/Documents/Diss/corpora/20240714/GER/0_scraping/GutenbergDE/' + today + '_fuzzy_matched_gutenberg.json', fuzzy_matched_gutenberg)\n",
    "#fuzzy_matched_gutenberg = load_data('C:/Users/Brottrager/Documents/Diss/corpora/20240714/GER/0_scraping/GutenbergDE/' + today + '_fuzzy_matched_gutenberg.json')"
   ]
  },
  {
   "cell_type": "code",
   "execution_count": 31,
   "id": "d22fd028-1e96-49cc-a5f8-ed4d6e4ea021",
   "metadata": {},
   "outputs": [
    {
     "data": {
      "application/vnd.jupyter.widget-view+json": {
       "model_id": "56931e2efdd44003ac3c6d759815c7dd",
       "version_major": 2,
       "version_minor": 0
      },
      "text/plain": [
       "  0%|          | 0/1679 [00:00<?, ?it/s]"
      ]
     },
     "metadata": {},
     "output_type": "display_data"
    }
   ],
   "source": [
    "fuzzy_matched_gutenberg_wikiname = {}\n",
    "\n",
    "for key, values in tqdm(fuzzy_matched_gutenberg.items()):\n",
    "    wikiname = inverted_dict_text[key][0]\n",
    "    if wikiname not in fuzzy_matched_gutenberg_wikiname:\n",
    "        fuzzy_matched_gutenberg_wikiname[wikiname] = {'variations': dict_text[wikiname][0], 'wikiID': dict_text[wikiname][1], 'freq': dict_text[wikiname][3], \n",
    "                                                      'repo_title': values[0], 'repoID': gutenberg_dict[values[0]], 'fuzzy_ratio': values[1]}"
   ]
  },
  {
   "cell_type": "code",
   "execution_count": 32,
   "id": "1f3f5ca0-2b1e-4591-a4cf-7c11183d4697",
   "metadata": {},
   "outputs": [],
   "source": [
    "save_data('C:/Users/Brottrager/Documents/Diss/corpora/20240714/GER/0_scraping/GutenbergDE/' + today + '_fuzzy_matched_gutenberg_wikiname_final.json', fuzzy_matched_gutenberg_wikiname)\n",
    "#fuzzy_matched_gutenberg_wikiname = load_data('C:/Users/Brottrager/Documents/Diss/corpora/20240714/GER/0_scraping/GutenbergDE/' + today + '_fuzzy_matched_gutenberg_wikiname_final.json')"
   ]
  },
  {
   "cell_type": "markdown",
   "id": "a0e0e3bc-b9ac-48eb-9c98-7fed576a693e",
   "metadata": {},
   "source": [
    "#### Zeno"
   ]
  },
  {
   "cell_type": "code",
   "execution_count": 33,
   "id": "1eaca74a-e8d6-446b-9779-ac4180cb7485",
   "metadata": {},
   "outputs": [],
   "source": [
    "zeno_base_html = 'http://www.zeno.org/Lesesaal/M/'"
   ]
  },
  {
   "cell_type": "code",
   "execution_count": 34,
   "id": "62654302-a1ca-4451-bd8a-7eb8f39072f1",
   "metadata": {},
   "outputs": [],
   "source": [
    "abc = string.ascii_uppercase"
   ]
  },
  {
   "cell_type": "code",
   "execution_count": 35,
   "id": "d9da432a-50f7-4ffe-b6fc-91f1e6ed7310",
   "metadata": {},
   "outputs": [],
   "source": [
    "authors_works = {}\n",
    "\n",
    "for n in abc:\n",
    "    html = zeno_base_html + n\n",
    "    page = requests.get(html)\n",
    "    soup = BeautifulSoup(page.content, 'html.parser')\n",
    "    \n",
    "    rows = soup.find_all('tr')\n",
    "    current_author = None\n",
    "    for row in rows:\n",
    "        if 'lsAutor' in row.get('class', []):\n",
    "            # Extract the author name\n",
    "            author_tag = row.find('span', class_='lsAutor')\n",
    "            if author_tag:\n",
    "                current_author = author_tag.text.strip()\n",
    "                if current_author not in authors_works:\n",
    "                    authors_works[current_author] = []\n",
    "        elif 'lsProdukt' in row.get('class', []) and current_author:\n",
    "                # Extract the book title and link from the <td> with class 'lsTitel'\n",
    "                title_td = row.find('td', class_='lsTitel')\n",
    "                if title_td:\n",
    "                    title_tag = title_td.find('a')\n",
    "                    if title_tag:\n",
    "                        title = title_tag.text.strip()\n",
    "                        link = title_tag['href']\n",
    "                        # Append the title and link to the current author\n",
    "                        authors_works[current_author].append([title, link])"
   ]
  },
  {
   "cell_type": "code",
   "execution_count": 36,
   "id": "21ec633d-7cee-49e9-974f-b2bcaf43f40a",
   "metadata": {},
   "outputs": [],
   "source": [
    "zeno_dict = {}\n",
    "\n",
    "for key, values in authors_works.items():\n",
    "    for title in values:\n",
    "        zeno_dict[title[0]] = [key, title[1]]"
   ]
  },
  {
   "cell_type": "code",
   "execution_count": 49,
   "id": "9069038d-784f-43bc-b4fd-a1377d51d160",
   "metadata": {
    "scrolled": true
   },
   "outputs": [
    {
     "data": {
      "application/vnd.jupyter.widget-view+json": {
       "model_id": "d4807781217d44b8b2941202c2de566f",
       "version_major": 2,
       "version_minor": 0
      },
      "text/plain": [
       "  0%|          | 0/2294 [00:00<?, ?it/s]"
      ]
     },
     "metadata": {},
     "output_type": "display_data"
    },
    {
     "name": "stdout",
     "output_type": "stream",
     "text": [
      "HTTP error occurred: 400 Client Error: Bad Request for url: http://localhost:8090/service/disambiguate\n",
      "HTTP error occurred: 400 Client Error: Bad Request for url: http://localhost:8090/service/disambiguate\n",
      "HTTP error occurred: 400 Client Error: Bad Request for url: http://localhost:8090/service/disambiguate\n",
      "HTTP error occurred: 400 Client Error: Bad Request for url: http://localhost:8090/service/disambiguate\n",
      "HTTP error occurred: 400 Client Error: Bad Request for url: http://localhost:8090/service/disambiguate\n",
      "HTTP error occurred: 400 Client Error: Bad Request for url: http://localhost:8090/service/disambiguate\n",
      "HTTP error occurred: 400 Client Error: Bad Request for url: http://localhost:8090/service/disambiguate\n",
      "HTTP error occurred: 400 Client Error: Bad Request for url: http://localhost:8090/service/disambiguate\n",
      "HTTP error occurred: 400 Client Error: Bad Request for url: http://localhost:8090/service/disambiguate\n",
      "HTTP error occurred: 400 Client Error: Bad Request for url: http://localhost:8090/service/disambiguate\n",
      "HTTP error occurred: 400 Client Error: Bad Request for url: http://localhost:8090/service/disambiguate\n",
      "HTTP error occurred: 400 Client Error: Bad Request for url: http://localhost:8090/service/disambiguate\n",
      "HTTP error occurred: 400 Client Error: Bad Request for url: http://localhost:8090/service/disambiguate\n",
      "HTTP error occurred: 400 Client Error: Bad Request for url: http://localhost:8090/service/disambiguate\n",
      "HTTP error occurred: 400 Client Error: Bad Request for url: http://localhost:8090/service/disambiguate\n",
      "HTTP error occurred: 400 Client Error: Bad Request for url: http://localhost:8090/service/disambiguate\n"
     ]
    }
   ],
   "source": [
    "wikified_zeno = {}\n",
    "for title in tqdm(zeno_dict.keys()):\n",
    "    response = query_entity_fishing(title)\n",
    "    if 'entities' in response and response['entities']:\n",
    "        # Get the first disambiguated entity\n",
    "        first_entity = response['entities'][0]\n",
    "        if 'wikidataId' in first_entity.keys():\n",
    "            wikiID = first_entity['wikidataId']\n",
    "            wikiname = get_wikidata_label(wikiID)\n",
    "            if wikiname is None:\n",
    "                wikiname = title\n",
    "            wikiname = re.sub(' ', '_', wikiname.upper())\n",
    "            if is_instance_of_literarywork(wikiID):\n",
    "                wikified_zeno[title] = [wikiname, wikiID, zeno_dict[title][1]]"
   ]
  },
  {
   "cell_type": "code",
   "execution_count": 37,
   "id": "c00a256c-d212-4c25-a8cd-7bfeeee7ec04",
   "metadata": {},
   "outputs": [],
   "source": [
    "#save_data('C:/Users/Brottrager/Documents/Diss/corpora/20240714/GER/0_scraping/zeno/' + today + '_wikified_zeno.json', wikified_zeno)\n",
    "wikified_zeno = load_data('C:/Users/Brottrager/Documents/Diss/corpora/20240714/GER/0_scraping/zeno/20240821_wikified_zeno.json')"
   ]
  },
  {
   "cell_type": "code",
   "execution_count": 38,
   "id": "d3bdae9f-27bd-472b-8d8f-81946e22f274",
   "metadata": {},
   "outputs": [],
   "source": [
    "wikified_zeno_inverted = {}\n",
    "\n",
    "for key, values in wikified_zeno.items():\n",
    "    if values[1] in wikified_zeno_inverted:\n",
    "        wikified_zeno_inverted[values[1]][0].append(key) \n",
    "        wikified_zeno_inverted[values[1]][0].append(values[2]) \n",
    "    else:\n",
    "        wikified_zeno_inverted[values[1]] = [[key], values[0], [values[2]]]"
   ]
  },
  {
   "cell_type": "code",
   "execution_count": 39,
   "id": "315f7078-07a0-4859-b0d5-40ce6f705f25",
   "metadata": {},
   "outputs": [
    {
     "data": {
      "application/vnd.jupyter.widget-view+json": {
       "model_id": "1333725d8ea4426f8a2292d5a61045bd",
       "version_major": 2,
       "version_minor": 0
      },
      "text/plain": [
       "  0%|          | 0/35973 [00:00<?, ?it/s]"
      ]
     },
     "metadata": {},
     "output_type": "display_data"
    }
   ],
   "source": [
    "fuzzy_matched_zeno = {}\n",
    "\n",
    "for key, values in tqdm(inverted_dict_text.items()):\n",
    "    if key not in wikified_zeno:\n",
    "        result = process.extract(key, zeno_dict.keys())\n",
    "        if result[0][1] >= 95:\n",
    "            fuzzy_matched_zeno[key] = [result[0][0], result[0][1]]"
   ]
  },
  {
   "cell_type": "code",
   "execution_count": 40,
   "id": "75b47192-92d9-4308-9804-36b178909688",
   "metadata": {},
   "outputs": [],
   "source": [
    "save_data('C:/Users/Brottrager/Documents/Diss/corpora/20240714/GER/0_scraping/zeno/' + today + '_fuzzy_matched_zeno.json', fuzzy_matched_zeno)\n",
    "#fuzzy_matched_zeno = load_data('C:/Users/Brottrager/Documents/Diss/corpora/20240714/GER/0_scraping/zeno/' + today + '_fuzzy_matched_zeno.json')"
   ]
  },
  {
   "cell_type": "code",
   "execution_count": 41,
   "id": "94806e40-f1a7-4c26-b9d4-c5a1ea6d2115",
   "metadata": {},
   "outputs": [
    {
     "data": {
      "application/vnd.jupyter.widget-view+json": {
       "model_id": "b4b6c5eb74284247895967dc7a8bc09c",
       "version_major": 2,
       "version_minor": 0
      },
      "text/plain": [
       "  0%|          | 0/602 [00:00<?, ?it/s]"
      ]
     },
     "metadata": {},
     "output_type": "display_data"
    }
   ],
   "source": [
    "fuzzy_matched_zeno_wikiname = {}\n",
    "\n",
    "for key, values in tqdm(fuzzy_matched_zeno.items()):\n",
    "    wikiname = inverted_dict_text[key][0]\n",
    "    if wikiname not in fuzzy_matched_zeno_wikiname:\n",
    "        fuzzy_matched_zeno_wikiname[wikiname] = {'variations': dict_text[wikiname][0], 'wikiID': dict_text[wikiname][1], 'freq': dict_text[wikiname][3], \n",
    "                                                      'repo_title': values[0], 'repoID': zeno_dict[values[0]][1], 'fuzzy_ratio': values[1]}"
   ]
  },
  {
   "cell_type": "code",
   "execution_count": 42,
   "id": "1b1f7467-2d68-46eb-b59b-d6762d98fd12",
   "metadata": {},
   "outputs": [],
   "source": [
    "save_data('C:/Users/Brottrager/Documents/Diss/corpora/20240714/GER/0_scraping/zeno/' + today + '_fuzzy_matched_zeno_wikiname_final.json', fuzzy_matched_zeno_wikiname)\n",
    "#fuzzy_matched_zeno_wikiname = load_data('C:/Users/Brottrager/Documents/Diss/corpora/20240714/GER/0_scraping/zeno/' + today + '_fuzzy_matched_zeno_wikiname_final.json')"
   ]
  },
  {
   "cell_type": "markdown",
   "id": "1aa3a6cd-05d0-4305-bc93-f8734f025384",
   "metadata": {},
   "source": [
    "#### Consolidate with Existing Metadata Table"
   ]
  },
  {
   "cell_type": "code",
   "execution_count": 43,
   "id": "069e24fb-fed1-4a07-b160-d3d4b7dcb433",
   "metadata": {},
   "outputs": [],
   "source": [
    "metadata_old = pd.read_csv('C:/Users/Brottrager/Documents/Diss/metadata/ger/database/GER_texts_meta.csv', sep=';')"
   ]
  },
  {
   "cell_type": "code",
   "execution_count": 44,
   "id": "2effb59b-e765-4aa4-b86e-7bf69d6cd057",
   "metadata": {},
   "outputs": [],
   "source": [
    "metadata = metadata_old.to_dict('records')"
   ]
  },
  {
   "cell_type": "code",
   "execution_count": 45,
   "id": "fecfcbe6-8652-436c-89dd-2beeccbe92e9",
   "metadata": {},
   "outputs": [],
   "source": [
    "metadata_dict = {}\n",
    "for record in metadata:\n",
    "    key = record['title']\n",
    "    metadata_dict[key] = {k: v for k, v in record.items() if k != 'title'}"
   ]
  },
  {
   "cell_type": "code",
   "execution_count": 46,
   "id": "700f090c-305b-42a8-8fa6-fae3a3ac3195",
   "metadata": {
    "scrolled": true
   },
   "outputs": [
    {
     "data": {
      "application/vnd.jupyter.widget-view+json": {
       "model_id": "01ed1164c35b49cc82b55ae42fd96af7",
       "version_major": 2,
       "version_minor": 0
      },
      "text/plain": [
       "  0%|          | 0/547 [00:00<?, ?it/s]"
      ]
     },
     "metadata": {},
     "output_type": "display_data"
    }
   ],
   "source": [
    "fuzzy_matched_metadata = {}\n",
    "\n",
    "for title in tqdm(metadata_old['title']):\n",
    "    result = process.extract(title, inverted_dict_text.keys())\n",
    "    if result[0][1] >= 95:\n",
    "        fuzzy_matched_metadata[result[0][0]] = [title, result[0][1]]"
   ]
  },
  {
   "cell_type": "code",
   "execution_count": 47,
   "id": "72f8b7c2-f04a-4c3a-a745-38226ea3f144",
   "metadata": {},
   "outputs": [],
   "source": [
    "save_data('C:/Users/Brottrager/Documents/Diss/corpora/20240714/GER/0_scraping/' + today + '_fuzzy_matched_metadata.json', fuzzy_matched_metadata)\n",
    "#fuzzy_matched_metadata = load_data('C:/Users/Brottrager/Documents/Diss/corpora/20240714/ENG/0_scraping/' + today + '_fuzzy_matched_metadata.json')"
   ]
  },
  {
   "cell_type": "markdown",
   "id": "b140a242-d917-41df-a130-4f09dea6a542",
   "metadata": {},
   "source": [
    "### Data Consolidation and Matching"
   ]
  },
  {
   "cell_type": "code",
   "execution_count": 48,
   "id": "8234eddd-860a-4275-af25-d3ed905de628",
   "metadata": {},
   "outputs": [
    {
     "data": {
      "application/vnd.jupyter.widget-view+json": {
       "model_id": "0ebe445ad9cf40b4893a1fa2789ce1af",
       "version_major": 2,
       "version_minor": 0
      },
      "text/plain": [
       "  0%|          | 0/35203 [00:00<?, ?it/s]"
      ]
     },
     "metadata": {},
     "output_type": "display_data"
    }
   ],
   "source": [
    "dict_all_info = {}\n",
    "dict_all_info_wikiID = {}\n",
    "empty_wiki_info = {'repo_title': np.nan, 'repoID': np.nan, 'fuzzy_ratio': np.nan}\n",
    "empty_additional_info = {'author_viaf': np.nan, 'id': np.nan, 'file_name': np.nan, 'pub_year': np.nan, 'repo': np.nan}\n",
    "\n",
    "for key, values in tqdm(dict_text.items()):\n",
    "\n",
    "    # TEXTGRID\n",
    "    if key in fuzzy_matched_textgrid_wikiname:\n",
    "\n",
    "        wikiID = values[1]   \n",
    "        duplicate = False\n",
    "        empty = False\n",
    "\n",
    "        if wikiID != 'noWikiID':\n",
    "            if wikiID not in dict_all_info_wikiID:\n",
    "                dict_all_info_wikiID[fuzzy_matched_textgrid_wikiname[key]['wikiID']] = [key]\n",
    "            else: \n",
    "                dict_all_info_wikiID[fuzzy_matched_textgrid_wikiname[key]['wikiID']].append(key) \n",
    "                duplicate = True\n",
    "\n",
    "        if duplicate:\n",
    "            existing_key = dict_all_info_wikiID[fuzzy_matched_textgrid_wikiname[key]['wikiID']][0]\n",
    "            dict_all_info[existing_key]['freq'] += dict_text[key][3]\n",
    "            continue\n",
    "            \n",
    "        for v in fuzzy_matched_textgrid_wikiname[key]['variations']:\n",
    "            empty = True\n",
    "            if v in fuzzy_matched_metadata:\n",
    "                additional_info = metadata_dict[fuzzy_matched_metadata[v][0]]\n",
    "                dict_all_info[key] = {**fuzzy_matched_textgrid_wikiname[key], **additional_info}\n",
    "                dict_all_info[key]['repo'] = 'Textgrid'\n",
    "                empty = False\n",
    "                break\n",
    "                \n",
    "        if empty == True:\n",
    "            dict_all_info[key] = {**fuzzy_matched_textgrid_wikiname[key], **empty_additional_info}\n",
    "\n",
    "    # GUTENBERG-DE    \n",
    "    elif key in fuzzy_matched_gutenberg_wikiname:\n",
    "\n",
    "        wikiID = values[1]   \n",
    "        duplicate = False\n",
    "        empty = False\n",
    "\n",
    "        if wikiID != 'noWikiID':\n",
    "            if wikiID not in dict_all_info_wikiID:\n",
    "                dict_all_info_wikiID[fuzzy_matched_gutenberg_wikiname[key]['wikiID']] = [key]\n",
    "            else: \n",
    "                dict_all_info_wikiID[fuzzy_matched_gutenberg_wikiname[key]['wikiID']].append(key) \n",
    "                duplicate = True\n",
    "\n",
    "        if duplicate:\n",
    "            existing_key = dict_all_info_wikiID[fuzzy_matched_gutenberg_wikiname[key]['wikiID']][0]\n",
    "            dict_all_info[existing_key]['freq'] += dict_text[key][3]\n",
    "            continue\n",
    "            \n",
    "        for v in fuzzy_matched_gutenberg_wikiname[key]['variations']:\n",
    "            empty = True\n",
    "            if v in fuzzy_matched_metadata:\n",
    "                additional_info = metadata_dict[fuzzy_matched_metadata[v][0]]\n",
    "                dict_all_info[key] = {**fuzzy_matched_gutenberg_wikiname[key], **additional_info}\n",
    "                dict_all_info[key]['repo'] = 'Gutenberg-DE'\n",
    "                empty = False\n",
    "                break\n",
    "            \n",
    "        if empty == True:\n",
    "            dict_all_info[key] = {**fuzzy_matched_gutenberg_wikiname[key], **empty_additional_info}\n",
    "    \n",
    "\n",
    "    # ZENO\n",
    "    elif key in fuzzy_matched_zeno_wikiname:\n",
    "\n",
    "        wikiID = values[1]   \n",
    "        duplicate = False\n",
    "        empty = False\n",
    "\n",
    "        if wikiID != 'noWikiID':\n",
    "            if wikiID not in dict_all_info_wikiID:\n",
    "                dict_all_info_wikiID[fuzzy_matched_zeno_wikiname[key]['wikiID']] = [key]\n",
    "            else: \n",
    "                dict_all_info_wikiID[fuzzy_matched_zeno_wikiname[key]['wikiID']].append(key) \n",
    "                duplicate = True\n",
    "\n",
    "        if duplicate:\n",
    "            existing_key = dict_all_info_wikiID[fuzzy_matched_zeno_wikiname[key]['wikiID']][0]\n",
    "            dict_all_info[existing_key]['freq'] += dict_text[key][3]\n",
    "            continue\n",
    "            \n",
    "        for v in fuzzy_matched_zeno_wikiname[key]['variations']:\n",
    "            empty = True\n",
    "            if v in fuzzy_matched_metadata:\n",
    "                additional_info = metadata_dict[fuzzy_matched_metadata[v][0]]\n",
    "                dict_all_info[key] = {**fuzzy_matched_zeno_wikiname[key], **additional_info}\n",
    "                dict_all_info[key]['repo'] = 'Zeno'\n",
    "                empty = False\n",
    "                break\n",
    "            \n",
    "        if empty == True:\n",
    "            dict_all_info[key] = {**fuzzy_matched_zeno_wikiname[key], **empty_additional_info}\n",
    "\n",
    "    # NO MATCHES\n",
    "    else:\n",
    "        empty = True\n",
    "        for v in values[0]:\n",
    "            if v in fuzzy_matched_metadata:\n",
    "                additional_info = metadata_dict[fuzzy_matched_metadata[v][0]]\n",
    "                info = {'variations': dict_text[key][0], 'wikiID': dict_text[key][1], 'freq': dict_text[key][3]}\n",
    "                dict_all_info[key] = {**info, **empty_wiki_info, **additional_info}\n",
    "                dict_all_info[key]['repo'] = np.nan\n",
    "                empty = False\n",
    "                break\n",
    "\n",
    "        if empty == True:\n",
    "            dict_all_info[key] = {'variations': dict_text[key][0], 'wikiID': dict_text[key][1], 'freq': dict_text[key][3], 'repo_title': np.nan,\n",
    "                                  'repoID': np.nan, 'fuzzy_ratio': np.nan, 'author_viaf': np.nan, 'id': np.nan, 'file_name': np.nan, 'pub_year': np.nan,\n",
    "                                 'repo': np.nan}\n",
    "        \n",
    "    dict_all_info[key]['genre'] = np.nan        "
   ]
  },
  {
   "cell_type": "markdown",
   "id": "bbe9c1ca-1442-4f14-99e8-eb2b24f7004f",
   "metadata": {},
   "source": [
    "If an entry has a wikiID, wikidata is queried for genre attributions and publication years. "
   ]
  },
  {
   "cell_type": "code",
   "execution_count": 49,
   "id": "eadfa0ae-1f83-480c-8949-1b68337af0ba",
   "metadata": {},
   "outputs": [
    {
     "data": {
      "application/vnd.jupyter.widget-view+json": {
       "model_id": "f9ea03a1f6ca41699b95795f90ea4de4",
       "version_major": 2,
       "version_minor": 0
      },
      "text/plain": [
       "  0%|          | 0/35199 [00:00<?, ?it/s]"
      ]
     },
     "metadata": {},
     "output_type": "display_data"
    }
   ],
   "source": [
    "for key, values in tqdm(dict_all_info.items()):\n",
    "    if values['wikiID'] != 'noWikiID':\n",
    "        values['genre'] = get_genres_and_forms_of_creative_work(values['wikiID'])\n",
    "        if pd.isna(values['pub_year']):\n",
    "            values['pub_year'] = get_publication_date(values['wikiID'])"
   ]
  },
  {
   "cell_type": "code",
   "execution_count": 50,
   "id": "25e3e43c-6968-4a5d-82ec-8e9b4cb9dd60",
   "metadata": {},
   "outputs": [
    {
     "data": {
      "application/vnd.jupyter.widget-view+json": {
       "model_id": "93e09cc448f54c87abcc6bd4c2ef0aa4",
       "version_major": 2,
       "version_minor": 0
      },
      "text/plain": [
       "  0%|          | 0/35199 [00:00<?, ?it/s]"
      ]
     },
     "metadata": {},
     "output_type": "display_data"
    }
   ],
   "source": [
    "for key, values in tqdm(dict_all_info.items()):\n",
    "    dict_all_info[key]['prose'] = 0\n",
    "    if isinstance(values['genre'], tuple):\n",
    "        if values['genre'] != (None, None):\n",
    "            strings = [element for sublist in values['genre'] for element in sublist if isinstance(element, str)]\n",
    "            result = ' '.join(strings)\n",
    "            if 'novel' in result or 'story' in result or 'stories' in result or 'novella' in result:\n",
    "                dict_all_info[key]['prose'] = 1"
   ]
  },
  {
   "cell_type": "code",
   "execution_count": 51,
   "id": "cb7d6bdd-692b-4570-bd0e-f6b118fda512",
   "metadata": {},
   "outputs": [],
   "source": [
    "save_data('C:/Users/Brottrager/Documents/Diss/corpora/20240714/GER/0_scraping/' + today + '_dict_all_info.json', dict_all_info)\n",
    "#dict_all_info = load_data('C:/Users/Brottrager/Documents/Diss/corpora/20240714/GER/0_scraping/' + today + '_dict_all_info.json')"
   ]
  },
  {
   "cell_type": "code",
   "execution_count": 52,
   "id": "d86461d3-dcfa-4399-98d9-1eaa709ae662",
   "metadata": {},
   "outputs": [],
   "source": [
    "df = pd.DataFrame.from_dict(dict_all_info, orient='index')\n",
    "df = df.reset_index().rename(columns={'index': 'wikiname'})"
   ]
  },
  {
   "cell_type": "code",
   "execution_count": 53,
   "id": "3ce56d13-4841-4bf2-9b67-f1005dd26f1b",
   "metadata": {},
   "outputs": [],
   "source": [
    "df.to_csv('C:/Users/Brottrager/Documents/Diss/corpora/20240714/GER/0_scraping/' + today + '_df_all_info.csv', encoding='utf8', sep=';')"
   ]
  },
  {
   "cell_type": "markdown",
   "id": "5887da57-007d-4874-a47e-ce691183ec9a",
   "metadata": {},
   "source": [
    "### Manual Correction"
   ]
  },
  {
   "cell_type": "code",
   "execution_count": 79,
   "id": "f598b765-df45-4cef-904c-248ca02333be",
   "metadata": {},
   "outputs": [
    {
     "name": "stderr",
     "output_type": "stream",
     "text": [
      "C:\\Users\\Brottrager\\AppData\\Local\\Temp\\ipykernel_20192\\743505797.py:1: DtypeWarning: Columns (2,6,7,9,11,13,14,17) have mixed types. Specify dtype option on import or set low_memory=False.\n",
      "  df_manual = pd.read_csv('C:/Users/Brottrager/Documents/Diss/corpora/20240714/GER/0_scraping/20240821_matched_entities_texts_final.csv', encoding='utf8', sep=';')\n"
     ]
    }
   ],
   "source": [
    "df_manual = pd.read_csv('C:/Users/Brottrager/Documents/Diss/corpora/20240714/GER/0_scraping/20240821_matched_entities_texts_final.csv', encoding='utf8', sep=';')\n",
    "df_manual.set_index('wikiname', inplace=True)\n",
    "dict_manual = df_manual.to_dict(orient='index')"
   ]
  },
  {
   "cell_type": "code",
   "execution_count": 80,
   "id": "b1e97d80-ca10-4a35-9ab4-42b1341af2e3",
   "metadata": {},
   "outputs": [
    {
     "data": {
      "application/vnd.jupyter.widget-view+json": {
       "model_id": "6d5565bb66a8492ebb2758d3cd46a3bd",
       "version_major": 2,
       "version_minor": 0
      },
      "text/plain": [
       "  0%|          | 0/35199 [00:00<?, ?it/s]"
      ]
     },
     "metadata": {},
     "output_type": "display_data"
    }
   ],
   "source": [
    "dict_all_info_manuallycorrected = {}\n",
    "\n",
    "for key, values in tqdm(dict_all_info.items()):\n",
    "    dict_all_info_manuallycorrected[key] = dict_all_info[key]\n",
    "    dict_all_info_manuallycorrected[key]['prose_fiction'] = 0\n",
    "    dict_all_info_manuallycorrected[key]['done'] = 0\n",
    "    if key in dict_manual:\n",
    "        dict_all_info_manuallycorrected[key]['pub_year'] = dict_manual[key]['pub_year']\n",
    "        dict_all_info_manuallycorrected[key]['genre'] = dict_manual[key]['genre']\n",
    "        dict_all_info_manuallycorrected[key]['repoID'] = dict_manual[key]['repoID']\n",
    "        dict_all_info_manuallycorrected[key]['prose_fiction'] = dict_manual[key]['prose_fiction']\n",
    "        dict_all_info_manuallycorrected[key]['comment_exclusion'] = dict_manual[key]['comment_exclusion']\n",
    "        dict_all_info_manuallycorrected[key]['done'] = dict_manual[key]['done']"
   ]
  },
  {
   "cell_type": "code",
   "execution_count": 81,
   "id": "30e2356d-68b1-4b4c-9966-569292b4255d",
   "metadata": {},
   "outputs": [],
   "source": [
    "df = pd.DataFrame.from_dict(dict_all_info_manuallycorrected, orient='index')\n",
    "df = df.reset_index().rename(columns={'index': 'wikiname'})"
   ]
  },
  {
   "cell_type": "code",
   "execution_count": 82,
   "id": "97abdae1-08a7-431b-809e-74d3eb39e5ce",
   "metadata": {},
   "outputs": [],
   "source": [
    "df_manual = pd.read_csv('C:/Users/Brottrager/Documents/Diss/corpora/20240714/GER/0_scraping/20240920_matched_entities_texts_final.csv', encoding='utf8', sep=';')\n",
    "df_manual.set_index('wikiname', inplace=True)\n",
    "dict_manual = df_manual.to_dict(orient='index')"
   ]
  },
  {
   "cell_type": "code",
   "execution_count": 83,
   "id": "de23f818-229c-41b2-8813-c3bef1eb10eb",
   "metadata": {},
   "outputs": [
    {
     "data": {
      "application/vnd.jupyter.widget-view+json": {
       "model_id": "8f44b503e3bd496ab1fb89d894f51f40",
       "version_major": 2,
       "version_minor": 0
      },
      "text/plain": [
       "  0%|          | 0/18838 [00:00<?, ?it/s]"
      ]
     },
     "metadata": {},
     "output_type": "display_data"
    }
   ],
   "source": [
    "for key, values in tqdm(dict_manual.items()):\n",
    "    if key in dict_all_info_manuallycorrected:\n",
    "        dict_all_info_manuallycorrected[key]['pub_year'] = dict_manual[key]['pub_year']\n",
    "        dict_all_info_manuallycorrected[key]['genre'] = dict_manual[key]['genre']\n",
    "        dict_all_info_manuallycorrected[key]['repoID'] = dict_manual[key]['repoID']\n",
    "        dict_all_info_manuallycorrected[key]['prose_fiction'] = dict_manual[key]['prose_fiction']\n",
    "        dict_all_info_manuallycorrected[key]['comment_exclusion'] = dict_manual[key]['comment_exclusion']\n",
    "        dict_all_info_manuallycorrected[key]['done'] = 'NA'"
   ]
  },
  {
   "cell_type": "code",
   "execution_count": 84,
   "id": "c5f1dda3-af2c-4de1-94f4-3af5d8602882",
   "metadata": {},
   "outputs": [],
   "source": [
    "df = pd.DataFrame.from_dict(dict_all_info_manuallycorrected, orient='index')\n",
    "df = df.reset_index().rename(columns={'index': 'wikiname'})"
   ]
  },
  {
   "cell_type": "code",
   "execution_count": 85,
   "id": "1a97f832-3b2d-4c23-8393-8e1d1ea451fd",
   "metadata": {},
   "outputs": [],
   "source": [
    "df.to_csv('C:/Users/Brottrager/Documents/Diss/corpora/20240714/GER/0_scraping/' + today + '_matched_entities_texts_final.csv', encoding='utf8', sep=';')"
   ]
  },
  {
   "cell_type": "markdown",
   "id": "e6cc91be-ca86-43c9-a0a8-9319d62be2b4",
   "metadata": {},
   "source": [
    "Manual check"
   ]
  },
  {
   "cell_type": "code",
   "execution_count": 12,
   "id": "21c0a61b-00a3-4661-9c46-b91b7c762c8f",
   "metadata": {},
   "outputs": [
    {
     "name": "stderr",
     "output_type": "stream",
     "text": [
      "C:\\Users\\Brottrager\\AppData\\Local\\Temp\\ipykernel_24388\\2367619295.py:1: DtypeWarning: Columns (18) have mixed types. Specify dtype option on import or set low_memory=False.\n",
      "  df_manuallycorrected = pd.read_csv('C:/Users/Brottrager/Documents/Diss/corpora/20240714/GER/0_scraping/' + today + '_matched_entities_texts_final_ALL.csv', encoding='utf8', sep=';')\n"
     ]
    }
   ],
   "source": [
    "df_manuallycorrected = pd.read_csv('C:/Users/Brottrager/Documents/Diss/corpora/20240714/GER/0_scraping/' + today + '_matched_entities_texts_final_ALL.csv', encoding='utf8', sep=';')"
   ]
  },
  {
   "cell_type": "code",
   "execution_count": 13,
   "id": "33c2d9fb-282a-4985-aed2-1da589941590",
   "metadata": {},
   "outputs": [],
   "source": [
    "manuallycorrected = df_manuallycorrected.to_dict('records')"
   ]
  },
  {
   "cell_type": "code",
   "execution_count": 14,
   "id": "8ab70e9b-d4ec-4744-a1d7-13ad5d69a07b",
   "metadata": {},
   "outputs": [],
   "source": [
    "dict_manuallycorrected = {}\n",
    "for record in manuallycorrected:\n",
    "    key = record['wikiname']\n",
    "    if record['comment_exclusion'] != 'duplicate':\n",
    "        dict_manuallycorrected[key] = {k: v for k, v in record.items() if k != 'title'}"
   ]
  },
  {
   "cell_type": "code",
   "execution_count": 15,
   "id": "72ad060e-df4d-4a8e-a804-107ceae6a869",
   "metadata": {},
   "outputs": [],
   "source": [
    "counter_wiki_entities = 0\n",
    "\n",
    "for key, values in dict_manuallycorrected.items():\n",
    "    if values['wikiID'] != 'noWikiID':\n",
    "        counter_wiki_entities += 1"
   ]
  },
  {
   "cell_type": "code",
   "execution_count": 16,
   "id": "fb100bd1-8de8-4cb0-8847-1361a735cffa",
   "metadata": {},
   "outputs": [
    {
     "data": {
      "text/plain": [
       "35176"
      ]
     },
     "execution_count": 16,
     "metadata": {},
     "output_type": "execute_result"
    }
   ],
   "source": [
    "len(dict_manuallycorrected)"
   ]
  },
  {
   "cell_type": "code",
   "execution_count": 17,
   "id": "112bfbcd-72bc-4ea6-84e4-ddb0ba2734bb",
   "metadata": {},
   "outputs": [
    {
     "name": "stdout",
     "output_type": "stream",
     "text": [
      "0.039430293381851264\n"
     ]
    }
   ],
   "source": [
    "n = len(dict_manuallycorrected)\n",
    "p = counter_wiki_entities/n\n",
    "\n",
    "print(p)"
   ]
  },
  {
   "cell_type": "markdown",
   "id": "e0f98196-8e31-4cf6-b152-60b0a9a1e364",
   "metadata": {},
   "source": [
    "Only 4% of all detected text titles have a corresponding wikidata entry. "
   ]
  },
  {
   "cell_type": "code",
   "execution_count": 18,
   "id": "c91e91ae-40e5-4bbe-9d8d-6777c360a9cf",
   "metadata": {
    "scrolled": true
   },
   "outputs": [],
   "source": [
    "df_filtered = pd.read_csv('C:/Users/Brottrager/Documents/Diss/RelatingTheUnread/corpora/GER_corpus.csv', encoding='utf8', sep=';')"
   ]
  },
  {
   "cell_type": "code",
   "execution_count": 19,
   "id": "941a1554-e289-4fb3-896b-a93b701d26c6",
   "metadata": {},
   "outputs": [],
   "source": [
    "filtered = df_filtered.set_index(\"wikiname\").to_dict(orient=\"index\")"
   ]
  },
  {
   "cell_type": "code",
   "execution_count": 20,
   "id": "61e5f575-d991-4f94-aa38-e56b662db7c3",
   "metadata": {},
   "outputs": [],
   "source": [
    "counter_wiki_entities = 0\n",
    "\n",
    "for key, values in filtered.items():\n",
    "    if values['wikiID'] != 'noWikiID':\n",
    "        counter_wiki_entities += 1"
   ]
  },
  {
   "cell_type": "code",
   "execution_count": 21,
   "id": "c1e0a686-ed6f-4cfb-9a56-5dd2c5d41193",
   "metadata": {},
   "outputs": [
    {
     "data": {
      "text/plain": [
       "571"
      ]
     },
     "execution_count": 21,
     "metadata": {},
     "output_type": "execute_result"
    }
   ],
   "source": [
    "len(filtered)"
   ]
  },
  {
   "cell_type": "code",
   "execution_count": 22,
   "id": "444dc1a9-8bfa-40cb-855f-71b04022a45f",
   "metadata": {},
   "outputs": [
    {
     "name": "stdout",
     "output_type": "stream",
     "text": [
      "0.4413309982486865\n"
     ]
    }
   ],
   "source": [
    "n = len(filtered)\n",
    "p = counter_wiki_entities/n\n",
    "\n",
    "print(p)"
   ]
  },
  {
   "cell_type": "markdown",
   "id": "f4b29366-b397-45a2-9e2a-70703c4f4933",
   "metadata": {},
   "source": [
    "44% of all detected text titles in the corpus list have a corresponding wikidata entry. "
   ]
  },
  {
   "cell_type": "code",
   "execution_count": 50,
   "id": "aacc283b-24a2-4d0b-97a8-75dfca2bfb01",
   "metadata": {},
   "outputs": [],
   "source": [
    "save_data('C:/Users/Brottrager/Documents/Diss/corpora/20240714/GER/0_scraping/' + today + '_dict_corpus.json', filtered)"
   ]
  }
 ],
 "metadata": {
  "kernelspec": {
   "display_name": "Python 3 (ipykernel)",
   "language": "python",
   "name": "python3"
  },
  "language_info": {
   "codemirror_mode": {
    "name": "ipython",
    "version": 3
   },
   "file_extension": ".py",
   "mimetype": "text/x-python",
   "name": "python",
   "nbconvert_exporter": "python",
   "pygments_lexer": "ipython3",
   "version": "3.11.9"
  }
 },
 "nbformat": 4,
 "nbformat_minor": 5
}
