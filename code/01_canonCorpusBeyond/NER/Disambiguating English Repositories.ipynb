{
 "cells": [
  {
   "cell_type": "markdown",
   "id": "b0a873e4-3a15-40ea-befc-5e880a8de8a3",
   "metadata": {},
   "source": [
    "# Disambiguating English Repositories"
   ]
  },
  {
   "cell_type": "markdown",
   "id": "e310b686-da03-4847-a153-856aaa135a2b",
   "metadata": {},
   "source": [
    "--- Last edited: 2024-09-26 ---"
   ]
  },
  {
   "cell_type": "code",
   "execution_count": 2,
   "id": "64e2252a",
   "metadata": {},
   "outputs": [],
   "source": [
    "import collections\n",
    "from datetime import date\n",
    "import glob\n",
    "import json\n",
    "import os\n",
    "from pathlib import Path\n",
    "import pickle\n",
    "import random\n",
    "import requests\n",
    "import re\n",
    "import string\n",
    "import sys\n",
    "import time\n",
    "from tqdm import tqdm\n",
    "import csv\n",
    "import numpy as np\n",
    "import pandas as pd\n",
    "from tqdm.notebook import tqdm\n",
    "import shutil\n",
    "\n",
    "import qwikidata\n",
    "from qwikidata.sparql  import return_sparql_query_results\n",
    "\n",
    "from urllib.parse import urlencode\n",
    "\n",
    "from bs4 import BeautifulSoup\n",
    "import xml.etree.ElementTree as ET\n",
    "from lxml import etree\n",
    "\n",
    "from thefuzz import fuzz\n",
    "from thefuzz import process"
   ]
  },
  {
   "cell_type": "markdown",
   "id": "d740f882-f435-43e0-a9f1-8d9e09064828",
   "metadata": {},
   "source": [
    "### Functions"
   ]
  },
  {
   "cell_type": "code",
   "execution_count": 3,
   "id": "a8cad3b5-4aac-4e2b-b799-3464fcd27bd2",
   "metadata": {},
   "outputs": [],
   "source": [
    "def load_data(file):\n",
    "    with open(file, \"r\", encoding = \"utf-8\") as f:\n",
    "        data = json.load(f)\n",
    "    return(data)\n",
    "\n",
    "def save_data(file, data):\n",
    "    with open(file, \"w\", encoding = \"utf-8\") as f:\n",
    "        json.dump(data, f, indent = 4)"
   ]
  },
  {
   "cell_type": "code",
   "execution_count": 4,
   "id": "e27a6a9a",
   "metadata": {},
   "outputs": [],
   "source": [
    "def query_entity_fishing(text, language='en'):\n",
    "    headers = {\n",
    "        'Content-Type': 'application/json'\n",
    "    }\n",
    "    data = {\n",
    "        \"text\": text,\n",
    "        \"language\": language  # Specify language if needed\n",
    "    }\n",
    "    try:\n",
    "        # Send a POST request to the Entity Fishing API\n",
    "        response = requests.post(api_url, headers=headers, data=json.dumps(data))\n",
    "        # Raise an error for bad HTTP status codes\n",
    "        response.raise_for_status()\n",
    "        # Parse the JSON response\n",
    "        return response.json()\n",
    "    except requests.exceptions.HTTPError as http_err:\n",
    "        print(f\"HTTP error occurred: {http_err}\")  # Handle HTTP errors\n",
    "        return {}\n",
    "    except requests.exceptions.RequestException as req_err:\n",
    "        print(f\"Request error: {req_err}\")  # Handle other request errors\n",
    "        return {}\n",
    "    except ValueError as json_err:\n",
    "        print(f\"JSON decoding error: {json_err}\")  # Handle JSON decoding errors\n",
    "        return {}"
   ]
  },
  {
   "cell_type": "code",
   "execution_count": 5,
   "id": "2495a230",
   "metadata": {},
   "outputs": [],
   "source": [
    "def get_wikidata_label(wikidataid, language='en'):\n",
    "    # Define the Wikidata API URL\n",
    "    url = \"https://www.wikidata.org/w/api.php\"\n",
    "    \n",
    "    # Set the parameters for the API request\n",
    "    params = {\n",
    "        \"action\": \"wbgetentities\",\n",
    "        \"format\": \"json\",\n",
    "        \"ids\": wikidataid,\n",
    "        \"props\": \"labels\",\n",
    "        \"languages\": language\n",
    "    }\n",
    "    \n",
    "    try:\n",
    "        # Send the request to the Wikidata API\n",
    "        response = requests.get(url, params=params)\n",
    "        response.raise_for_status()\n",
    "        \n",
    "        # Parse the JSON response\n",
    "        data = response.json()\n",
    "        \n",
    "        # Extract the label\n",
    "        entity = data.get(\"entities\", {}).get(wikidataid, {})\n",
    "        labels = entity.get(\"labels\", {})\n",
    "        label = labels.get(language, {}).get(\"value\", None)\n",
    "        \n",
    "        return label\n",
    "    except requests.exceptions.HTTPError as http_err:\n",
    "        print(f\"HTTP error occurred: {http_err}\")  # Handle HTTP errors\n",
    "        return None\n",
    "    except requests.exceptions.RequestException as req_err:\n",
    "        print(f\"Request error: {req_err}\")  # Handle other request errors\n",
    "        return None\n",
    "    except ValueError as json_err:\n",
    "        print(f\"JSON decoding error: {json_err}\")  # Handle JSON decoding errors\n",
    "        return None"
   ]
  },
  {
   "cell_type": "code",
   "execution_count": 6,
   "id": "ebe41c9a-8841-456e-8e7d-f92baf42fff6",
   "metadata": {},
   "outputs": [],
   "source": [
    "def is_instance_of_literarywork(wikidata_id):\n",
    "    # URL to fetch the entity data\n",
    "    url = f\"https://www.wikidata.org/wiki/Special:EntityData/{wikidata_id}.json\"\n",
    "    response = requests.get(url)\n",
    "    \n",
    "    # Check if the request was successful\n",
    "    if response.status_code != 200:\n",
    "        return False\n",
    "\n",
    "    data = response.json()\n",
    "    \n",
    "    # Extract the entity data\n",
    "    entity_data = data['entities'].get(wikidata_id, {})\n",
    "    \n",
    "    # Extract claims (properties)\n",
    "    claims = entity_data.get('claims', {})\n",
    "    \n",
    "    # Check for \"instance of\" property (P31)\n",
    "    if 'P31' in claims:\n",
    "        for claim in claims['P31']:\n",
    "            mainsnak = claim.get('mainsnak', {})\n",
    "            datavalue = mainsnak.get('datavalue', {})\n",
    "            value = datavalue.get('value', {})\n",
    "            if value.get('id') == 'Q7725634':  # Q7725634 is the ID for 'literary work'\n",
    "                return True\n",
    "            if value.get('id') == 'Q47461344':  # Q47461344 is the ID for 'written work'\n",
    "                return True\n",
    "            if value.get('id') == 'Q838948':  # Q838948 is the ID for 'work of art'\n",
    "                return True\n",
    "            if value.get('id') == 'Q116476516':  # Q116476516 is the ID for 'dramatic work'\n",
    "                return True\n",
    "    \n",
    "    return False"
   ]
  },
  {
   "cell_type": "code",
   "execution_count": 7,
   "id": "1709dd72-f286-4f0c-a5ce-21d75094429c",
   "metadata": {},
   "outputs": [],
   "source": [
    "def get_publication_date(wikidata_id):\n",
    "    # URL to fetch the entity data\n",
    "    url = f\"https://www.wikidata.org/wiki/Special:EntityData/{wikidata_id}.json\"\n",
    "    response = requests.get(url)\n",
    "    \n",
    "    # Check if the request was successful\n",
    "    if response.status_code != 200:\n",
    "        return None\n",
    "\n",
    "    data = response.json()\n",
    "    \n",
    "    # Extract the entity data\n",
    "    entity_data = data['entities'].get(wikidata_id, {})\n",
    "    \n",
    "    # Extract claims (properties)\n",
    "    claims = entity_data.get('claims', {})\n",
    "    \n",
    "    # Check for \"publication date\" property (P577)\n",
    "    if 'P577' in claims:\n",
    "        # Get the first publication date\n",
    "        publication_date_claim = claims['P577'][0]\n",
    "        mainsnak = publication_date_claim.get('mainsnak', {})\n",
    "        datavalue = mainsnak.get('datavalue', {})\n",
    "        value = datavalue.get('value', {})\n",
    "        \n",
    "        # Extract the time value\n",
    "        publication_date = value.get('time')\n",
    "        if publication_date:\n",
    "            # Extract the year from the date string (format: +YYYY-MM-DDT00:00:00Z)\n",
    "            year = publication_date.split('-')[0].lstrip('+')\n",
    "            return year\n",
    "    \n",
    "    return None"
   ]
  },
  {
   "cell_type": "code",
   "execution_count": 8,
   "id": "c7159844-2b00-43be-b3e1-e755a15d90d0",
   "metadata": {},
   "outputs": [],
   "source": [
    "def get_genres_and_forms_of_creative_work(wikidata_id):\n",
    "    # URL to fetch the entity data\n",
    "    url = f\"https://www.wikidata.org/wiki/Special:EntityData/{wikidata_id}.json\"\n",
    "    response = requests.get(url)\n",
    "    \n",
    "    # Check if the request was successful\n",
    "    if response.status_code != 200:\n",
    "        return None, None\n",
    "\n",
    "    data = response.json()\n",
    "    \n",
    "    # Extract the entity data\n",
    "    entity_data = data['entities'].get(wikidata_id, {})\n",
    "    \n",
    "    # Extract claims (properties)\n",
    "    claims = entity_data.get('claims', {})\n",
    "    \n",
    "    genres = []\n",
    "    forms_of_creative_work = []\n",
    "    \n",
    "    # Check for \"genre\" property (P136)\n",
    "    if 'P136' in claims:\n",
    "        for claim in claims['P136']:\n",
    "            mainsnak = claim.get('mainsnak', {})\n",
    "            datavalue = mainsnak.get('datavalue', {})\n",
    "            value = datavalue.get('value', {})\n",
    "            \n",
    "            # Extract the genre ID\n",
    "            genre_id = value.get('id')\n",
    "            if genre_id:\n",
    "                # Fetch the genre label\n",
    "                genre_label = get_label(genre_id)\n",
    "                if genre_label:\n",
    "                    genres.append(genre_label)\n",
    "    \n",
    "    # Check for \"form of creative work\" property (P7937)\n",
    "    if 'P7937' in claims:\n",
    "        for claim in claims['P7937']:\n",
    "            mainsnak = claim.get('mainsnak', {})\n",
    "            datavalue = mainsnak.get('datavalue', {})\n",
    "            value = datavalue.get('value', {})\n",
    "            \n",
    "            # Extract the form of creative work ID\n",
    "            form_of_creative_work_id = value.get('id')\n",
    "            if form_of_creative_work_id:\n",
    "                # Fetch the form of creative work label\n",
    "                form_of_creative_work_label = get_label(form_of_creative_work_id)\n",
    "                if form_of_creative_work_label:\n",
    "                    forms_of_creative_work.append(form_of_creative_work_label)\n",
    "    \n",
    "    return genres, forms_of_creative_work"
   ]
  },
  {
   "cell_type": "code",
   "execution_count": 9,
   "id": "e758957c-6861-4998-aa26-730ebd5ee6d0",
   "metadata": {},
   "outputs": [],
   "source": [
    "def get_label(entity_id):\n",
    "    # URL to fetch the entity data\n",
    "    url = f\"https://www.wikidata.org/wiki/Special:EntityData/{entity_id}.json\"\n",
    "    response = requests.get(url)\n",
    "    \n",
    "    if response.status_code != 200:\n",
    "        return None\n",
    "\n",
    "    data = response.json()\n",
    "    \n",
    "    # Extract the entity data\n",
    "    entity_data = data['entities'].get(entity_id, {})\n",
    "    \n",
    "    # Extract labels\n",
    "    labels = entity_data.get('labels', {})\n",
    "    \n",
    "    # Get the English label if available, else return the first label found\n",
    "    if 'en' in labels:\n",
    "        return labels['en']['value']\n",
    "    elif labels:\n",
    "        return next(iter(labels.values()))['value']\n",
    "    \n",
    "    return None"
   ]
  },
  {
   "cell_type": "markdown",
   "id": "0dfb8439-2ef2-4ae9-837d-37f51a10f175",
   "metadata": {},
   "source": [
    "### Disambiguation"
   ]
  },
  {
   "cell_type": "code",
   "execution_count": 10,
   "id": "0812ef4d",
   "metadata": {},
   "outputs": [],
   "source": [
    "api_url = \"http://localhost:8090/service/disambiguate\""
   ]
  },
  {
   "cell_type": "code",
   "execution_count": 11,
   "id": "100b8e3f-2870-40f6-b240-b8230b45e405",
   "metadata": {},
   "outputs": [],
   "source": [
    "#today = re.sub('-', '', str(date.today()))\n",
    "today = \"20240926\""
   ]
  },
  {
   "cell_type": "markdown",
   "id": "0e567fd9-c207-4eb1-96cc-7c468f4a6ace",
   "metadata": {},
   "source": [
    "First, the Gutenberg US index is wikified to link entries, if possible, with wikidataIDs. The Gutenberg US index can be accessed at https://www.gutenberg.org/dirs/GUTINDEX.ALL; after saving it as plaintext and deleting header, footer, and '<0xa0>', it can be read in as a text file and then processed into a dictionary structure. "
   ]
  },
  {
   "cell_type": "code",
   "execution_count": 11,
   "id": "618bc6f1-b977-413e-87a8-7040f0d0dd44",
   "metadata": {},
   "outputs": [],
   "source": [
    "with open ('C:/Users/Brottrager/Documents/Diss/corpora/20240714/ENG/0_scraping/GutenbergUS/GUTINDEX.txt', encoding = \"utf-8\") as f:\n",
    "    gutenberg_titles = f.read().split(\"\\n\")"
   ]
  },
  {
   "cell_type": "code",
   "execution_count": 24,
   "id": "5c333594-6311-4c8e-9e84-b2481ec527d1",
   "metadata": {},
   "outputs": [],
   "source": [
    "gutenberg_dict = {}\n",
    "\n",
    "next_is_entry = False\n",
    "for entry in gutenberg_titles:\n",
    "    if entry == '':\n",
    "        next_is_entry = True\n",
    "        continue\n",
    "    if next_is_entry == True:\n",
    "        gutenberg_id =  re.sub('(.+?) +(\\d+)$', '\\\\2', entry)\n",
    "        gutenberg_title = re.sub('(.+?) +(\\d+)$', '\\\\1', entry)\n",
    "        title = re.sub('(.+?), by .+', '\\\\1', gutenberg_title)\n",
    "        gutenberg_author = re.sub('(.+?), by (.+?)', '\\\\2', gutenberg_title)\n",
    "        gutenberg_dict[title] = [gutenberg_id, gutenberg_author]\n",
    "        next_is_entry = False"
   ]
  },
  {
   "cell_type": "code",
   "execution_count": null,
   "id": "192587ed-e1c7-4e04-a1d7-9c77eb48d250",
   "metadata": {},
   "outputs": [],
   "source": [
    "wikified_gutenberg = {}\n",
    "for title in tqdm(gutenberg_dict.keys()):\n",
    "    if title not in already_wikified_gutenberg:\n",
    "        response = query_entity_fishing(title)\n",
    "        if 'entities' in response and response['entities']:\n",
    "            # Get the first disambiguated entity\n",
    "            first_entity = response['entities'][0]\n",
    "            if 'wikidataId' in first_entity.keys():\n",
    "                wikiID = first_entity['wikidataId']\n",
    "                wikiname = get_wikidata_label(wikiID)\n",
    "                if wikiname is None:\n",
    "                    wikiname = title\n",
    "                wikiname = re.sub(' ', '_', wikiname.upper())\n",
    "                if is_instance_of_literarywork(wikiID):\n",
    "                    wikified_gutenberg[title] = [wikiname, wikiID, gutenberg_dict[title][0]]\n",
    "    else:\n",
    "        wikified_gutenberg[title] = already_wikified_gutenberg[title]"
   ]
  },
  {
   "cell_type": "code",
   "execution_count": 33,
   "id": "fb94b1ed-3130-4547-9177-78d25d320c92",
   "metadata": {},
   "outputs": [],
   "source": [
    "#save_data('C:/Users/Brottrager/Documents/Diss/corpora/20240714/ENG/0_scraping/GutenbergUS/' + today + '_wikified_gutenberg.json', wikified_gutenberg)\n",
    "wikified_gutenberg = load_data('C:/Users/Brottrager/Documents/Diss/corpora/20240714/ENG/0_scraping/GutenbergUS/20240718_wikified_gutenberg.json')"
   ]
  },
  {
   "cell_type": "code",
   "execution_count": 34,
   "id": "ef4cb07d-39e8-4422-b732-122eb1b44d6e",
   "metadata": {},
   "outputs": [],
   "source": [
    "wikified_gutenberg_inverted = {}\n",
    "\n",
    "for key, values in wikified_gutenberg.items():\n",
    "    if values[1] in wikified_gutenberg_inverted:\n",
    "        wikified_gutenberg_inverted[values[1]][0].append(key) \n",
    "        wikified_gutenberg_inverted[values[1]][0].append(values[2]) \n",
    "    else:\n",
    "        wikified_gutenberg_inverted[values[1]] = [[key], values[0], [values[2]]]"
   ]
  },
  {
   "cell_type": "markdown",
   "id": "3e3244c5-b1a4-4072-b3a9-18a3142a5367",
   "metadata": {},
   "source": [
    "Now, the wikified Gutenberg entries are compared to the entities detected in the literary histories."
   ]
  },
  {
   "cell_type": "code",
   "execution_count": 241,
   "id": "09e157b9-906f-44d7-acd8-8b771fba776b",
   "metadata": {},
   "outputs": [],
   "source": [
    "dict_text = load_data('C:/Users/Brottrager/Documents/Diss/sec_lit/ENG/20240919_ENG_dict_all_entities_WORK_OF_ART_final.json')"
   ]
  },
  {
   "cell_type": "markdown",
   "id": "b82904c0-f5f2-443b-b398-19d63d0dabd8",
   "metadata": {},
   "source": [
    "The detected text titles are now fuzzy matched with the entries extracted from the Gutenberg US index to link the detected text titles with full texts. "
   ]
  },
  {
   "cell_type": "code",
   "execution_count": 36,
   "id": "d7edd5e6-06e4-41fe-bd69-7e275237c5ca",
   "metadata": {},
   "outputs": [],
   "source": [
    "inverted_dict_text = {}\n",
    "\n",
    "for key, values in dict_text.items():\n",
    "    for value in values[0]:\n",
    "        if value in inverted_dict_text:\n",
    "            inverted_dict_text[value].append([key, values[1], values[2]]) \n",
    "        else:\n",
    "            inverted_dict_text[value] = [key, values[1], values[2]]"
   ]
  },
  {
   "cell_type": "code",
   "execution_count": 38,
   "id": "c7bdacdb-96e7-4625-8c91-9d9f49f126b2",
   "metadata": {},
   "outputs": [
    {
     "data": {
      "application/vnd.jupyter.widget-view+json": {
       "model_id": "83392347f5f04e28ba0b1412be08f351",
       "version_major": 2,
       "version_minor": 0
      },
      "text/plain": [
       "  0%|          | 0/16862 [00:00<?, ?it/s]"
      ]
     },
     "metadata": {},
     "output_type": "display_data"
    }
   ],
   "source": [
    "fuzzy_matched_gutenberg = {}\n",
    "\n",
    "for key, values in tqdm(inverted_dict_text.items()):\n",
    "    result = process.extract(key, gutenberg_dict.keys())\n",
    "    if result[0][1] >= 95: # only if the matching ratio is above 95%, the match is retained\n",
    "        fuzzy_matched_gutenberg[key] = [result[0][0], result[0][1]]"
   ]
  },
  {
   "cell_type": "code",
   "execution_count": 39,
   "id": "a61a2418-ac6f-4369-8843-14965f04b874",
   "metadata": {},
   "outputs": [],
   "source": [
    "save_data('C:/Users/Brottrager/Documents/Diss/corpora/20240714/ENG/0_scraping/GutenbergUS/' + today + '_fuzzy_matched_gutenberg_final.json', fuzzy_matched_gutenberg)\n",
    "#fuzzy_matched_gutenberg = load_data('C:/Users/Brottrager/Documents/Diss/corpora/20240714/ENG/0_scraping/GutenbergUS/20240821_fuzzy_matched_gutenberg_final.json')"
   ]
  },
  {
   "cell_type": "code",
   "execution_count": 40,
   "id": "a351e8ca-750f-4e29-8eb7-4dc8e01494c0",
   "metadata": {},
   "outputs": [
    {
     "data": {
      "application/vnd.jupyter.widget-view+json": {
       "model_id": "86f54a23e4504a0fa661b0464a412ee5",
       "version_major": 2,
       "version_minor": 0
      },
      "text/plain": [
       "  0%|          | 0/2182 [00:00<?, ?it/s]"
      ]
     },
     "metadata": {},
     "output_type": "display_data"
    }
   ],
   "source": [
    "fuzzy_matched_gutenberg_wikiname = {}\n",
    "\n",
    "for key, values in tqdm(fuzzy_matched_gutenberg.items()):\n",
    "    wikiname = inverted_dict_text[key][0]\n",
    "    if wikiname not in fuzzy_matched_gutenberg_wikiname:\n",
    "        fuzzy_matched_gutenberg_wikiname[wikiname] = {'variations': dict_text[wikiname][0], 'wikiID': dict_text[wikiname][1], 'freq': dict_text[wikiname][3], \n",
    "                                                      'gutenberg_title': values[0], 'gutenbergID': gutenberg_dict[values[0]][0], 'fuzzy_ratio': values[1]}"
   ]
  },
  {
   "cell_type": "code",
   "execution_count": 41,
   "id": "3edcd2fc-7593-4192-83e2-2b2202213c6d",
   "metadata": {},
   "outputs": [],
   "source": [
    "save_data('C:/Users/Brottrager/Documents/Diss/corpora/20240714/ENG/0_scraping/GutenbergUS/' + today + '_fuzzy_matched_gutenberg_wikiname_final.json', fuzzy_matched_gutenberg_wikiname)"
   ]
  },
  {
   "cell_type": "markdown",
   "id": "7775740b-1bcd-405d-aacf-f1bd1ebe3fa7",
   "metadata": {},
   "source": [
    "In a previous iteration of canon compilation, I have already manually compiled a metadata table for possibly relevant text. This metadata is now also transferred into a dictionary structure and wikified. "
   ]
  },
  {
   "cell_type": "code",
   "execution_count": 42,
   "id": "6f1fb1bc-d8b6-49d0-99bf-eca0dedad32a",
   "metadata": {},
   "outputs": [],
   "source": [
    "metadata_old = pd.read_csv('C:/Users/Brottrager/Documents/Diss/metadata/eng/database/ENG_texts_meta.csv', sep=';')"
   ]
  },
  {
   "cell_type": "code",
   "execution_count": 43,
   "id": "0b4a650b-876f-4cc4-bcc9-7528279152a9",
   "metadata": {},
   "outputs": [],
   "source": [
    "metadata = metadata_old.to_dict('records')"
   ]
  },
  {
   "cell_type": "code",
   "execution_count": 44,
   "id": "beafef23-7676-4395-bb14-ec0c91cc5de5",
   "metadata": {},
   "outputs": [],
   "source": [
    "metadata_dict = {}\n",
    "for record in metadata:\n",
    "    key = record['title']\n",
    "    metadata_dict[key] = {k: v for k, v in record.items() if k != 'title'}"
   ]
  },
  {
   "cell_type": "code",
   "execution_count": 45,
   "id": "d4d0d9e9-46b8-4242-968b-e07060c88cb7",
   "metadata": {},
   "outputs": [
    {
     "data": {
      "application/vnd.jupyter.widget-view+json": {
       "model_id": "5f1cf4fe7cdc41cf8cf1418417ecb375",
       "version_major": 2,
       "version_minor": 0
      },
      "text/plain": [
       "  0%|          | 0/605 [00:00<?, ?it/s]"
      ]
     },
     "metadata": {},
     "output_type": "display_data"
    }
   ],
   "source": [
    "fuzzy_matched_metadata = {}\n",
    "\n",
    "for title in tqdm(metadata_old['title']):\n",
    "    result = process.extract(title, inverted_dict_text.keys())\n",
    "    if result[0][1] >= 95:\n",
    "        fuzzy_matched_metadata[result[0][0]] = [title, result[0][1]]"
   ]
  },
  {
   "cell_type": "code",
   "execution_count": 46,
   "id": "768c4d5f-b6fe-4a7a-a84e-3671faf46d33",
   "metadata": {},
   "outputs": [],
   "source": [
    "save_data('C:/Users/Brottrager/Documents/Diss/corpora/20240714/ENG/0_scraping/' + today + '_fuzzy_matched_metadata.json', fuzzy_matched_metadata)\n",
    "#fuzzy_matched_metadata = load_data('C:/Users/Brottrager/Documents/Diss/corpora/20240714/ENG/0_scraping/' + today + '_fuzzy_matched_metadata.json')"
   ]
  },
  {
   "cell_type": "markdown",
   "id": "0f9ece11-9cf6-4ee8-ae66-9d814de122ab",
   "metadata": {},
   "source": [
    "In this iteration, all detected text titles are processed, compared to the compiled dictionary, and checked for duplicates. The resulting dictionary summarises all the available information. "
   ]
  },
  {
   "cell_type": "markdown",
   "id": "04c75c53-2f04-4889-ac06-13b3655032c3",
   "metadata": {},
   "source": [
    "### Data Consolidation and Matching"
   ]
  },
  {
   "cell_type": "code",
   "execution_count": 47,
   "id": "6c17df6d-a79d-4a15-9f3d-fd0a61d065a8",
   "metadata": {},
   "outputs": [
    {
     "data": {
      "application/vnd.jupyter.widget-view+json": {
       "model_id": "c6ce5de699ef499baa3b87e595353b2e",
       "version_major": 2,
       "version_minor": 0
      },
      "text/plain": [
       "  0%|          | 0/15577 [00:00<?, ?it/s]"
      ]
     },
     "metadata": {},
     "output_type": "display_data"
    }
   ],
   "source": [
    "dict_all_info = {}\n",
    "dict_all_info_wikiID = {}\n",
    "empty_wiki_info = {'gutenberg_title': np.nan, 'gutenbergID': np.nan, 'fuzzy_ratio': np.nan}\n",
    "empty_additional_info = {'author_viaf': np.nan, 'id': np.nan, 'file_name': np.nan, 'pub_year': np.nan}\n",
    "\n",
    "for key, values in tqdm(dict_text.items()):\n",
    "    if key in fuzzy_matched_gutenberg_wikiname:\n",
    "\n",
    "        wikiID = values[1]   \n",
    "        duplicate = False\n",
    "\n",
    "        if wikiID != 'noWikiID':\n",
    "            if wikiID not in dict_all_info_wikiID:\n",
    "                dict_all_info_wikiID[fuzzy_matched_gutenberg_wikiname[key]['wikiID']] = [key]\n",
    "            else: \n",
    "                dict_all_info_wikiID[fuzzy_matched_gutenberg_wikiname[key]['wikiID']].append(key) \n",
    "                duplicate = True\n",
    "\n",
    "        if duplicate:\n",
    "            existing_key = dict_all_info_wikiID[fuzzy_matched_gutenberg_wikiname[key]['wikiID']][0]\n",
    "            dict_all_info[existing_key]['freq'] += dict_text[key][3]\n",
    "            continue\n",
    "            \n",
    "        for v in fuzzy_matched_gutenberg_wikiname[key]['variations']:\n",
    "            empty = True\n",
    "            if v in fuzzy_matched_metadata:\n",
    "                additional_info = metadata_dict[fuzzy_matched_metadata[v][0]]\n",
    "                dict_all_info[key] = {**fuzzy_matched_gutenberg_wikiname[key], **additional_info}\n",
    "                empty = False\n",
    "                break\n",
    "            \n",
    "        if empty == True:\n",
    "            dict_all_info[key] = {**fuzzy_matched_gutenberg_wikiname[key], **empty_additional_info}\n",
    "            \n",
    "    else:\n",
    "        empty = True\n",
    "        for v in values[0]:\n",
    "            if v in fuzzy_matched_metadata:\n",
    "                additional_info = metadata_dict[fuzzy_matched_metadata[v][0]]\n",
    "                info = {'variations': dict_text[key][0], 'wikiID': dict_text[key][1], 'freq': dict_text[key][3]}\n",
    "                dict_all_info[key] = {**info, **empty_wiki_info, **additional_info}\n",
    "                empty = False\n",
    "                break\n",
    "\n",
    "        if empty == True:\n",
    "            dict_all_info[key] = {'variations': dict_text[key][0], 'wikiID': dict_text[key][1], 'freq': dict_text[key][3], 'gutenberg_title': np.nan,\n",
    "                                  'gutenbergID': np.nan, 'fuzzy_ratio': np.nan, 'author_viaf': np.nan, 'id': np.nan, 'file_name': np.nan, 'pub_year': np.nan}\n",
    "        \n",
    "    dict_all_info[key]['genre'] = np.nan\n",
    "        "
   ]
  },
  {
   "cell_type": "markdown",
   "id": "69d0198c-e15a-49ec-8acd-e8b364892945",
   "metadata": {},
   "source": [
    "If an entry has a wikiID, wikidata is queried for genre attributions and publication years. "
   ]
  },
  {
   "cell_type": "code",
   "execution_count": 49,
   "id": "ed1d25b2-c8e4-406a-82f9-fc25c27e1bc1",
   "metadata": {},
   "outputs": [
    {
     "data": {
      "application/vnd.jupyter.widget-view+json": {
       "model_id": "ccfd80cc56ad4f67ab625759defdd21b",
       "version_major": 2,
       "version_minor": 0
      },
      "text/plain": [
       "  0%|          | 0/15569 [00:00<?, ?it/s]"
      ]
     },
     "metadata": {},
     "output_type": "display_data"
    }
   ],
   "source": [
    "for key, values in tqdm(dict_all_info.items()):\n",
    "    if values['wikiID'] != 'noWikiID':\n",
    "        values['genre'] = get_genres_and_forms_of_creative_work(values['wikiID'])\n",
    "        if pd.isna(values['pub_year']):\n",
    "            values['pub_year'] = get_publication_date(values['wikiID'])"
   ]
  },
  {
   "cell_type": "code",
   "execution_count": 50,
   "id": "ed7b81ca-ab95-4d25-99bd-cd652c9d067e",
   "metadata": {},
   "outputs": [
    {
     "data": {
      "application/vnd.jupyter.widget-view+json": {
       "model_id": "2c57acabd30f43429c85e0f4ef85742b",
       "version_major": 2,
       "version_minor": 0
      },
      "text/plain": [
       "  0%|          | 0/15569 [00:00<?, ?it/s]"
      ]
     },
     "metadata": {},
     "output_type": "display_data"
    }
   ],
   "source": [
    "for key, values in tqdm(dict_all_info.items()):\n",
    "    dict_all_info[key]['prose'] = 0\n",
    "    if isinstance(values['genre'], tuple):\n",
    "        strings = [element for sublist in values['genre'] for element in sublist if isinstance(element, str)]\n",
    "        result = ' '.join(strings)\n",
    "        if 'novel' in result or 'story' in result or 'stories' in result or 'novella' in result:\n",
    "            dict_all_info[key]['prose'] = 1"
   ]
  },
  {
   "cell_type": "code",
   "execution_count": 11,
   "id": "06b16707-9c42-4b46-991e-d9d9692a76de",
   "metadata": {},
   "outputs": [],
   "source": [
    "#save_data('C:/Users/Brottrager/Documents/Diss/corpora/20240714/ENG/0_scraping/' + today + '_dict_all_info.json', dict_all_info)\n",
    "dict_all_info = load_data('C:/Users/Brottrager/Documents/Diss/corpora/20240714/ENG/0_scraping/' + today + '_dict_all_info.json')"
   ]
  },
  {
   "cell_type": "code",
   "execution_count": 52,
   "id": "511e273a-5d6e-491a-afa9-ee1754d07298",
   "metadata": {},
   "outputs": [],
   "source": [
    "df = pd.DataFrame.from_dict(dict_all_info, orient='index')\n",
    "df = df.reset_index().rename(columns={'index': 'wikiname'})"
   ]
  },
  {
   "cell_type": "code",
   "execution_count": 53,
   "id": "9da8e015-4e03-4601-88a4-cbe3838dcfaf",
   "metadata": {},
   "outputs": [],
   "source": [
    "df.to_csv('C:/Users/Brottrager/Documents/Diss/corpora/20240714/ENG/0_scraping/' + today + '_df_all_info.csv', encoding='utf8', sep=';')"
   ]
  },
  {
   "cell_type": "markdown",
   "id": "5b971b1e-cc02-4290-91be-a43dcb4ea7bb",
   "metadata": {},
   "source": [
    "### Manual Correction"
   ]
  },
  {
   "cell_type": "markdown",
   "id": "b1f99361-40ab-4604-92bb-cc6cf4dd01e0",
   "metadata": {},
   "source": [
    "previous iteration"
   ]
  },
  {
   "cell_type": "code",
   "execution_count": 12,
   "id": "c4d88068-d03e-4e6e-b734-10e562f9890d",
   "metadata": {},
   "outputs": [],
   "source": [
    "df_manual = pd.read_csv('C:/Users/Brottrager/Documents/Diss/corpora/20240714/ENG/0_scraping/20240821_matched_entities_texts_final.csv', encoding='utf8', sep=';')\n",
    "df_manual.set_index('wikiname', inplace=True)\n",
    "dict_manual = df_manual.to_dict(orient='index')"
   ]
  },
  {
   "cell_type": "code",
   "execution_count": 13,
   "id": "1865083d-c2c0-4051-b7a5-8efb7ac30a81",
   "metadata": {},
   "outputs": [
    {
     "data": {
      "application/vnd.jupyter.widget-view+json": {
       "model_id": "b7d51ded39e2419fb1907a2fe49e65ce",
       "version_major": 2,
       "version_minor": 0
      },
      "text/plain": [
       "  0%|          | 0/15569 [00:00<?, ?it/s]"
      ]
     },
     "metadata": {},
     "output_type": "display_data"
    }
   ],
   "source": [
    "dict_all_info_manuallycorrected = {}\n",
    "\n",
    "for key, values in tqdm(dict_all_info.items()):\n",
    "    dict_all_info_manuallycorrected[key] = dict_all_info[key]\n",
    "    dict_all_info_manuallycorrected[key]['prose_fiction'] = 0\n",
    "    if key in dict_manual:\n",
    "        dict_all_info_manuallycorrected[key]['pub_year'] = dict_manual[key]['pub_year']\n",
    "        dict_all_info_manuallycorrected[key]['genre'] = dict_manual[key]['genre']\n",
    "        dict_all_info_manuallycorrected[key]['gutenbergID'] = dict_manual[key]['gutenbergID']\n",
    "        dict_all_info_manuallycorrected[key]['prose_fiction'] = dict_manual[key]['prose_fiction']\n",
    "        dict_all_info_manuallycorrected[key]['comment_exclusion'] = dict_manual[key]['comment_exclusion']"
   ]
  },
  {
   "cell_type": "code",
   "execution_count": 14,
   "id": "b032d869-9e10-4c6d-9381-98ed438b11a4",
   "metadata": {},
   "outputs": [],
   "source": [
    "df = pd.DataFrame.from_dict(dict_all_info_manuallycorrected, orient='index')\n",
    "df = df.reset_index().rename(columns={'index': 'wikiname'})"
   ]
  },
  {
   "cell_type": "code",
   "execution_count": 15,
   "id": "e61615bc-2008-4a3f-b6e7-40d7e97fc6f4",
   "metadata": {},
   "outputs": [],
   "source": [
    "df.to_csv('C:/Users/Brottrager/Documents/Diss/corpora/20240714/ENG/0_scraping/' + today + '_matched_entities_texts_final.csv', encoding='utf8', sep=';')"
   ]
  },
  {
   "cell_type": "markdown",
   "id": "35e13ea9-e6c4-4bd3-bfaf-bf55deb48af4",
   "metadata": {},
   "source": [
    "Manual check"
   ]
  },
  {
   "cell_type": "code",
   "execution_count": 12,
   "id": "e5d78dea-1fda-4353-920d-6363572e822d",
   "metadata": {},
   "outputs": [],
   "source": [
    "df_manuallycorrected = pd.read_csv('C:/Users/Brottrager/Documents/Diss/corpora/20240714/ENG/0_scraping/' + today + '_matched_entities_texts_final_ALL.csv', encoding='utf8', sep=';')"
   ]
  },
  {
   "cell_type": "code",
   "execution_count": 13,
   "id": "911910db-a050-41a8-bb12-4dbacda0f67b",
   "metadata": {},
   "outputs": [],
   "source": [
    "manuallycorrected = df_manuallycorrected.to_dict('records')"
   ]
  },
  {
   "cell_type": "code",
   "execution_count": 14,
   "id": "56f1ffc1-d941-4384-bcdc-3efe0a213d0c",
   "metadata": {},
   "outputs": [],
   "source": [
    "dict_manuallycorrected = {}\n",
    "for record in manuallycorrected:\n",
    "    key = record['wikiname']\n",
    "    if record['comment_exclusion'] != 'duplicate':\n",
    "        dict_manuallycorrected[key] = {k: v for k, v in record.items() if k not in ['wikiname', 'Unnamed: 0']}"
   ]
  },
  {
   "cell_type": "code",
   "execution_count": 15,
   "id": "12aa8d69-6b58-4c86-a10c-d1bb0f54a18f",
   "metadata": {},
   "outputs": [],
   "source": [
    "counter_wiki_entities = 0\n",
    "\n",
    "for key, values in dict_manuallycorrected.items():\n",
    "    if values['wikiID'] != 'noWikiID':\n",
    "        counter_wiki_entities += 1"
   ]
  },
  {
   "cell_type": "code",
   "execution_count": 16,
   "id": "cbb0ce70-a3cb-496b-bdba-fe404161ca05",
   "metadata": {},
   "outputs": [
    {
     "data": {
      "text/plain": [
       "15552"
      ]
     },
     "execution_count": 16,
     "metadata": {},
     "output_type": "execute_result"
    }
   ],
   "source": [
    "len(dict_manuallycorrected)"
   ]
  },
  {
   "cell_type": "code",
   "execution_count": 17,
   "id": "e543a60a-2cb5-4823-9b8d-95a3571c6dbe",
   "metadata": {},
   "outputs": [
    {
     "name": "stdout",
     "output_type": "stream",
     "text": [
      "0.14737654320987653\n"
     ]
    }
   ],
   "source": [
    "n = len(dict_manuallycorrected)\n",
    "p = counter_wiki_entities/n\n",
    "\n",
    "print(p)"
   ]
  },
  {
   "cell_type": "markdown",
   "id": "c58de390-e8c0-474b-b814-9f1f76eb542e",
   "metadata": {},
   "source": [
    "Only 15% of all detected text titles have a corresponding wikidata entry. "
   ]
  },
  {
   "cell_type": "code",
   "execution_count": 13,
   "id": "3109f003-d414-4ab1-9f44-8fd08067a214",
   "metadata": {},
   "outputs": [],
   "source": [
    "df_filtered = pd.read_csv('C:/Users/Brottrager/Documents/Diss/RelatingTheUnread/corpora/ENG_corpus.csv', encoding='utf8', sep=';')"
   ]
  },
  {
   "cell_type": "code",
   "execution_count": 14,
   "id": "ec9bbce9-a59e-400c-b84f-264cc2d1ff3c",
   "metadata": {},
   "outputs": [],
   "source": [
    "filtered = df_filtered.set_index(\"wikiname\").to_dict(orient=\"index\")"
   ]
  },
  {
   "cell_type": "code",
   "execution_count": 15,
   "id": "1542fea4-fef4-4622-a62d-64c12390a3ae",
   "metadata": {},
   "outputs": [],
   "source": [
    "counter_wiki_entities = 0\n",
    "\n",
    "for key, values in filtered.items():\n",
    "    if values['wikiID'] != 'noWikiID':\n",
    "        counter_wiki_entities += 1"
   ]
  },
  {
   "cell_type": "code",
   "execution_count": 16,
   "id": "365d6445-70c1-4dbd-9811-929081809935",
   "metadata": {},
   "outputs": [
    {
     "data": {
      "text/plain": [
       "679"
      ]
     },
     "execution_count": 16,
     "metadata": {},
     "output_type": "execute_result"
    }
   ],
   "source": [
    "len(filtered)"
   ]
  },
  {
   "cell_type": "code",
   "execution_count": 17,
   "id": "812be42a-5e65-4735-9e5c-92144ad6e205",
   "metadata": {},
   "outputs": [
    {
     "name": "stdout",
     "output_type": "stream",
     "text": [
      "0.6406480117820325\n"
     ]
    }
   ],
   "source": [
    "n = len(filtered)\n",
    "p = counter_wiki_entities/n\n",
    "\n",
    "print(p)"
   ]
  },
  {
   "cell_type": "markdown",
   "id": "001f031e-1cff-48cf-8ec7-66ed7580582d",
   "metadata": {},
   "source": [
    "64% of all detected text titles in the corpus list have a corresponding wikidata entry. "
   ]
  },
  {
   "cell_type": "code",
   "execution_count": 18,
   "id": "a5db28d4-d1c2-4540-a558-41c1c346fdfe",
   "metadata": {},
   "outputs": [],
   "source": [
    "save_data('C:/Users/Brottrager/Documents/Diss/corpora/20240714/ENG/0_scraping/' + today + '_dict_corpus.json', filtered)"
   ]
  },
  {
   "cell_type": "code",
   "execution_count": 18,
   "id": "e41a38fe-e5c4-4a2f-9618-51adc45e5462",
   "metadata": {},
   "outputs": [],
   "source": [
    "txt_link = 'https://www.gutenberg.org/files/' #'1342/1342-0.txt'"
   ]
  },
  {
   "cell_type": "code",
   "execution_count": 19,
   "id": "0a0203e7-914a-42ef-b5ac-ee48ded73ed3",
   "metadata": {},
   "outputs": [],
   "source": [
    "filtered_gutenberg_html = []\n",
    "\n",
    "for key, values in dict_filtered.items():\n",
    "    gutenbergID = values['gutenbergID']\n",
    "    if gutenbergID != 'nan':\n",
    "        filtered_gutenberg_html.append(str(txt_link) + str(gutenbergID) + '/' + str(gutenbergID) + '-0.txt' + '\\n')"
   ]
  },
  {
   "cell_type": "code",
   "execution_count": 42,
   "id": "adad7b31-1502-4d16-a5f3-aace93112eec",
   "metadata": {},
   "outputs": [],
   "source": [
    "with open('C:/Users/Brottrager/Documents/Diss/corpora/20240714/ENG/0_scraping/GutenbergUS/filtered_gutenberg_html.txt', 'w') as file:\n",
    "    file.writelines(filtered_gutenberg_html)"
   ]
  },
  {
   "cell_type": "markdown",
   "id": "7a9db2b6-3711-4cb7-b86a-cc1a13f554c0",
   "metadata": {},
   "source": [
    "CMD:\n",
    "\n",
    "wget -w 2 -m -H --no-if-modified-since --input-file C:/Users/Brottrager/Documents/Diss/corpora/20240714/ENG/0_scraping/GutenbergUS/filtered_gutenberg_html.txt\n",
    "\n",
    "Powershell:\n",
    "\n",
    "Get-ChildItem \"C:\\www.gutenberg.org\\files\" -Recurse -Filter \"*.txt\" | Copy-Item -Destination \"C:\\Users\\Brottrager\\Documents\\Diss\\corpora\\20240714\\ENG\\0_scraping\\GutenbergUS\\txt\""
   ]
  },
  {
   "cell_type": "code",
   "execution_count": 20,
   "id": "445c41e1-62ac-4218-9be0-7f4ad93af98d",
   "metadata": {},
   "outputs": [],
   "source": [
    "corpus_path = 'C:/Users/Brottrager/Documents/Diss/corpora/20240714/ENG/0_scraping/GutenbergUS/txt'\n",
    "corpus_dir = Path(corpus_path).glob('*.txt')\n",
    "files = list(corpus_dir)"
   ]
  },
  {
   "cell_type": "code",
   "execution_count": 21,
   "id": "3f5bc16a-2fab-495f-b539-891abdce4e49",
   "metadata": {},
   "outputs": [],
   "source": [
    "gutenberg_files_dict = {}\n",
    "\n",
    "for file in files:\n",
    "    id = re.sub('(.+\\\\\\\\)(\\\\d+)-0.txt', '\\\\2', str(file))\n",
    "    gutenberg_files_dict[id] = file"
   ]
  },
  {
   "cell_type": "code",
   "execution_count": 46,
   "id": "76efc9fb-76aa-41ce-a03e-4336348b7c3d",
   "metadata": {},
   "outputs": [],
   "source": [
    "to_do_dict = {}\n",
    "matched_dict = {}\n",
    "\n",
    "for key, values in dict_filtered.items():\n",
    "    gutenbergID = values['gutenbergID']\n",
    "    wikiname = key\n",
    "    wikiname = wikiname.replace('\"', '').replace(\"'\", '')\n",
    "    wikiID = values['wikiID']\n",
    "    if gutenbergID != 'nan':\n",
    "        if gutenbergID in gutenberg_files_dict:\n",
    "            matched_dict[key] = values\n",
    "        else:\n",
    "            to_do_dict[key] = values\n",
    "    else:\n",
    "        to_do_dict[key] = values"
   ]
  },
  {
   "cell_type": "code",
   "execution_count": 48,
   "id": "dbea947e-e693-4f1b-8f1e-6f7ef2313028",
   "metadata": {},
   "outputs": [],
   "source": [
    "df = pd.DataFrame.from_dict(to_do_dict, orient='index')\n",
    "df = df.reset_index().rename(columns={'index': 'wikiname'})"
   ]
  },
  {
   "cell_type": "code",
   "execution_count": 49,
   "id": "1152667d-7a0f-479a-805c-85ae5b3994bd",
   "metadata": {},
   "outputs": [],
   "source": [
    "df.to_csv('C:/Users/Brottrager/Documents/Diss/corpora/20240714/ENG/0_scraping/' + today + '_to_do.csv', encoding='utf8', sep=';')"
   ]
  },
  {
   "cell_type": "code",
   "execution_count": 35,
   "id": "1dfb5bd7-3abe-4034-8a5e-824e5121d880",
   "metadata": {},
   "outputs": [],
   "source": [
    "df_done = pd.read_csv('C:/Users/Brottrager/Documents/Diss/corpora/20240714/ENG/0_scraping/' + today + '_done.csv', encoding='utf8', sep=';')"
   ]
  },
  {
   "cell_type": "code",
   "execution_count": 36,
   "id": "76f15dac-0d71-43df-b0c6-63c4bc866755",
   "metadata": {},
   "outputs": [],
   "source": [
    "done = df_done.to_dict('records')"
   ]
  },
  {
   "cell_type": "code",
   "execution_count": 37,
   "id": "2d4e206f-981c-460c-85c1-f7c86c806c99",
   "metadata": {},
   "outputs": [],
   "source": [
    "dict_done = {}\n",
    "for record in done:\n",
    "    key = record['wikiname']\n",
    "    if pd.isna(record['comment_exclusion']):\n",
    "        dict_done[key] = {k: v for k, v in record.items() if k != 'wikiname'}"
   ]
  },
  {
   "cell_type": "code",
   "execution_count": 56,
   "id": "215b37e2-5ba5-4eed-a27b-1ac1df2d5390",
   "metadata": {},
   "outputs": [],
   "source": [
    "filtered_gutenberg_html = []\n",
    "\n",
    "for key, values in dict_done.items():\n",
    "    gutenbergID = values['gutenbergID']\n",
    "    if gutenbergID in gutenberg_html_dict:\n",
    "        filtered_gutenberg_html.append(gutenberg_html_dict[gutenbergID])\n",
    "    \n",
    "with open('C:/Users/Brottrager/Documents/Diss/corpora/20240714/ENG/0_scraping/GutenbergUS/filtered_gutenberg_secondround_html.txt', 'w') as file:\n",
    "    file.writelines(filtered_gutenberg_html)"
   ]
  },
  {
   "cell_type": "markdown",
   "id": "b3ebccea-cee9-4451-a1a6-15f4eb126d7a",
   "metadata": {},
   "source": [
    "CMD:\n",
    "\n",
    "wget -w 2 -m -H --no-if-modified-since --input-file C:/Users/Brottrager/Documents/Diss/corpora/20240714/ENG/0_scraping/GutenbergUS/filtered_gutenberg_secondround_html.txt\n",
    "\n",
    "Powershell:\n",
    "\n",
    "Get-ChildItem \"C:\\www.gutenberg.org\\cache\" -Recurse -Filter \"*.txt\" | Copy-Item -Destination \"C:\\Users\\Brottrager\\Documents\\Diss\\corpora\\20240714\\ENG\\0_scraping\\GutenbergUS\\txt_added_unnamed\""
   ]
  },
  {
   "cell_type": "code",
   "execution_count": 44,
   "id": "98749f39-e2a4-430e-beb8-19ac4c4b6e26",
   "metadata": {},
   "outputs": [],
   "source": [
    "corpus_dict = {}\n",
    "\n",
    "for key, values in dict_filtered.items():\n",
    "    if key in dict_done:\n",
    "        corpus_dict[key] = dict_done[key]\n",
    "    else:\n",
    "        corpus_dict[key] = values"
   ]
  },
  {
   "cell_type": "code",
   "execution_count": 15,
   "id": "1a428a81-70a9-46fa-91d0-440f152ce27e",
   "metadata": {},
   "outputs": [],
   "source": [
    "txt_dir =  'C:/Users/Brottrager/Documents/Diss/corpora/20240714/ENG/0_scraping/GutenbergUS/txt_added_named'\n",
    "if not os.path.exists(txt_dir):\n",
    "    os.makedirs(txt_dir)"
   ]
  },
  {
   "cell_type": "code",
   "execution_count": 16,
   "id": "c37c12e3-14e0-4a30-b03e-429fa7e5564b",
   "metadata": {},
   "outputs": [],
   "source": [
    "corpus_path = 'C:/Users/Brottrager/Documents/Diss/corpora/20240714/ENG/0_scraping/GutenbergUS/txt_added_unnamed'\n",
    "corpus_dir = Path(corpus_path).glob('*.txt')\n",
    "files = list(corpus_dir)"
   ]
  },
  {
   "cell_type": "code",
   "execution_count": null,
   "id": "4259c478-9de4-4106-b401-e1f262716860",
   "metadata": {},
   "outputs": [],
   "source": [
    "gutenberg_txt_dict = {}\n",
    "\n",
    "for file in files:\n",
    "    id = re.sub('(.+unnamed\\\\\\\\)[a-z]*(\\\\d+)(-0\\.txt|\\.txt)', '\\\\2', str(file))\n",
    "    gutenberg_txt_dict[id] = file"
   ]
  },
  {
   "cell_type": "code",
   "execution_count": 47,
   "id": "948e4574-d45d-494b-a416-0badcc029965",
   "metadata": {},
   "outputs": [],
   "source": [
    "matched_dict = {}\n",
    "\n",
    "for key, values in corpus_dict.items():\n",
    "    gutenbergID = values['gutenbergID']\n",
    "    wikiname = key\n",
    "    wikiname = wikiname.replace('\"', '').replace(\"'\", '')\n",
    "    wikiID = values['wikiID']\n",
    "    if gutenbergID != 'nan':\n",
    "        if gutenbergID in gutenberg_txt_dict:\n",
    "            shutil.copy(gutenberg_txt_dict[gutenbergID], txt_dir + '/' + wikiname + '_' + wikiID + '.txt')\n",
    "            matched_dict[key] = values\n",
    "            matched_dict[key]['text_source'] = True\n",
    "        else:\n",
    "            matched_dict[key] = values\n",
    "            matched_dict[key]['text_source'] = False\n",
    "    else:\n",
    "        matched_dict[key] = values\n",
    "        matched_dict[key]['text_source'] = False\n"
   ]
  },
  {
   "cell_type": "code",
   "execution_count": 48,
   "id": "fe0e7310-c3c9-4ff5-8853-4c05f4fb0a0b",
   "metadata": {},
   "outputs": [],
   "source": [
    "df = pd.DataFrame.from_dict(matched_dict, orient='index')\n",
    "df = df.reset_index().rename(columns={'index': 'wikiname'})"
   ]
  },
  {
   "cell_type": "code",
   "execution_count": 49,
   "id": "90294856-2bfe-40bc-88fb-90012195b5ed",
   "metadata": {},
   "outputs": [],
   "source": [
    "df.to_csv('C:/Users/Brottrager/Documents/Diss/corpora/20240714/ENG/0_scraping/' + today + '_corpus_list_matchedTXT.csv', encoding='utf8', sep=';')"
   ]
  }
 ],
 "metadata": {
  "kernelspec": {
   "display_name": "Python 3 (ipykernel)",
   "language": "python",
   "name": "python3"
  },
  "language_info": {
   "codemirror_mode": {
    "name": "ipython",
    "version": 3
   },
   "file_extension": ".py",
   "mimetype": "text/x-python",
   "name": "python",
   "nbconvert_exporter": "python",
   "pygments_lexer": "ipython3",
   "version": "3.11.9"
  }
 },
 "nbformat": 4,
 "nbformat_minor": 5
}
