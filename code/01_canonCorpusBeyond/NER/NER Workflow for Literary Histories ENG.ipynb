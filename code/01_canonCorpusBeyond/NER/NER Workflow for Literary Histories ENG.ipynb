{
 "cells": [
  {
   "cell_type": "markdown",
   "id": "0a3fd4d0",
   "metadata": {},
   "source": [
    "# NER Workflow for English Literary Histories"
   ]
  },
  {
   "cell_type": "markdown",
   "id": "63c9e138",
   "metadata": {},
   "source": [
    "--- Last edited: 2024-09-26 ---\n",
    "\n",
    "This workflow is designed to extract named entities of persons and works of art by fine-tuning the existing spaCy NER module. After testing the fine-tuned NER with a manually compiled gold standard, the [spaCy wrapper](https://spacy.io/universe/project/spacyfishing) for  [entity-fishing](https://github.com/kermitt2/entity-fishing) is used to disambiguate the found entities."
   ]
  },
  {
   "cell_type": "markdown",
   "id": "26563675",
   "metadata": {},
   "source": [
    "### Required Packages"
   ]
  },
  {
   "cell_type": "code",
   "execution_count": 1,
   "id": "7c2555ea",
   "metadata": {
    "scrolled": true
   },
   "outputs": [],
   "source": [
    "import collections\n",
    "from datetime import date\n",
    "import glob\n",
    "import json\n",
    "import os\n",
    "from pathlib import Path\n",
    "import pickle\n",
    "import random\n",
    "import re\n",
    "import string\n",
    "import sys\n",
    "import time\n",
    "import csv\n",
    "import shutil\n",
    "import requests\n",
    "from tqdm.notebook import tqdm\n",
    "import ast\n",
    "\n",
    "import gensim\n",
    "from gensim.models import Word2Vec\n",
    "from gensim.test.utils import datapath\n",
    "from gensim.models import KeyedVectors\n",
    "\n",
    "import nltk\n",
    "from nltk.corpus import stopwords\n",
    "from nltk.cluster import KMeansClusterer\n",
    "\n",
    "import numpy as np\n",
    "import pandas as pd\n",
    "\n",
    "import matplotlib.pyplot as plt\n",
    "import matplotlib.cm as cm\n",
    "import seaborn as sns\n",
    "\n",
    "import sklearn\n",
    "from sklearn import cluster\n",
    "from sklearn import metrics\n",
    "from sklearn.decomposition import PCA\n",
    "from sklearn.manifold import TSNE\n",
    "from sklearn.metrics import adjusted_rand_score\n",
    "from sklearn.metrics.pairwise import cosine_similarity\n",
    "from sklearn.decomposition import NMF\n",
    "\n",
    "import spacy\n",
    "import spacy_transformers\n",
    "from spacy.pipeline import EntityRuler\n",
    "from spacy.training.example import Example\n",
    "from spacy.scorer import Scorer\n",
    "from spacy.tokens import DocBin\n",
    "from spacy.training import offsets_to_biluo_tags\n",
    "\n",
    "from thefuzz import fuzz\n",
    "from thefuzz import process\n",
    "\n",
    "import networkx as nx"
   ]
  },
  {
   "cell_type": "markdown",
   "id": "a1fd523d",
   "metadata": {},
   "source": [
    "### Functions"
   ]
  },
  {
   "cell_type": "code",
   "execution_count": 2,
   "id": "668d4371",
   "metadata": {},
   "outputs": [],
   "source": [
    "def load_data(file):\n",
    "    with open(file, \"r\", encoding = \"utf-8\") as f:\n",
    "        data = json.load(f)\n",
    "    return(data)\n",
    "\n",
    "def save_data(file, data):\n",
    "    with open(file, \"w\", encoding = \"utf-8\") as f:\n",
    "        json.dump(data, f, indent = 4)"
   ]
  },
  {
   "cell_type": "code",
   "execution_count": 3,
   "id": "19a5acb5",
   "metadata": {},
   "outputs": [],
   "source": [
    "def test_model(model, text):\n",
    "    doc = nlp(text)\n",
    "    results = []\n",
    "    for ent in doc.ents:\n",
    "        results.append((ent.text, ent.label_))\n",
    "    return(results)"
   ]
  },
  {
   "cell_type": "code",
   "execution_count": 4,
   "id": "da406bc3-dd7b-4208-bb7f-2de80df0fb6b",
   "metadata": {},
   "outputs": [],
   "source": [
    "def is_instance_of_human(wikidata_id):\n",
    "    # URL to fetch the entity data\n",
    "    url = f\"https://www.wikidata.org/wiki/Special:EntityData/{wikidata_id}.json\"\n",
    "    response = requests.get(url)\n",
    "    \n",
    "    # Check if the request was successful\n",
    "    if response.status_code != 200:\n",
    "        return False\n",
    "\n",
    "    data = response.json()\n",
    "    \n",
    "    # Extract the entity data\n",
    "    entity_data = data['entities'].get(wikidata_id, {})\n",
    "    \n",
    "    # Extract claims (properties)\n",
    "    claims = entity_data.get('claims', {})\n",
    "    \n",
    "    # Check for \"instance of\" property (P31)\n",
    "    if 'P31' in claims:\n",
    "        for claim in claims['P31']:\n",
    "            mainsnak = claim.get('mainsnak', {})\n",
    "            datavalue = mainsnak.get('datavalue', {})\n",
    "            value = datavalue.get('value', {})\n",
    "            if value.get('id') == 'Q5':  # Q5 is the ID for 'human'\n",
    "                return True\n",
    "    \n",
    "    return False"
   ]
  },
  {
   "cell_type": "code",
   "execution_count": 5,
   "id": "3114c7b5-5176-48a6-9406-118f9cac8a5c",
   "metadata": {},
   "outputs": [],
   "source": [
    "def is_irrelevant_occupation(wikidata_id):\n",
    "    import requests\n",
    "\n",
    "    # URL to fetch the entity data\n",
    "    url = f\"https://www.wikidata.org/wiki/Special:EntityData/{wikidata_id}.json\"\n",
    "    response = requests.get(url)\n",
    "    \n",
    "    # Check if the request was successful\n",
    "    if response.status_code != 200:\n",
    "        return False\n",
    "\n",
    "    data = response.json()\n",
    "    \n",
    "    # Extract the entity data\n",
    "    entity_data = data['entities'].get(wikidata_id, {})\n",
    "    \n",
    "    # Extract claims (properties)\n",
    "    claims = entity_data.get('claims', {})\n",
    "    \n",
    "    # List of relevant IDs for athletes, baseball players, American football players, racehorse trainers, basketball players, TV personalities, rappers, jockeys, footballers, golfers, cyclists, handball players, swimmers, and wrestlers\n",
    "    occupation_ids = [\n",
    "        'Q937857',    # 'athlete'\n",
    "        'Q2066131',   # 'sports player'\n",
    "        'Q10871364',  # 'baseball player'\n",
    "        'Q19204627',  # 'American football player'\n",
    "        'Q1622272',   # 'racehorse trainer'\n",
    "        'Q3665646',   # 'basketball player'\n",
    "        'Q28389',     # 'TV personality'\n",
    "        'Q196452',    # 'rapper'\n",
    "        'Q37226',     # 'jockey'\n",
    "        'Q2736',      # 'footballer (soccer player)'\n",
    "        'Q11513337',  # 'golfer'\n",
    "        'Q14960',     # 'cyclist'\n",
    "        'Q192061',    # 'handball player'\n",
    "        'Q24488',     # 'swimmer'\n",
    "        'Q183'        # 'wrestler'\n",
    "    ]\n",
    "    \n",
    "    # Check for \"instance of\" property (P31) or \"occupation\" property (P106)\n",
    "    for prop in ['P31', 'P106']:\n",
    "        if prop in claims:\n",
    "            for claim in claims[prop]:\n",
    "                mainsnak = claim.get('mainsnak', {})\n",
    "                datavalue = mainsnak.get('datavalue', {})\n",
    "                value = datavalue.get('value', {})\n",
    "                if value.get('id') in occupation_ids:\n",
    "                    return True\n",
    "\n",
    "    return False\n"
   ]
  },
  {
   "cell_type": "code",
   "execution_count": 6,
   "id": "9466df62-b7f5-4c78-968c-de287afdafd1",
   "metadata": {},
   "outputs": [],
   "source": [
    "def is_instance_of_literarywork(wikidata_id):\n",
    "    # URL to fetch the entity data\n",
    "    url = f\"https://www.wikidata.org/wiki/Special:EntityData/{wikidata_id}.json\"\n",
    "    response = requests.get(url)\n",
    "    \n",
    "    # Check if the request was successful\n",
    "    if response.status_code != 200:\n",
    "        return False\n",
    "\n",
    "    data = response.json()\n",
    "    \n",
    "    # Extract the entity data\n",
    "    entity_data = data['entities'].get(wikidata_id, {})\n",
    "    \n",
    "    # Extract claims (properties)\n",
    "    claims = entity_data.get('claims', {})\n",
    "    \n",
    "    # Check for \"instance of\" property (P31)\n",
    "    if 'P31' in claims:\n",
    "        for claim in claims['P31']:\n",
    "            mainsnak = claim.get('mainsnak', {})\n",
    "            datavalue = mainsnak.get('datavalue', {})\n",
    "            value = datavalue.get('value', {})\n",
    "            if value.get('id') == 'Q7725634':  # Q7725634 is the ID for 'literary work'\n",
    "                return True\n",
    "            if value.get('id') == 'Q47461344':  # Q47461344 is the ID for 'written work'\n",
    "                return True\n",
    "            if value.get('id') == 'Q838948':  # Q838948 is the ID for 'work of art'\n",
    "                return True\n",
    "            if value.get('id') == 'Q116476516':  # Q116476516 is the ID for 'dramatic work'\n",
    "                return True\n",
    "    \n",
    "    return False"
   ]
  },
  {
   "cell_type": "markdown",
   "id": "5d9ae261",
   "metadata": {},
   "source": [
    "### Finetuning spaCy's NER for a Corpus of Literary Historical Texts"
   ]
  },
  {
   "cell_type": "code",
   "execution_count": 7,
   "id": "256a3887",
   "metadata": {},
   "outputs": [],
   "source": [
    "#today = re.sub('-', '', str(date.today()))\n",
    "today = \"20240919\""
   ]
  },
  {
   "cell_type": "code",
   "execution_count": 8,
   "id": "e0a13ffa-8696-4d73-aa31-abcd04248da8",
   "metadata": {},
   "outputs": [],
   "source": [
    "base_dir = 'C:/Users/Brottrager/Documents/Diss/sec_lit/ENG/'\n",
    "model_path = 'C:/Users/Brottrager/Documents/Diss/code/python/bespokeNER/output_ENG/'\n",
    "path_results = 'C:/Users/Brottrager/Documents/Diss/sec_lit/ENG/' + today + '_wordembeddings'"
   ]
  },
  {
   "cell_type": "code",
   "execution_count": 9,
   "id": "8fbc38d3-803b-426e-8265-3b0a050200bd",
   "metadata": {},
   "outputs": [],
   "source": [
    "if not os.path.exists(path_results):\n",
    "    os.makedirs(path_results)"
   ]
  },
  {
   "cell_type": "markdown",
   "id": "0b0a2337-35f9-4c02-a2b4-08aee32943d2",
   "metadata": {},
   "source": [
    "The manually annotated texts are imported, split into sentencens, and then turned into training data in json format."
   ]
  },
  {
   "cell_type": "code",
   "execution_count": 10,
   "id": "b8e304f3",
   "metadata": {},
   "outputs": [],
   "source": [
    "corpus_path = base_dir + 'lit_histories_annotated'\n",
    "corpus_dir = Path(corpus_path).glob('*.txt')\n",
    "files = list(corpus_dir)"
   ]
  },
  {
   "cell_type": "code",
   "execution_count": 11,
   "id": "e985f85d",
   "metadata": {},
   "outputs": [],
   "source": [
    "nlp = spacy.load(\"en_core_web_lg\")"
   ]
  },
  {
   "cell_type": "code",
   "execution_count": 12,
   "id": "74a2e130",
   "metadata": {},
   "outputs": [],
   "source": [
    "nlp.max_length = 4000000 "
   ]
  },
  {
   "cell_type": "code",
   "execution_count": 13,
   "id": "2cf4dda3-ff22-4f00-8cb6-567f53c3be69",
   "metadata": {},
   "outputs": [
    {
     "data": {
      "text/plain": [
       "<spacy.pipeline.sentencizer.Sentencizer at 0x213261b2990>"
      ]
     },
     "execution_count": 13,
     "metadata": {},
     "output_type": "execute_result"
    }
   ],
   "source": [
    "config = {\"punct_chars\": ['!', '.', '?']}\n",
    "nlp.add_pipe(\"sentencizer\", config=config, before=\"parser\")"
   ]
  },
  {
   "cell_type": "code",
   "execution_count": null,
   "id": "9529e6b1-68bf-41a6-97b1-472b701a1c76",
   "metadata": {},
   "outputs": [],
   "source": [
    "sentences = []\n",
    "entities_matches = []\n",
    "for file in files:\n",
    "    #print('File ' + str(counter) + ' is being processed!')\n",
    "    all_paragraphs = ''\n",
    "    with open (file, encoding = \"utf-8\") as f:\n",
    "        text = f.read().split(\"\\n\")\n",
    "        for paragraph in text:\n",
    "            if paragraph != \"\":\n",
    "                doc = nlp(paragraph)\n",
    "                for sent in doc.sents:\n",
    "                    newString = str(sent)\n",
    "                    entities_sent_matches = []\n",
    "                    num_entities = sum(1 for _ in re.finditer('<.+?>', str(newString)))\n",
    "                    while num_entities > 0: \n",
    "                        entities = re.finditer('<.+?>', str(newString))\n",
    "                        entities_accum = []\n",
    "                        for e in entities:\n",
    "                            #print(e)\n",
    "                            entity_name = re.sub('<(.+?);.+?>', '\\\\1', e.group())\n",
    "                            tag = re.sub('<.+(WORK_OF_ART|PERSON)>', '\\\\1', e.group())\n",
    "                            newString = newString[0:e.start()] + entity_name + newString[e.end():len(newString)]\n",
    "                            entity_name = re.sub(r'([\\(\\)\\[\\]])', r'\\\\\\1', entity_name)\n",
    "                            entities_accum.append([e.start(), e.start()+len(entity_name), tag])\n",
    "                            num_entities = num_entities - 1 \n",
    "                            break\n",
    "                        entities_sent_matches.append(entities_accum)\n",
    "                    entities_matches.append([x for xs in entities_sent_matches for x in xs])\n",
    "                    sentences.append(newString)"
   ]
  },
  {
   "cell_type": "code",
   "execution_count": null,
   "id": "7d013890-70d1-495a-837c-27ce34e5b488",
   "metadata": {},
   "outputs": [],
   "source": [
    "TRAIN_DATA = []\n",
    "counter = 0\n",
    "for ent in entities_matches:\n",
    "    if len(ent) != 0:\n",
    "        TRAIN_DATA.append([sentences[counter], {\"entities\":  ent}])\n",
    "    counter += 1"
   ]
  },
  {
   "cell_type": "code",
   "execution_count": null,
   "id": "e1990775-d25e-4edf-adc8-f6ee97358918",
   "metadata": {},
   "outputs": [],
   "source": [
    "save_data(base_dir + today + '_final_manual_training_data_ENG.json', TRAIN_DATA)"
   ]
  },
  {
   "cell_type": "code",
   "execution_count": null,
   "id": "5b60c178",
   "metadata": {},
   "outputs": [],
   "source": [
    "GOLD_STANDARD = load_data(base_dir + '20231010_gold_standard_complete.json')"
   ]
  },
  {
   "cell_type": "code",
   "execution_count": null,
   "id": "c64205a9-92d1-40e5-9ea4-09ddb87265e7",
   "metadata": {},
   "outputs": [],
   "source": [
    "TRAIN_DATA = load_data(base_dir + today + '_final_manual_training_data_ENG.json')"
   ]
  },
  {
   "cell_type": "markdown",
   "id": "26e80291",
   "metadata": {},
   "source": [
    "#### Training"
   ]
  },
  {
   "cell_type": "code",
   "execution_count": null,
   "id": "d77230c9",
   "metadata": {},
   "outputs": [],
   "source": [
    "db = DocBin() # create a DocBin object\n",
    "\n",
    "for text, annot in tqdm(TRAIN_DATA): # data in previous format\n",
    "    doc = nlp.make_doc(text) # create doc object from text\n",
    "    ents = []\n",
    "    for start, end, label in annot[\"entities\"]: # add character indexes\n",
    "        span = doc.char_span(start, end, label=label, alignment_mode=\"contract\")\n",
    "        if span is None:\n",
    "            print(\"Skipping entity\")\n",
    "        else:\n",
    "            ents.append(span)\n",
    "    doc.ents = ents # label the text with the ents\n",
    "    db.add(doc)\n",
    "\n",
    "db.to_disk(today + \"_final_manual_train_ENG.spacy\") # save the docbin object"
   ]
  },
  {
   "cell_type": "markdown",
   "id": "10a73971",
   "metadata": {},
   "source": [
    "The model is trained in the command line:\n",
    "\n",
    "https://spacy.io/usage/training#config\n",
    "\n",
    "CMD\n",
    "\n",
    "python -m spacy init fill-config base_config_ENG.cfg config.cfg\n",
    "\n",
    "python -m spacy train config.cfg --output ./output_ENG --paths.train ./20240821_final_manual_train_ENG.spacy --paths.dev ./20240821_final_manual_train_ENG.spacy "
   ]
  },
  {
   "cell_type": "code",
   "execution_count": null,
   "id": "010dde4b",
   "metadata": {},
   "outputs": [],
   "source": [
    "trained = spacy.load(model_path + 'model-best') \n",
    "trained.max_length = 3000000"
   ]
  },
  {
   "cell_type": "markdown",
   "id": "642e492f",
   "metadata": {},
   "source": [
    "#### Testing"
   ]
  },
  {
   "cell_type": "markdown",
   "id": "3aefd9cb-48a4-42d3-bebf-a739401d248b",
   "metadata": {},
   "source": [
    "To evaluate the best fine-tuned model, the model's performance is compared to the basic nlp model and a combined nlp+fine-tuned model."
   ]
  },
  {
   "cell_type": "code",
   "execution_count": null,
   "id": "4db216c1",
   "metadata": {},
   "outputs": [],
   "source": [
    "scorer = Scorer()"
   ]
  },
  {
   "cell_type": "code",
   "execution_count": null,
   "id": "b6b740f3",
   "metadata": {
    "scrolled": true
   },
   "outputs": [],
   "source": [
    "examples_nlp = []\n",
    "for text, annotations in GOLD_STANDARD:\n",
    "    doc = nlp.make_doc(text)\n",
    "    example = Example.from_dict(doc, annotations)\n",
    "    example.predicted = nlp(str(example.predicted))\n",
    "    examples_nlp.append(example)"
   ]
  },
  {
   "cell_type": "code",
   "execution_count": null,
   "id": "9c35b8ec",
   "metadata": {
    "scrolled": true
   },
   "outputs": [],
   "source": [
    "examples_trained = []\n",
    "for text, annotations in GOLD_STANDARD:\n",
    "    doc = nlp.make_doc(text)\n",
    "    example = Example.from_dict(doc, annotations)\n",
    "    example.predicted = trained(str(example.predicted))\n",
    "    examples_trained.append(example)"
   ]
  },
  {
   "cell_type": "code",
   "execution_count": null,
   "id": "dcf913ba",
   "metadata": {},
   "outputs": [],
   "source": [
    "dict_scores = [scorer.score(examples_nlp), \n",
    "               scorer.score(examples_trained)]"
   ]
  },
  {
   "cell_type": "code",
   "execution_count": null,
   "id": "a1e40bd3",
   "metadata": {},
   "outputs": [],
   "source": [
    "p_worksofart = []\n",
    "r_worksofart = []\n",
    "f_worksofart = []\n",
    "\n",
    "p_person = []\n",
    "r_person = []\n",
    "f_person = []\n",
    "\n",
    "dicts = ['Base NLP model', 'Fine-tuned model']\n",
    "\n",
    "i = 0\n",
    "for d in dict_scores:\n",
    "    print('========== ' + dicts[i] + ' ==========\\n')\n",
    "    \n",
    "    print('WORK_OF_ART')\n",
    "    print('Precision: ' + str(d['ents_per_type']['WORK_OF_ART']['p']))\n",
    "    print('Recall: ' + str(d['ents_per_type']['WORK_OF_ART']['r']))\n",
    "    print('F1: ' + str(d['ents_per_type']['WORK_OF_ART']['f']))\n",
    "    print('\\n')\n",
    "    \n",
    "    print('PERSON')\n",
    "    print('Precision: ' + str(d['ents_per_type']['PERSON']['p']))\n",
    "    print('Recall: ' + str(d['ents_per_type']['PERSON']['r']))\n",
    "    print('F1: ' + str(d['ents_per_type']['PERSON']['f']))\n",
    "    print('\\n')\n",
    "    \n",
    "    i += 1"
   ]
  },
  {
   "cell_type": "markdown",
   "id": "9821db18",
   "metadata": {},
   "source": [
    "### Entity Fishing"
   ]
  },
  {
   "cell_type": "markdown",
   "id": "1a91e603",
   "metadata": {},
   "source": [
    "For the entity fishing, an instance of entity-fishing has to be run locally with Docker (see this [tutorial](https://nerd.readthedocs.io/en/latest/docker.html)). After pulling the image from Docker Hub and downloading the necessary data resources, the container can be run with this git command:"
   ]
  },
  {
   "cell_type": "markdown",
   "id": "2f3b4f81",
   "metadata": {},
   "source": [
    "docker run --rm -p 8090:8090 -p 8091:8091 \\\\\n",
    "\n",
    "  -v C:/entity-fishing/data/db-kb/db-kb:/opt/entity-fishing/data/db/db-kb \\\\\n",
    "  \n",
    "  -v C:/entity-fishing/data/db-en/db-en:/opt/entity-fishing/data/db/db-en \\\\\n",
    "  \n",
    "  -v C:/entity-fishing/data/db-de/db-de:/opt/entity-fishing/data/db/db-de \\\\\n",
    "  \n",
    "  grobid/entity-fishing:0.0.6"
   ]
  },
  {
   "cell_type": "code",
   "execution_count": null,
   "id": "73731d6c-7112-4247-8285-1f0a747ee85b",
   "metadata": {
    "scrolled": true
   },
   "outputs": [],
   "source": [
    "trained.add_pipe(\"entityfishing\", config={\"extra_info\": True, \"language\": \"en\", \"api_ef_base\": \"http://localhost:8090/service\"})"
   ]
  },
  {
   "cell_type": "code",
   "execution_count": null,
   "id": "d095f5a1",
   "metadata": {},
   "outputs": [],
   "source": [
    "corpus_path = base_dir + 'lit_histories_preprocessed'\n",
    "corpus_dir = Path(corpus_path).glob('*.txt')\n",
    "files = list(corpus_dir)"
   ]
  },
  {
   "cell_type": "code",
   "execution_count": null,
   "id": "559db4ac-a9c9-48bc-959e-e7a2ca470ca1",
   "metadata": {},
   "outputs": [],
   "source": [
    "newpath = base_dir + today + '_txt_search&replace_model=trained'\n",
    "if not os.path.exists(newpath):\n",
    "    os.makedirs(newpath)"
   ]
  },
  {
   "cell_type": "markdown",
   "id": "407ec60d",
   "metadata": {},
   "source": [
    "#### Search & Replace Logic"
   ]
  },
  {
   "cell_type": "markdown",
   "id": "18f2741f-3e34-4189-b89b-eb6bec2b4d6f",
   "metadata": {},
   "source": [
    "In this first iteration, the NER tagger is used on all files that have not yet been annotated. If an entity is detected, it is replaced by a sequence of the detected string, a normalised entity name, its wikiID (if applicable), and a tag for PERSON or WORK_OF_ART, placed in pointed brackets."
   ]
  },
  {
   "cell_type": "code",
   "execution_count": null,
   "id": "2891bf91-0c92-46f5-886f-229c79c002b1",
   "metadata": {},
   "outputs": [],
   "source": [
    "persons = []\n",
    "works_of_art = []\n",
    "for file in tqdm(files):\n",
    "    all_paragraphs = ''\n",
    "    with open (file, encoding = \"utf-8\") as f:\n",
    "        text = f.read().split(\"\\n\")\n",
    "        for paragraph in text:\n",
    "            doc = trained(paragraph)\n",
    "            newString = paragraph\n",
    "            for e in reversed(doc.ents): #reversed to not modify the offsets of other entities when substituting\n",
    "                if e.label_ == \"PERSON\":\n",
    "                    start = e.start_char\n",
    "                    end = start + len(e.text)\n",
    "                    if str(e._.normal_term).upper() != 'NONE':\n",
    "                        normalised = str(e._.normal_term).upper().replace(' ', '_')\n",
    "                        normalised = normalised.replace(',', '')\n",
    "                        newString = newString[:start] + '<' + e.text + '; ' + normalised + '; ' + str(e._.kb_qid) + '; ' + e.label_ + '>' +  newString[end:]\n",
    "                        works_of_art.append([e.text + \",\" + str(e._.normal_term).upper().replace(' ', '_')  + \",\" + str(e._.kb_qid) + \",\" + e.label_])\n",
    "                    else:\n",
    "                        newString = newString[:start] + '<' + e.text + '; ' + e.text.upper().replace(' ', '_') + '; noWikiID; ' + e.label_ +'>' + newString[end:]\n",
    "                        works_of_art.append([e.text + \",\" + e.text.upper().replace(' ', '_')  + \",\" + str(e._.kb_qid) + \",\" + e.label_])\n",
    "                if e.label_ == \"WORK_OF_ART\":\n",
    "                    start = e.start_char\n",
    "                    end = start + len(e.text)\n",
    "                    if str(e._.normal_term).upper() != 'NONE':\n",
    "                        normalised = str(e._.normal_term).upper().replace(' ', '_')\n",
    "                        normalised = normalised.replace(',', '')\n",
    "                        newString = newString[:start] + '<' + e.text + '; ' + normalised + '; ' + str(e._.kb_qid) + '; ' + e.label_ + '>' +  newString[end:]\n",
    "                        works_of_art.append([e.text + \",\" + str(e._.normal_term).upper().replace(' ', '_')  + \",\" + str(e._.kb_qid) + \",\" + e.label_])\n",
    "                    else:\n",
    "                        newString = newString[:start] + '<' + e.text + '; ' + e.text.upper().replace(' ', '_') + '; noWikiID; ' + e.label_ +'>' + newString[end:]\n",
    "                        works_of_art.append([e.text + \",\" + e.text.upper().replace(' ', '_')  + \",\" + str(e._.kb_qid) + \",\" + e.label_])\n",
    "\n",
    "            all_paragraphs = all_paragraphs + '\\n' + newString\n",
    "                \n",
    "        file_name = re.sub('.+lit_histories_preprocessed.(.+.txt)', '\\\\1', str(file))\n",
    "        file_name = newpath + '/' + file_name\n",
    "        f = open(file_name, \"w\",  encoding = \"utf-8\")\n",
    "        f.write(all_paragraphs)\n",
    "        f.close()"
   ]
  },
  {
   "cell_type": "code",
   "execution_count": null,
   "id": "8e356827",
   "metadata": {},
   "outputs": [],
   "source": [
    "newpath = base_dir + today + '_final_corpus_ENG'\n",
    "if not os.path.exists(newpath):\n",
    "    os.makedirs(newpath)"
   ]
  },
  {
   "cell_type": "code",
   "execution_count": null,
   "id": "af223b9b-6f21-4e62-9e62-05a0e945fb03",
   "metadata": {},
   "outputs": [],
   "source": [
    "corpus_path = base_dir + today + '_txt_search&replace_model=trained'\n",
    "corpus_dir = Path(corpus_path).glob('*.txt')\n",
    "files = list(corpus_dir)"
   ]
  },
  {
   "cell_type": "markdown",
   "id": "30e32d37-f80a-4c60-ab47-92f6e4c3b984",
   "metadata": {},
   "source": [
    "The newly annotated files are now copied into a new directory, together with the manually annotated files. Here, I also went through a first round of manual correction, replacing obvious mis-identifications."
   ]
  },
  {
   "cell_type": "code",
   "execution_count": null,
   "id": "71cae747-81d9-419f-bb0d-eee369c6dcc7",
   "metadata": {},
   "outputs": [],
   "source": [
    "for file in files:\n",
    "    file_name = re.sub('.+txt_search&replace_model=trained.(.+.txt)', '\\\\1', str(file))\n",
    "    new_file_name = newpath + '/' + file_name\n",
    "    shutil.copyfile(file, new_file_name)"
   ]
  },
  {
   "cell_type": "code",
   "execution_count": null,
   "id": "ba9f82c8-ea92-4aa6-a31f-9cc8be04a111",
   "metadata": {},
   "outputs": [],
   "source": [
    "annotated = base_dir + 'lit_histories_annotated'\n",
    "corpus_dir = Path(annotated).glob('*.txt')\n",
    "files = list(corpus_dir)"
   ]
  },
  {
   "cell_type": "code",
   "execution_count": null,
   "id": "afa95004-7582-47c1-9292-5d434be19021",
   "metadata": {},
   "outputs": [],
   "source": [
    "for file in files:\n",
    "    file_name = re.sub('.+lit_histories_annotated.(.+.txt)', '\\\\1', str(file))\n",
    "    new_file_name = newpath + '/' + file_name\n",
    "    shutil.copyfile(file, new_file_name)"
   ]
  },
  {
   "cell_type": "code",
   "execution_count": null,
   "id": "8fddb756-fa4f-41d0-9871-fe605859cf46",
   "metadata": {},
   "outputs": [],
   "source": [
    "corpus_path = base_dir + today + '_final_corpus_ENG'\n",
    "corpus_dir = Path(corpus_path).glob('*.txt')\n",
    "files = list(corpus_dir)"
   ]
  },
  {
   "cell_type": "markdown",
   "id": "1c97e528-9b26-4e65-b673-3d7163f14211",
   "metadata": {},
   "source": [
    "To prepare a consolidation of name variations, all detected entities that have a wikiID are extracted from the text files---both automatically and manually annotated---and are stored in two dictionaries. "
   ]
  },
  {
   "cell_type": "code",
   "execution_count": null,
   "id": "25532b00",
   "metadata": {},
   "outputs": [],
   "source": [
    "dict_per = {}\n",
    "dict_text = {}\n",
    "\n",
    "for file in tqdm(files):\n",
    "    with open (file, encoding = \"utf-8\") as f:\n",
    "        text = f.read()\n",
    "        matches = re.findall( r'<.+?>', text)\n",
    "        for m in matches:\n",
    "            if len(re.findall(';', m)) > 1:\n",
    "                key = re.sub('<(.+?); ([A-Z].+?); (Q.+?|noWikiID); (PERSON|WORK_OF_ART)>', '\\\\1', m)\n",
    "                wikiname = re.sub('<(.+?); ([A-Z].+?); (Q.+?|noWikiID); (PERSON|WORK_OF_ART)>', '\\\\2', m)\n",
    "                wikiID = re.sub('<(.+?); ([A-Z].+?); (Q.+?|noWikiID); (PERSON|WORK_OF_ART)>', '\\\\3', m)\n",
    "                tag = re.sub('<(.+?); ([A-Z].+?); (Q.+?|noWikiID); (PERSON|WORK_OF_ART)>', '\\\\4', m)\n",
    "                if tag == 'PERSON':\n",
    "                    if wikiID != 'noWikiID':\n",
    "                        if wikiname in dict_per:\n",
    "                            if key in dict_per[wikiname][0]:\n",
    "                                dict_per[wikiname][3] += 1\n",
    "                            else:\n",
    "                                dict_per[wikiname][0].append(key)\n",
    "                                dict_per[wikiname][3] += 1\n",
    "                        else:\n",
    "                            dict_per[wikiname] = [[key], wikiID, tag, 1]\n",
    "                elif tag == 'WORK_OF_ART':\n",
    "                    if wikiID != 'noWikiID':\n",
    "                        if wikiname in dict_text:\n",
    "                            if key in dict_text[wikiname][0]:\n",
    "                                dict_text[wikiname][3] += 1\n",
    "                            else:\n",
    "                                dict_text[wikiname][0].append(key)\n",
    "                                dict_text[wikiname][3] += 1\n",
    "                        else:\n",
    "                            dict_text[wikiname] = [[key], wikiID, tag, 1]"
   ]
  },
  {
   "cell_type": "code",
   "execution_count": null,
   "id": "cec8d9f4",
   "metadata": {},
   "outputs": [],
   "source": [
    "keys = list(dict_per.keys())\n",
    "keys.sort()\n",
    "dict_per = {i: dict_per[i] for i in keys}"
   ]
  },
  {
   "cell_type": "code",
   "execution_count": null,
   "id": "e7004eb1",
   "metadata": {},
   "outputs": [],
   "source": [
    "keys = list(dict_text.keys())\n",
    "keys.sort()\n",
    "dict_text = {i: dict_text[i] for i in keys}"
   ]
  },
  {
   "cell_type": "markdown",
   "id": "359ece8e-f14c-4e6c-92be-7b15f8e2b555",
   "metadata": {},
   "source": [
    "These dictionaries are now filtered: dict_per_filtered should only include entries that are linked to a person, dict_text_filtered only entries that are a written work, literary work, and so on. This helps to exclude non-sensical but common mis-identifications (city names, race horses, athletes, you name it). "
   ]
  },
  {
   "cell_type": "code",
   "execution_count": null,
   "id": "24a736b1-f934-48dd-a054-505a51421e7f",
   "metadata": {},
   "outputs": [],
   "source": [
    "dict_per_filtered = {}\n",
    "\n",
    "for key, values in tqdm(dict_per.items()):\n",
    "    if is_instance_of_human(values[1]) == True:\n",
    "        if is_irrelevant_occupation(values[1]) == False:\n",
    "            dict_per_filtered[key] = values    "
   ]
  },
  {
   "cell_type": "code",
   "execution_count": null,
   "id": "3609aae7-a6b7-4520-bf8e-5ca988abb0c7",
   "metadata": {},
   "outputs": [],
   "source": [
    "dict_text_filtered = {}\n",
    "\n",
    "for key, values in tqdm(dict_text.items()):\n",
    "    if is_instance_of_literarywork(values[1]) == True:\n",
    "        dict_text_filtered[key] = values"
   ]
  },
  {
   "cell_type": "code",
   "execution_count": null,
   "id": "abb05f1a-7e04-4594-a66c-5c56858be1f5",
   "metadata": {},
   "outputs": [],
   "source": [
    "save_data(base_dir + today + '_ENG_dict_entities_PER.json', dict_per_filtered)\n",
    "save_data(base_dir + today + '_ENG_dict_entities_WORK_OF_ART.json', dict_text_filtered)"
   ]
  },
  {
   "cell_type": "code",
   "execution_count": null,
   "id": "6337992d-2f6d-4195-8e63-3571f850f8dd",
   "metadata": {},
   "outputs": [],
   "source": [
    "#dict_per_filtered = load_data(base_dir + today +'_ENG_dict_entities_PER.json')\n",
    "#dict_text_filtered = load_data(base_dir + today + '_ENG_dict_entities_WORK_OF_ART.json')"
   ]
  },
  {
   "cell_type": "markdown",
   "id": "bf4cbade-c7f8-4492-a25e-9e0287aff725",
   "metadata": {},
   "source": [
    "The dictionaries are now inverted; with the different name variations as keys and the wikinames as values."
   ]
  },
  {
   "cell_type": "code",
   "execution_count": null,
   "id": "2f896774-108e-450b-94af-c4c990927b9e",
   "metadata": {},
   "outputs": [],
   "source": [
    "inverted_dict_per = {}\n",
    "\n",
    "for key, values in dict_per_filtered.items():\n",
    "    for value in values[0]:\n",
    "        if value in inverted_dict_per:\n",
    "            inverted_dict_per.pop(value)\n",
    "        else:\n",
    "            inverted_dict_per[value] = key"
   ]
  },
  {
   "cell_type": "code",
   "execution_count": null,
   "id": "80032154-6e65-4f36-b9a4-dbdc7f61801f",
   "metadata": {},
   "outputs": [],
   "source": [
    "inverted_dict_text = {}\n",
    "\n",
    "for key, values in dict_text_filtered.items():\n",
    "    for value in values[0]:\n",
    "        if value in inverted_dict_text:\n",
    "            inverted_dict_text.pop(value)\n",
    "        else:\n",
    "            inverted_dict_text[value] = key"
   ]
  },
  {
   "cell_type": "code",
   "execution_count": null,
   "id": "246047b0-acbe-469c-b11d-3bdcc858362a",
   "metadata": {},
   "outputs": [],
   "source": [
    "consolidated_dir = base_dir + today + '_final_corpus_ENG_consolidated'\n",
    "if not os.path.exists(consolidated_dir):\n",
    "    os.makedirs(consolidated_dir)"
   ]
  },
  {
   "cell_type": "markdown",
   "id": "e2608fe0-4091-42e2-95b2-c83d7c53354f",
   "metadata": {},
   "source": [
    "In the second iteration, all entities that have not been attributed a wikiID are compared to existing entries in both dictioniaries and are, if applicable, updated to match the dictionary information. If an entity has been deleted from a dictionary (because, for example, is_instance_of_human yielded False), the entity is also compared to existing disambiguated entities or updated to a 'noWikiID' entry."
   ]
  },
  {
   "cell_type": "code",
   "execution_count": null,
   "id": "49bfb7b4-0400-463c-9e75-fdef6e041b3f",
   "metadata": {},
   "outputs": [],
   "source": [
    "for file in tqdm(files):\n",
    "    with open (file, encoding = \"utf-8\") as f:\n",
    "        text = f.read().split(\"\\n\")\n",
    "        newText = ''\n",
    "        for paragraph in text:\n",
    "            newString = paragraph\n",
    "            entities = re.finditer('<.+?>', newString)\n",
    "            if entities is not None:\n",
    "                for e in reversed(list(entities)):\n",
    "                    key = re.sub('<(.+?); ([A-Z].+?); (Q.+?|noWikiID); (PERSON|WORK_OF_ART)>', '\\\\1', e.group())\n",
    "                    wikiname = re.sub('<(.+?); ([A-Z].+?); (Q.+?|noWikiID); (PERSON|WORK_OF_ART)>', '\\\\2', e.group())\n",
    "                    wikiID = re.sub('<(.+?); ([A-Z].+?); (Q.+?|noWikiID); (PERSON|WORK_OF_ART)>', '\\\\3', e.group())\n",
    "                    tag = re.sub('<(.+?); ([A-Z].+?); (Q.+?|noWikiID); (PERSON|WORK_OF_ART)>', '\\\\4', e.group())\n",
    "                    if tag == 'PERSON':\n",
    "                        if wikiID == 'noWikiID':\n",
    "                            if wikiname in dict_per_filtered:\n",
    "                                wikiID = dict_per_filtered[wikiname][2]\n",
    "                            elif key in inverted_dict_per:\n",
    "                                wikiname = inverted_dict_per[key]\n",
    "                                wikiID = dict_per_filtered[inverted_dict_per[key]][1]\n",
    "                            else:\n",
    "                                fuzzy_matches = process.extract(key, inverted_dict_per.keys())\n",
    "                                if fuzzy_matches[0][1] >= 95:\n",
    "                                    wikiname = inverted_dict_per[fuzzy_matches[0][0]]\n",
    "                                    wikiID = dict_per_filtered[inverted_dict_per[fuzzy_matches[0][0]]][1]\n",
    "                                    \n",
    "                            newString = newString[0:e.start()] + '<' + key + '; ' + wikiname + '; ' + wikiID + '; ' + tag + '>' + newString[e.end():len(newString)]\n",
    "\n",
    "                        else:\n",
    "                            if wikiname not in dict_per_filtered:\n",
    "                                if key in inverted_dict_per:\n",
    "                                    wikiname = inverted_dict_per[key]\n",
    "                                    wikiID = dict_per_filtered[inverted_dict_per[key]][1]\n",
    "                                else:\n",
    "                                    wikiname = key.upper().replace(' ', '_')\n",
    "                                    wikiname = wikiname.replace(',', '')\n",
    "                                    wikiID = 'noWikiID'\n",
    "                                    \n",
    "                            newString = newString[0:e.start()] + '<' + key + '; ' + wikiname + '; ' + wikiID + '; ' + tag + '>' + newString[e.end():len(newString)]\n",
    "                    if tag == 'WORK_OF_ART':\n",
    "                        if wikiID == 'noWikiID':\n",
    "                            if wikiname in dict_text_filtered:\n",
    "                                wikiID = dict_text_filtered[wikiname][2]\n",
    "                            elif key in inverted_dict_text:\n",
    "                                wikiname = inverted_dict_text[key]\n",
    "                                wikiID = dict_text_filtered[inverted_dict_text[key]][1]\n",
    "                            else:\n",
    "                                fuzzy_matches = process.extract(key, inverted_dict_text.keys())\n",
    "                                if fuzzy_matches[0][1] >= 95:\n",
    "                                    wikiname = inverted_dict_text[fuzzy_matches[0][0]]\n",
    "                                    wikiID = dict_text_filtered[inverted_dict_text[fuzzy_matches[0][0]]][1]\n",
    "                                    \n",
    "                            newString = newString[0:e.start()] + '<' + key + '; ' + wikiname + '; ' + wikiID + '; ' + tag + '>' + newString[e.end():len(newString)]\n",
    "                        \n",
    "                        else:\n",
    "                            if wikiname not in dict_text_filtered:\n",
    "                                if key in inverted_dict_text:\n",
    "                                    wikiname = inverted_dict_text[key]\n",
    "                                    wikiID = dict_text_filtered[inverted_dict_text[key]][1]\n",
    "                                else:\n",
    "                                    wikiname = key.upper().replace(' ', '_')\n",
    "                                    wikiname = wikiname.replace(',', '')\n",
    "                                    wikiID = 'noWikiID'\n",
    "                                    \n",
    "                                newString = newString[0:e.start()] + '<' + key + '; ' + wikiname + '; ' + wikiID + '; ' + tag + '>' + newString[e.end():len(newString)]\n",
    "            \n",
    "            newText = newText + '\\n' + newString\n",
    "            \n",
    "    file_name = re.sub('.+ENG.(.+.txt)', '\\\\1', str(file))\n",
    "    file_name = consolidated_dir + '/' + file_name\n",
    "    f = open(file_name, \"w\",  encoding = \"utf-8\")\n",
    "    f.write(newText)\n",
    "    f.close()"
   ]
  },
  {
   "cell_type": "code",
   "execution_count": null,
   "id": "9540113a-c1b3-4c28-b021-0bee6d63084b",
   "metadata": {},
   "outputs": [],
   "source": [
    "corpus_path = base_dir + today + '_final_corpus_ENG_consolidated'\n",
    "corpus_dir = Path(corpus_path).glob('*.txt')\n",
    "files = list(corpus_dir)"
   ]
  },
  {
   "cell_type": "markdown",
   "id": "a1469c89-0639-43b2-bcde-b1ad48cfd7eb",
   "metadata": {},
   "source": [
    "After the consolidation, some last manual corrections have been made. Based on the consolidated text files two new dictionaries are compiled that now include all detected entities, with or without wikiIDs, for persons and literary texts, respectively. They are sorted alphabetically, and then exported as json and csv files. \n",
    "\n",
    "<Walter Scott; WALTER_SCOTT_(CANADIAN_POLITICIAN); Q1386411; PERSON> --> <Walter Scott; WALTER_SCOTT; Q79025; PERSON>\n",
    "\n",
    "<Wordsworth; WORDSWORTH_(RAPPER); Q4020823; PERSON> --> <Wordsworth; WILLIAM_WORDSWORTH; Q45546; PERSON>\n",
    "\n",
    "<Michael Smith; MICHAEL_SMITH_(DARTS_PLAYER); Q6834464; PERSON> --> <Michael Smith; MICHAEL_SMITH; noWikiID; PERSON>\n",
    "\n",
    "<Charles Read; CHARLES_READ_(SQUASH_PLAYER); Q5081957; PERSON> --> <Charles Read; CHARLES_READ; noWikiID; PERSON>\n",
    "\n",
    "<Declan Hughes; DECLAN_HUGHES_(SNOOKER_PLAYER); Q4502680; PERSON> --> <Declan Hughes; DECLAN_HUGHES; noWikiID; PERSON>\n",
    "\n",
    "<Sydney Lee; SYDNEY_LEE_(SNOOKER_PLAYER); Q22097886; PERSON> --> <Sydney Lee; SYDNEY_LEE; noWikiID; PERSON>\n",
    "\n",
    "<Alec Brown; ALEC_BROWN_(SNOOKER_PLAYER); Q4096095; PERSON> --> <Alec Brown; ALEC_BROWN; noWikiID; PERSON>\n",
    "\n",
    "<George Walker; GEORGE_WALKER_(CHESS_PLAYER); Q1508508; PERSON> --> <George Walker; GEORGE_WALKER; noWikiID; PERSON>\n",
    "\n",
    "<Robert Owen; ROBERT_OWEN_(DARTS_PLAYER); Q39074894; PERSON> --> <Robert Owen; ROBERT_OWEN; noWikiID; PERSON>\n",
    "\n",
    "<John Bowles; JOHN_BOWLES_(DARTS_PLAYER); Q6222702; PERSON> --> <John Bowles; JOHN_BOWLES; noWikiID; PERSON>\n",
    "\n",
    "<Trevelyan; JOHN_TREVELYAN_(CHESS_PLAYER); Q67641500; PERSON> --> <Trevelyan; JOHN_TREVELYAN; noWikiID; PERSON>\n",
    "\n",
    "<Bob Quinn; BOB_QUINN_(BASEBALL_BORN_1870); Q4933713; PERSON> --> <Bob Quinn; BOB_QUINN_(BASEBALL_BORN_1870); Q4933713; PERSON>\n",
    "\n",
    "<Hess; DAVID_HESS_(BASEBALL); Q50578172; PERSON> --> <Hess; MYRA_HESS; Q269848; PERSON>\n",
    "\n",
    "<Alan Richardson; ALAN_RICHARDSON_(FOOTBALLER_BORN_1965); Q4707627; PERSON> --> <Alan Richardson; ALAN_RICHARDSON; noWikiID; PERSON>\n",
    "\n",
    "<Liam O'Flaherty; LIAM_O'FLAHERTY_(FOOTBALLER); Q6539752; PERSON> --> <Liam O'Flaherty; LIAM_O'FLAHERTY; Q370973; PERSON>\n",
    "\n",
    "<Joyce; JOYCE_(SINGER); Q3084419; PERSON> --> <Joyce; JAMES_JOYCE; Q6882; PERSON>\n",
    "\n",
    "<John Tomlin; JOHN_TOMLIN_(AMERICAN_FOOTBALL); Q6260995; PERSON> --> <John Tomlin; JOHN_TOMLIN; noWikiID; PERSON>\n",
    "\n",
    "<Peter Bell; PETER_BELL_(FOOTBALLER_BORN_1976); Q7172757; PERSON> --> <Peter Bell; PETER_BELL_(FOOTBALLER_BORN_1976); Q7172757; PERSON>\n",
    "\n",
    "<Richard Head; RICHARD_HEAD_(FOOTBALLER); Q7326351; PERSON> --> <Richard Head; RICHARD_HEAD; noWikiID; PERSON>\n",
    "\n",
    "<John Parry; JOHN_PARRY_(AMERICAN_FOOTBALL_OFFICIAL); Q16196206; PERSON> --> <John Parry; JOHN_PARRY; noWikiID; PERSON>\n",
    "\n",
    "<Hugh O'Neill; HUGH_O'NEILL_(CANADIAN_FOOTBALL); Q5932150; PERSON> --> <Hugh O'Neill; HUGH_O'NEILL; noWikiID; PERSON>\n",
    "\n",
    "<John O'Keeffe; JOHN_O'KEEFFE_(GAELIC_FOOTBALLER); Q6250925; PERSON> --> <John O'Keeffe; JOHN_O'KEEFFE; noWikiID; PERSON>\n",
    "\n",
    "<Tom Hickey; TOM_HICKEY_(FOOTBALLER_BORN_1991); Q7816187; PERSON> --> <Tom Hickey; TOM_HICKEY; noWikiID; PERSON>\n",
    "\n",
    "<McGuinness; TONY_MCGUINNESS_(FOOTBALLER); Q7822935; PERSON> --> <McGuinness; MCGUINNESS; noWikiID; PERSON>\n",
    "\n",
    "<John Rosenberg; JOHN_ROSENBERG_(AMERICAN_FOOTBALL); Q6255640; PERSON> --> <John Rosenberg; JOHN_ROSENBERG; noWikiID; PERSON>\n",
    "\n",
    "<John Bender; JOHN_BENDER_(GRIDIRON_FOOTBALL); Q6221502; PERSON> --> <John Bender; JOHN_BENDER; noWikiID; PERSON>\n",
    "\n",
    "<James Parsons; JAMES_PARSONS_(FOOTBALLER); Q29568417; PERSON> --> <James Parsons; JAMES_PARSONS; noWikiID; PERSON>\n",
    "\n",
    "<George Petrie; GEORGE_PETRIE_(AMERICAN_FOOTBALL); Q5543373; PERSON> --> <George Petrie; GEORGE_PETRIE; noWikiID; PERSON>"
   ]
  },
  {
   "cell_type": "code",
   "execution_count": null,
   "id": "799fead2-8ab9-49cd-a9bb-837e1039d965",
   "metadata": {},
   "outputs": [],
   "source": [
    "dict_per = {}\n",
    "dict_text = {}\n",
    "\n",
    "for file in tqdm(files):\n",
    "    with open (file, encoding = \"utf-8\") as f:\n",
    "        text = f.read()\n",
    "        matches = re.findall( r'<.+?>', text)\n",
    "        for m in matches:\n",
    "            if len(re.findall(';', m)) > 1:\n",
    "                key = re.sub('<(.+?); ([A-Z].+?); (Q.+?|noWikiID); (PERSON|WORK_OF_ART)>', '\\\\1', m)\n",
    "                wikiname = re.sub('<(.+?); ([A-Z].+?); (Q.+?|noWikiID); (PERSON|WORK_OF_ART)>', '\\\\2', m)\n",
    "                wikiID = re.sub('<(.+?); ([A-Z].+?); (Q.+?|noWikiID); (PERSON|WORK_OF_ART)>', '\\\\3', m)\n",
    "                tag = re.sub('<(.+?); ([A-Z].+?); (Q.+?|noWikiID); (PERSON|WORK_OF_ART)>', '\\\\4', m)\n",
    "                if tag == 'PERSON':\n",
    "                    if wikiname in dict_per:\n",
    "                        if key in dict_per[wikiname][0]:\n",
    "                            dict_per[wikiname][3] += 1\n",
    "                        else:\n",
    "                            dict_per[wikiname][0].append(key)\n",
    "                            dict_per[wikiname][3] += 1\n",
    "                    else:\n",
    "                        dict_per[wikiname] = [[key], wikiID, tag, 1]\n",
    "                elif tag == 'WORK_OF_ART':\n",
    "                    if wikiname in dict_text:\n",
    "                        if key in dict_text[wikiname][0]:\n",
    "                            dict_text[wikiname][3] += 1\n",
    "                        else:\n",
    "                            dict_text[wikiname][0].append(key)\n",
    "                            dict_text[wikiname][3] += 1\n",
    "                    else:\n",
    "                        dict_text[wikiname] = [[key], wikiID, tag, 1]"
   ]
  },
  {
   "cell_type": "code",
   "execution_count": null,
   "id": "b955ebf9-2e42-4046-8564-add3aefb1ee6",
   "metadata": {},
   "outputs": [],
   "source": [
    "keys = list(dict_per.keys())\n",
    "keys.sort()\n",
    "dict_per = {i: dict_per[i] for i in keys}"
   ]
  },
  {
   "cell_type": "code",
   "execution_count": null,
   "id": "0aae6e77-8193-4a47-9c16-6739591a445f",
   "metadata": {},
   "outputs": [],
   "source": [
    "keys = list(dict_text.keys())\n",
    "keys.sort()\n",
    "dict_text = {i: dict_text[i] for i in keys}"
   ]
  },
  {
   "cell_type": "code",
   "execution_count": null,
   "id": "e33deab4-0cdd-4d6f-bdd8-398124a423d3",
   "metadata": {},
   "outputs": [],
   "source": [
    "save_data(base_dir + today + '_ENG_dict_all_entities_PER.json', dict_per)\n",
    "save_data(base_dir + today + '_ENG_dict_all_entities_WORK_OF_ART.json', dict_text)"
   ]
  },
  {
   "cell_type": "code",
   "execution_count": null,
   "id": "bacbcd33-5c99-4706-9717-4b7ff2203b58",
   "metadata": {},
   "outputs": [],
   "source": [
    "#dict_per = load_data(base_dir + today + '_ENG_dict_all_entities_PER.json')\n",
    "#dict_text = load_data(base_dir + today + '_ENG_dict_all_entities_WORK_OF_ART.json')"
   ]
  },
  {
   "cell_type": "code",
   "execution_count": null,
   "id": "de2172bb-bf8d-4e6a-8814-a4bdf1a38183",
   "metadata": {},
   "outputs": [],
   "source": [
    "titles = list(dict_text.keys())\n",
    "details = list(dict_text.values())\n",
    "\n",
    "# Convert to DataFrame\n",
    "df = pd.DataFrame(details, columns=['variations', 'wikiID', 'tag', 'count'])\n",
    "df.insert(0, 'wikiname', titles)"
   ]
  },
  {
   "cell_type": "code",
   "execution_count": null,
   "id": "b93c9fc3-c33b-4bf3-9eaa-9669704fe482",
   "metadata": {},
   "outputs": [],
   "source": [
    "df.to_csv(base_dir + today + '_texts_df_tobeclustered.csv', encoding='utf8')"
   ]
  },
  {
   "cell_type": "code",
   "execution_count": null,
   "id": "0e0f92a9-f608-4126-86a5-437a6aacc96a",
   "metadata": {},
   "outputs": [],
   "source": [
    "persons = list(dict_per.keys())\n",
    "details = list(dict_per.values())\n",
    "\n",
    "# Convert to DataFrame\n",
    "df = pd.DataFrame(details, columns=['variations', 'wikiID', 'tag', 'count'])\n",
    "df.insert(0, 'wikiname', persons)"
   ]
  },
  {
   "cell_type": "code",
   "execution_count": null,
   "id": "35a68b87-9eba-46a7-ba0b-1ae7baffc84e",
   "metadata": {},
   "outputs": [],
   "source": [
    "df.to_csv(base_dir + today + '_persons_df_tobeclustered.csv', encoding='utf8')"
   ]
  },
  {
   "cell_type": "markdown",
   "id": "bfeb7c20-7ba1-40bd-8051-1520adf364aa",
   "metadata": {},
   "source": [
    "### OpenRefine"
   ]
  },
  {
   "cell_type": "markdown",
   "id": "cf9fa2ca-fd36-4708-b2a1-f155fd86fb7e",
   "metadata": {},
   "source": [
    "OpenRefine: export as xslx, save as csv"
   ]
  },
  {
   "cell_type": "code",
   "execution_count": null,
   "id": "184656de-193d-489b-a836-d63c20302943",
   "metadata": {},
   "outputs": [],
   "source": [
    "df_texts = pd.read_csv(base_dir + today + '-texts-df-clustered.csv', encoding='utf8', sep=';')\n",
    "df_persons = pd.read_csv(base_dir + today + '-persons-df-clustered.csv', encoding='utf8', sep=';')"
   ]
  },
  {
   "cell_type": "code",
   "execution_count": null,
   "id": "5ba5f15b-83e1-4354-9101-d019fc974b65",
   "metadata": {},
   "outputs": [],
   "source": [
    "df_texts['variations'] = df_texts['variations'].apply(ast.literal_eval)\n",
    "df_persons['variations'] = df_persons['variations'].apply(ast.literal_eval)"
   ]
  },
  {
   "cell_type": "code",
   "execution_count": null,
   "id": "3974c59a-3fd1-4626-ad74-4addaf5703d4",
   "metadata": {},
   "outputs": [],
   "source": [
    "dict_text_clustered = {}\n",
    "\n",
    "for index, row in df_texts.iterrows():\n",
    "    if row.iloc[1] in dict_text_clustered: # is wikiname in dict?\n",
    "        dict_text_clustered[row.iloc[1]][0] = dict_text_clustered[row.iloc[1]][0] + row.iloc[2] # if yes, then add variations and check if wikiID can be added\n",
    "        if row.iloc[3] != \"noWikiID\": \n",
    "            dict_text_clustered[row.iloc[1]][1] = row.iloc[3]\n",
    "        dict_text_clustered[row.iloc[1]][3] += row.iloc[5] # add up the count\n",
    "    else:\n",
    "        dict_text_clustered[row.iloc[1]] = [row.iloc[2], row.iloc[3], row.iloc[4], row.iloc[5]] # wikiname, variations, wikiID; tag, count"
   ]
  },
  {
   "cell_type": "code",
   "execution_count": null,
   "id": "2ef5709f-467e-4351-846b-04298c9b0854",
   "metadata": {
    "scrolled": true
   },
   "outputs": [],
   "source": [
    "dict_persons_clustered = {}\n",
    "\n",
    "for index, row in df_persons.iterrows():\n",
    "    if row.iloc[1] in dict_persons_clustered: # is wikiname in dict?\n",
    "        dict_persons_clustered[row.iloc[1]][0] = dict_persons_clustered[row.iloc[1]][0] + row.iloc[2] # if yes, then add variations and check if wikiID can be added\n",
    "        if row.iloc[3] != \"noWikiID\": \n",
    "            dict_persons_clustered[row.iloc[1]][1] = row.iloc[3]\n",
    "        dict_persons_clustered[row.iloc[1]][3] += row.iloc[5] # add up the count\n",
    "    else:\n",
    "        dict_persons_clustered[row.iloc[1]] = [row.iloc[2], row.iloc[3], row.iloc[4], row.iloc[5]] # wikiname, variations, wikiID; tag, count"
   ]
  },
  {
   "cell_type": "code",
   "execution_count": null,
   "id": "9358b39a-5def-423f-9e02-5f03de77e34b",
   "metadata": {},
   "outputs": [],
   "source": [
    "#save_data(base_dir + today + '_ENG_dict_all_entities_WORK_OF_ART_final.json', dict_text_clustered)\n",
    "#save_data(base_dir + today + '_ENG_dict_all_entities_PERSON_final.json', dict_persons_clustered)"
   ]
  },
  {
   "cell_type": "code",
   "execution_count": 11,
   "id": "d35c4463-eab0-4f30-812e-ec58395b9db6",
   "metadata": {},
   "outputs": [],
   "source": [
    "dict_text_clustered = load_data(base_dir + today + '_ENG_dict_all_entities_WORK_OF_ART_final.json')\n",
    "dict_persons_clustered = load_data(base_dir + today + '_ENG_dict_all_entities_PERSON_final.json')"
   ]
  },
  {
   "cell_type": "code",
   "execution_count": 12,
   "id": "83e11fed-b9ca-4e67-82a2-96cdb482b4d3",
   "metadata": {},
   "outputs": [
    {
     "data": {
      "text/plain": [
       "15577"
      ]
     },
     "execution_count": 12,
     "metadata": {},
     "output_type": "execute_result"
    }
   ],
   "source": [
    "len(dict_text_clustered)"
   ]
  },
  {
   "cell_type": "code",
   "execution_count": 13,
   "id": "ccdef9d6-8732-4fe2-9c69-5cb85b70889a",
   "metadata": {},
   "outputs": [],
   "source": [
    "dict_text_clustered_inverted = {}\n",
    "\n",
    "for key, values in dict_text_clustered.items():\n",
    "    for value in values[0]:\n",
    "        dict_text_clustered_inverted[value] = key"
   ]
  },
  {
   "cell_type": "code",
   "execution_count": 14,
   "id": "df336bf4-38e4-415d-bf1a-6563fdbd1210",
   "metadata": {},
   "outputs": [],
   "source": [
    "dict_persons_clustered_inverted = {}\n",
    "\n",
    "for key, values in dict_persons_clustered.items():\n",
    "    for value in values[0]:\n",
    "        dict_persons_clustered_inverted[value] = key"
   ]
  },
  {
   "cell_type": "code",
   "execution_count": null,
   "id": "f487835e-9c87-4f09-8e6d-267441630d1f",
   "metadata": {},
   "outputs": [],
   "source": [
    "clustered_dir = base_dir + today + '_final_corpus_ENG_clustered'\n",
    "if not os.path.exists(clustered_dir):\n",
    "    os.makedirs(clustered_dir)"
   ]
  },
  {
   "cell_type": "code",
   "execution_count": null,
   "id": "c9b582ee-474c-417a-ab0f-59cd48d78c0e",
   "metadata": {},
   "outputs": [],
   "source": [
    "co_citation_dict = {}\n",
    "\n",
    "for file in tqdm(files):\n",
    "    file_short = re.sub('(.+consolidated)\\\\\\\\(.+?).txt', '\\\\2', str(file))\n",
    "    co_citation_dict[file_short] = {'texts': {}, 'persons': {}}\n",
    "    with open (file, encoding = \"utf-8\") as f:\n",
    "        text = f.read().split(\"\\n\")\n",
    "        newText = ''\n",
    "        for paragraph in text:\n",
    "            newString = paragraph\n",
    "            entities = re.finditer('<.+?>', newString)\n",
    "            if entities is not None:\n",
    "                for e in reversed(list(entities)):\n",
    "                    key = re.sub('<(.+?); ([A-Z].+?); (Q.+?|noWikiID); (PERSON|WORK_OF_ART)>', '\\\\1', e.group())\n",
    "                    wikiname = re.sub('<(.+?); ([A-Z].+?); (Q.+?|noWikiID); (PERSON|WORK_OF_ART)>', '\\\\2', e.group())\n",
    "                    wikiID = re.sub('<(.+?); ([A-Z].+?); (Q.+?|noWikiID); (PERSON|WORK_OF_ART)>', '\\\\3', e.group())\n",
    "                    tag = re.sub('<(.+?); ([A-Z].+?); (Q.+?|noWikiID); (PERSON|WORK_OF_ART)>', '\\\\4', e.group())\n",
    "\n",
    "                    if tag == 'PERSON':\n",
    "                        if wikiname not in co_citation_dict[file_short]['persons']:\n",
    "                            co_citation_dict[file_short]['persons'][wikiname] = 1\n",
    "                        else:\n",
    "                            co_citation_dict[file_short]['persons'][wikiname] += 1\n",
    "                    if tag == 'WORK_OF_ART':\n",
    "                        if wikiname not in co_citation_dict[file_short]['texts']:\n",
    "                            co_citation_dict[file_short]['texts'][wikiname] = 1\n",
    "                        else:\n",
    "                            co_citation_dict[file_short]['texts'][wikiname] += 1\n",
    "                    \n",
    "                    if tag == 'PERSON':\n",
    "                        if wikiname in dict_persons_clustered: # using the unfiltered version of the dict, but still fitlering out entities with a freq of 1 if they don't have a wikiID\n",
    "                            newString = newString[0:e.start()] + '<' + key + '; ' + wikiname + '; ' + wikiID + '; ' + tag + '>' + newString[e.end():len(newString)]\n",
    "                        else:\n",
    "                            if key in dict_persons_clustered_inverted: # if an entity doesn't appear in the dictionary, the title variation is looked up in the inverted dictionary and the entity name is, if applicable, replaced\n",
    "                                wikiname = dict_persons_clustered_inverted[key]\n",
    "                                wikiID = dict_persons_clustered[dict_persons_clustered_inverted[key]][1]\n",
    "                                newString = newString[0:e.start()] + '<' + key + '; ' + wikiname + '; ' + wikiID + '; ' + tag + '>' + newString[e.end():len(newString)]\n",
    "                            else:\n",
    "                                newString = newString[0:e.start()] + key + newString[e.end():len(newString)]\n",
    "                                \n",
    "                    if tag == 'WORK_OF_ART':\n",
    "                        if wikiname in dict_text_clustered: # using the unfiltered version of the dict, but still fitlering out entities with a freq of 1 if they don't have a wikiID\n",
    "                            newString = newString[0:e.start()] + '<' + key + '; ' + wikiname + '; ' + wikiID + '; ' + tag + '>' + newString[e.end():len(newString)]\n",
    "                        else:\n",
    "                            if key in dict_text_clustered_inverted: # if an entity doesn't appear in the dictionary, the title variation is looked up in the inverted dictionary and the entity name is, if applicable, replaced\n",
    "                                wikiname = dict_text_clustered_inverted[key]\n",
    "                                wikiID = dict_text_clustered[dict_text_clustered_inverted[key]][1]\n",
    "                                newString = newString[0:e.start()] + '<' + key + '; ' + wikiname + '; ' + wikiID + '; ' + tag + '>' + newString[e.end():len(newString)]\n",
    "                            else:\n",
    "                                newString = newString[0:e.start()] + key + newString[e.end():len(newString)]\n",
    "\n",
    "            newText = newText + '\\n' + newString\n",
    "            \n",
    "    file_name = re.sub('.+consolidated.(.+.txt)', '\\\\1', str(file))\n",
    "    file_name = clustered_dir + '/' + file_name\n",
    "    f = open(file_name, \"w\",  encoding = \"utf-8\")\n",
    "    f.write(newText)\n",
    "    f.close()"
   ]
  },
  {
   "cell_type": "code",
   "execution_count": null,
   "id": "90ae3437-0780-4b4b-96d3-61ae15c08c3c",
   "metadata": {},
   "outputs": [],
   "source": [
    "save_data(base_dir + today + '_co_citation_dict.json', co_citation_dict)"
   ]
  },
  {
   "cell_type": "code",
   "execution_count": null,
   "id": "cfec59bc-0599-426f-8bdb-4c323c9f1b25",
   "metadata": {},
   "outputs": [],
   "source": [
    "corpus_path = base_dir + today + '_final_corpus_ENG_clustered'\n",
    "corpus_dir = Path(corpus_path).glob('*.txt')\n",
    "files = list(corpus_dir)"
   ]
  },
  {
   "cell_type": "code",
   "execution_count": null,
   "id": "1be72821-6799-4c1e-b94b-e84ee26491f1",
   "metadata": {},
   "outputs": [],
   "source": [
    "replaced_dir = base_dir + today + '_final_corpus_ENG_replaced'\n",
    "if not os.path.exists(replaced_dir):\n",
    "    os.makedirs(replaced_dir)"
   ]
  },
  {
   "cell_type": "code",
   "execution_count": null,
   "id": "0228b446-415b-4f31-9a76-08ef45f84e66",
   "metadata": {},
   "outputs": [],
   "source": [
    "for file in tqdm(files):\n",
    "    with open (file, encoding = \"utf-8\") as f:\n",
    "        text = f.read().split(\"\\n\")\n",
    "        newText = ''\n",
    "        for paragraph in text:\n",
    "            newString = paragraph\n",
    "            entities = re.finditer('<.+?>', newString)\n",
    "            if entities is not None:\n",
    "                for e in reversed(list(entities)):\n",
    "                    key = re.sub('<(.+?); ([A-Z].+?); (Q.+?|noWikiID); (PERSON|WORK_OF_ART)>', '\\\\1', e.group())\n",
    "                    wikiname = re.sub('<(.+?); ([A-Z].+?); (Q.+?|noWikiID); (PERSON|WORK_OF_ART)>', '\\\\2', e.group())\n",
    "                    wikiID = re.sub('<(.+?); ([A-Z].+?); (Q.+?|noWikiID); (PERSON|WORK_OF_ART)>', '\\\\3', e.group())\n",
    "                    tag = re.sub('<(.+?); ([A-Z].+?); (Q.+?|noWikiID); (PERSON|WORK_OF_ART)>', '\\\\4', e.group())\n",
    "                    \n",
    "                    newString = newString[0:e.start()] + wikiname + '_' + wikiID + newString[e.end():len(newString)]\n",
    "\n",
    "            newText = newText + '\\n' + newString\n",
    "\n",
    "    file_name = re.sub('.+ENG_clustered.(.+.txt)', '\\\\1', str(file))\n",
    "    file_name = replaced_dir + '/' + file_name\n",
    "    f = open(file_name, \"w\",  encoding = \"utf-8\")\n",
    "    f.write(newText)\n",
    "    f.close()"
   ]
  },
  {
   "cell_type": "markdown",
   "id": "170ec7ea",
   "metadata": {},
   "source": [
    "### Word Embedding"
   ]
  },
  {
   "cell_type": "code",
   "execution_count": 15,
   "id": "d13348e4-ecb2-4279-9079-a44d623e7705",
   "metadata": {},
   "outputs": [],
   "source": [
    "entities_per = []\n",
    "\n",
    "for key, values in dict_persons_clustered.items():\n",
    "    entity = str(key) + '_' + values[1]\n",
    "    entities_per.append(entity)\n",
    "\n",
    "entities_text = []\n",
    "\n",
    "for key, values in dict_text_clustered.items():\n",
    "    entity = str(key) + '_' + values[1]\n",
    "    entities_text.append(entity)"
   ]
  },
  {
   "cell_type": "code",
   "execution_count": 16,
   "id": "b7144439",
   "metadata": {},
   "outputs": [],
   "source": [
    "entities = set(entities_per + entities_text)"
   ]
  },
  {
   "cell_type": "code",
   "execution_count": 17,
   "id": "b1976c95-ad91-435d-95df-138b59d89915",
   "metadata": {},
   "outputs": [
    {
     "data": {
      "text/plain": [
       "15577"
      ]
     },
     "execution_count": 17,
     "metadata": {},
     "output_type": "execute_result"
    }
   ],
   "source": [
    "len(entities_text)"
   ]
  },
  {
   "cell_type": "code",
   "execution_count": null,
   "id": "914ca3f2-3e48-400d-a0b7-01dd3fe10689",
   "metadata": {},
   "outputs": [],
   "source": [
    "fileList = glob.glob(os.path.join(os.getcwd(), replaced_dir, '*.txt'))\n",
    " \n",
    "lithist = []\n",
    "for file_path in fileList:\n",
    "    with open(file_path, encoding = 'utf8') as file:\n",
    "        lithist.append(file.read())"
   ]
  },
  {
   "cell_type": "code",
   "execution_count": 29,
   "id": "f649d993-fde9-4ee1-969a-0c469b5dfd8c",
   "metadata": {},
   "outputs": [],
   "source": [
    "escape = \"!#$%&'()*+–, -./:;<=>?@[\\]^`{|}~’‘“”\""
   ]
  },
  {
   "cell_type": "code",
   "execution_count": null,
   "id": "6a287bf5-7c50-407b-8c76-d9a84f8f88f1",
   "metadata": {},
   "outputs": [],
   "source": [
    "tokens = []\n",
    "\n",
    "num_tokens = 0\n",
    "for hist in tqdm(lithist):\n",
    "    doc = nlp(hist)\n",
    "    for sent in doc.sents:\n",
    "        tokens_in_sent = []\n",
    "        for token in sent:\n",
    "            \n",
    "            if token.text.startswith('\\n'):\n",
    "                continue\n",
    "            if token.text[0].isdigit():\n",
    "                continue\n",
    "            if token.text in escape:\n",
    "                continue\n",
    "              \n",
    "            if token.text not in entities:\n",
    "                tok = re.sub('[\\d!#$%&\\(\\)*\\+, -\\./:;<=>?@\\[\\]^`\\{\\|\\}~’‘“”]+', '', token.text)\n",
    "                tokens_in_sent.append(tok.lower())\n",
    "            else:\n",
    "                tokens_in_sent.append(token.text)\n",
    "\n",
    "        tokens.append(tokens_in_sent)\n",
    "        num_tokens += len(tokens_in_sent)"
   ]
  },
  {
   "cell_type": "code",
   "execution_count": 11,
   "id": "ad8c02b0-fb18-4f35-8174-36d473c4e8f7",
   "metadata": {},
   "outputs": [],
   "source": [
    "num_tokens = 0\n",
    "\n",
    "for tok in tokens:\n",
    "    num_tokens += len(tok)"
   ]
  },
  {
   "cell_type": "code",
   "execution_count": 12,
   "id": "5b1df1ad-9e07-4586-968e-c8a8a1ec27b7",
   "metadata": {},
   "outputs": [
    {
     "data": {
      "text/plain": [
       "4076326"
      ]
     },
     "execution_count": 12,
     "metadata": {},
     "output_type": "execute_result"
    }
   ],
   "source": [
    "num_tokens"
   ]
  },
  {
   "cell_type": "code",
   "execution_count": null,
   "id": "74674e2e",
   "metadata": {},
   "outputs": [],
   "source": [
    "#with open(path_results + '\\\\' + today + '_tokens_preprocessed.pickle', 'wb') as output_file:\n",
    "#    pickle.dump(tokens, output_file)"
   ]
  },
  {
   "cell_type": "code",
   "execution_count": 18,
   "id": "36a0756a-1772-4197-bcb6-b5df0f197437",
   "metadata": {},
   "outputs": [],
   "source": [
    "with open(path_results + '\\\\' + today + '_tokens_preprocessed.pickle',  'rb') as input_file:\n",
    "    tokens = pickle.load(input_file)"
   ]
  },
  {
   "cell_type": "code",
   "execution_count": 19,
   "id": "4162e86d",
   "metadata": {},
   "outputs": [],
   "source": [
    "import logging\n",
    "logging.basicConfig(format='%(asctime)s : %(levelname)s : %(message)s', \n",
    "                    level=logging.INFO)"
   ]
  },
  {
   "cell_type": "code",
   "execution_count": 20,
   "id": "10079df3",
   "metadata": {},
   "outputs": [],
   "source": [
    "min_count = 5\n",
    "vector_size = 100\n",
    "window = 10\n",
    "sg = 1\n",
    "epochs = 5"
   ]
  },
  {
   "cell_type": "code",
   "execution_count": 21,
   "id": "4df02c1f-f6fb-40a1-8b1f-3c792a59330c",
   "metadata": {},
   "outputs": [],
   "source": [
    "iterations = 100"
   ]
  },
  {
   "cell_type": "code",
   "execution_count": null,
   "id": "4d636419-3a48-4ab6-b74f-ab3b327f16f8",
   "metadata": {},
   "outputs": [],
   "source": [
    "we_results = path_results + '\\\\modelA_iteration=' + str(iterations)\n",
    "if not os.path.exists(we_results):\n",
    "    os.makedirs(we_results)"
   ]
  },
  {
   "cell_type": "code",
   "execution_count": null,
   "id": "742b77d0",
   "metadata": {
    "scrolled": true
   },
   "outputs": [],
   "source": [
    "models = []\n",
    "for i in range(1, iterations+1):\n",
    "    model = Word2Vec(tokens, min_count=min_count, vector_size=vector_size, window=window, sg=sg, epochs=epochs)\n",
    "    model.wv.save(path_results + '\\\\modelA_iteration=' + str(iterations) + '\\\\' + today + '_' + str(i) + '_window=' + str(window) + '_skipgram_defaultparams_model_vectors.kv')\n",
    "    models.append(model)"
   ]
  },
  {
   "cell_type": "code",
   "execution_count": null,
   "id": "775a5300",
   "metadata": {},
   "outputs": [],
   "source": [
    "we_results = path_results + '\\\\modelB_iteration=' + str(iterations)\n",
    "if not os.path.exists(we_results):\n",
    "    os.makedirs(we_results)"
   ]
  },
  {
   "cell_type": "code",
   "execution_count": null,
   "id": "1cfe6857-1d42-413f-9394-95d3075d816f",
   "metadata": {},
   "outputs": [],
   "source": [
    "for i in range(1, iterations+1):\n",
    "    model = Word2Vec(tokens, min_count=min_count, vector_size=vector_size, window=window, sg=sg, epochs=epochs)\n",
    "    model.wv.save(path_results + '\\\\modelB_iteration=' + str(iterations) + '\\\\' + today + '_' + str(i) + '_window=' + str(window) + '_skipgram_defaultparams_model_vectors.kv')"
   ]
  },
  {
   "cell_type": "markdown",
   "id": "ce48b69e-ad79-484f-9464-4b7294fb8036",
   "metadata": {},
   "source": [
    "### Networks"
   ]
  },
  {
   "cell_type": "markdown",
   "id": "d9f60755-5d34-469c-bb0d-696025f7c12e",
   "metadata": {},
   "source": [
    "#### Network A: All entities"
   ]
  },
  {
   "cell_type": "code",
   "execution_count": 22,
   "id": "cc687b9d-8d67-4f4a-8af4-b1a08f964f9d",
   "metadata": {},
   "outputs": [],
   "source": [
    "model_dir = Path(path_results + '\\\\modelA_iteration=' + str(iterations)).glob('*.kv')\n",
    "files = list(model_dir)"
   ]
  },
  {
   "cell_type": "code",
   "execution_count": 23,
   "id": "5b203b28-62f0-4fbb-9eed-3fa5c727198f",
   "metadata": {
    "scrolled": true
   },
   "outputs": [
    {
     "name": "stderr",
     "output_type": "stream",
     "text": [
      "2025-01-30 16:35:51,463 : INFO : loading KeyedVectors object from C:\\Users\\Brottrager\\Documents\\Diss\\sec_lit\\ENG\\20240919_wordembeddings\\modelA_iteration=100\\20240919_100_window=10_skipgram_defaultparams_model_vectors.kv\n",
      "2025-01-30 16:35:51,549 : INFO : KeyedVectors lifecycle event {'fname': 'C:\\\\Users\\\\Brottrager\\\\Documents\\\\Diss\\\\sec_lit\\\\ENG\\\\20240919_wordembeddings\\\\modelA_iteration=100\\\\20240919_100_window=10_skipgram_defaultparams_model_vectors.kv', 'datetime': '2025-01-30T16:35:51.549429', 'gensim': '4.3.2', 'python': '3.11.9 | packaged by Anaconda, Inc. | (main, Apr 19 2024, 16:40:41) [MSC v.1916 64 bit (AMD64)]', 'platform': 'Windows-10-10.0.26100-SP0', 'event': 'loaded'}\n",
      "2025-01-30 16:35:51,550 : INFO : loading KeyedVectors object from C:\\Users\\Brottrager\\Documents\\Diss\\sec_lit\\ENG\\20240919_wordembeddings\\modelA_iteration=100\\20240919_10_window=10_skipgram_defaultparams_model_vectors.kv\n",
      "2025-01-30 16:35:51,607 : INFO : KeyedVectors lifecycle event {'fname': 'C:\\\\Users\\\\Brottrager\\\\Documents\\\\Diss\\\\sec_lit\\\\ENG\\\\20240919_wordembeddings\\\\modelA_iteration=100\\\\20240919_10_window=10_skipgram_defaultparams_model_vectors.kv', 'datetime': '2025-01-30T16:35:51.607981', 'gensim': '4.3.2', 'python': '3.11.9 | packaged by Anaconda, Inc. | (main, Apr 19 2024, 16:40:41) [MSC v.1916 64 bit (AMD64)]', 'platform': 'Windows-10-10.0.26100-SP0', 'event': 'loaded'}\n",
      "2025-01-30 16:35:51,609 : INFO : loading KeyedVectors object from C:\\Users\\Brottrager\\Documents\\Diss\\sec_lit\\ENG\\20240919_wordembeddings\\modelA_iteration=100\\20240919_11_window=10_skipgram_defaultparams_model_vectors.kv\n",
      "2025-01-30 16:35:51,674 : INFO : KeyedVectors lifecycle event {'fname': 'C:\\\\Users\\\\Brottrager\\\\Documents\\\\Diss\\\\sec_lit\\\\ENG\\\\20240919_wordembeddings\\\\modelA_iteration=100\\\\20240919_11_window=10_skipgram_defaultparams_model_vectors.kv', 'datetime': '2025-01-30T16:35:51.674967', 'gensim': '4.3.2', 'python': '3.11.9 | packaged by Anaconda, Inc. | (main, Apr 19 2024, 16:40:41) [MSC v.1916 64 bit (AMD64)]', 'platform': 'Windows-10-10.0.26100-SP0', 'event': 'loaded'}\n",
      "2025-01-30 16:35:51,676 : INFO : loading KeyedVectors object from C:\\Users\\Brottrager\\Documents\\Diss\\sec_lit\\ENG\\20240919_wordembeddings\\modelA_iteration=100\\20240919_12_window=10_skipgram_defaultparams_model_vectors.kv\n",
      "2025-01-30 16:35:51,740 : INFO : KeyedVectors lifecycle event {'fname': 'C:\\\\Users\\\\Brottrager\\\\Documents\\\\Diss\\\\sec_lit\\\\ENG\\\\20240919_wordembeddings\\\\modelA_iteration=100\\\\20240919_12_window=10_skipgram_defaultparams_model_vectors.kv', 'datetime': '2025-01-30T16:35:51.740553', 'gensim': '4.3.2', 'python': '3.11.9 | packaged by Anaconda, Inc. | (main, Apr 19 2024, 16:40:41) [MSC v.1916 64 bit (AMD64)]', 'platform': 'Windows-10-10.0.26100-SP0', 'event': 'loaded'}\n",
      "2025-01-30 16:35:51,742 : INFO : loading KeyedVectors object from C:\\Users\\Brottrager\\Documents\\Diss\\sec_lit\\ENG\\20240919_wordembeddings\\modelA_iteration=100\\20240919_13_window=10_skipgram_defaultparams_model_vectors.kv\n",
      "2025-01-30 16:35:51,798 : INFO : KeyedVectors lifecycle event {'fname': 'C:\\\\Users\\\\Brottrager\\\\Documents\\\\Diss\\\\sec_lit\\\\ENG\\\\20240919_wordembeddings\\\\modelA_iteration=100\\\\20240919_13_window=10_skipgram_defaultparams_model_vectors.kv', 'datetime': '2025-01-30T16:35:51.798144', 'gensim': '4.3.2', 'python': '3.11.9 | packaged by Anaconda, Inc. | (main, Apr 19 2024, 16:40:41) [MSC v.1916 64 bit (AMD64)]', 'platform': 'Windows-10-10.0.26100-SP0', 'event': 'loaded'}\n",
      "2025-01-30 16:35:51,799 : INFO : loading KeyedVectors object from C:\\Users\\Brottrager\\Documents\\Diss\\sec_lit\\ENG\\20240919_wordembeddings\\modelA_iteration=100\\20240919_14_window=10_skipgram_defaultparams_model_vectors.kv\n",
      "2025-01-30 16:35:51,850 : INFO : KeyedVectors lifecycle event {'fname': 'C:\\\\Users\\\\Brottrager\\\\Documents\\\\Diss\\\\sec_lit\\\\ENG\\\\20240919_wordembeddings\\\\modelA_iteration=100\\\\20240919_14_window=10_skipgram_defaultparams_model_vectors.kv', 'datetime': '2025-01-30T16:35:51.850878', 'gensim': '4.3.2', 'python': '3.11.9 | packaged by Anaconda, Inc. | (main, Apr 19 2024, 16:40:41) [MSC v.1916 64 bit (AMD64)]', 'platform': 'Windows-10-10.0.26100-SP0', 'event': 'loaded'}\n",
      "2025-01-30 16:35:51,852 : INFO : loading KeyedVectors object from C:\\Users\\Brottrager\\Documents\\Diss\\sec_lit\\ENG\\20240919_wordembeddings\\modelA_iteration=100\\20240919_15_window=10_skipgram_defaultparams_model_vectors.kv\n",
      "2025-01-30 16:35:51,903 : INFO : KeyedVectors lifecycle event {'fname': 'C:\\\\Users\\\\Brottrager\\\\Documents\\\\Diss\\\\sec_lit\\\\ENG\\\\20240919_wordembeddings\\\\modelA_iteration=100\\\\20240919_15_window=10_skipgram_defaultparams_model_vectors.kv', 'datetime': '2025-01-30T16:35:51.903448', 'gensim': '4.3.2', 'python': '3.11.9 | packaged by Anaconda, Inc. | (main, Apr 19 2024, 16:40:41) [MSC v.1916 64 bit (AMD64)]', 'platform': 'Windows-10-10.0.26100-SP0', 'event': 'loaded'}\n",
      "2025-01-30 16:35:51,905 : INFO : loading KeyedVectors object from C:\\Users\\Brottrager\\Documents\\Diss\\sec_lit\\ENG\\20240919_wordembeddings\\modelA_iteration=100\\20240919_16_window=10_skipgram_defaultparams_model_vectors.kv\n",
      "2025-01-30 16:35:51,956 : INFO : KeyedVectors lifecycle event {'fname': 'C:\\\\Users\\\\Brottrager\\\\Documents\\\\Diss\\\\sec_lit\\\\ENG\\\\20240919_wordembeddings\\\\modelA_iteration=100\\\\20240919_16_window=10_skipgram_defaultparams_model_vectors.kv', 'datetime': '2025-01-30T16:35:51.956462', 'gensim': '4.3.2', 'python': '3.11.9 | packaged by Anaconda, Inc. | (main, Apr 19 2024, 16:40:41) [MSC v.1916 64 bit (AMD64)]', 'platform': 'Windows-10-10.0.26100-SP0', 'event': 'loaded'}\n",
      "2025-01-30 16:35:51,957 : INFO : loading KeyedVectors object from C:\\Users\\Brottrager\\Documents\\Diss\\sec_lit\\ENG\\20240919_wordembeddings\\modelA_iteration=100\\20240919_17_window=10_skipgram_defaultparams_model_vectors.kv\n",
      "2025-01-30 16:35:52,000 : INFO : KeyedVectors lifecycle event {'fname': 'C:\\\\Users\\\\Brottrager\\\\Documents\\\\Diss\\\\sec_lit\\\\ENG\\\\20240919_wordembeddings\\\\modelA_iteration=100\\\\20240919_17_window=10_skipgram_defaultparams_model_vectors.kv', 'datetime': '2025-01-30T16:35:52.000687', 'gensim': '4.3.2', 'python': '3.11.9 | packaged by Anaconda, Inc. | (main, Apr 19 2024, 16:40:41) [MSC v.1916 64 bit (AMD64)]', 'platform': 'Windows-10-10.0.26100-SP0', 'event': 'loaded'}\n",
      "2025-01-30 16:35:52,001 : INFO : loading KeyedVectors object from C:\\Users\\Brottrager\\Documents\\Diss\\sec_lit\\ENG\\20240919_wordembeddings\\modelA_iteration=100\\20240919_18_window=10_skipgram_defaultparams_model_vectors.kv\n",
      "2025-01-30 16:35:52,045 : INFO : KeyedVectors lifecycle event {'fname': 'C:\\\\Users\\\\Brottrager\\\\Documents\\\\Diss\\\\sec_lit\\\\ENG\\\\20240919_wordembeddings\\\\modelA_iteration=100\\\\20240919_18_window=10_skipgram_defaultparams_model_vectors.kv', 'datetime': '2025-01-30T16:35:52.044645', 'gensim': '4.3.2', 'python': '3.11.9 | packaged by Anaconda, Inc. | (main, Apr 19 2024, 16:40:41) [MSC v.1916 64 bit (AMD64)]', 'platform': 'Windows-10-10.0.26100-SP0', 'event': 'loaded'}\n",
      "2025-01-30 16:35:52,046 : INFO : loading KeyedVectors object from C:\\Users\\Brottrager\\Documents\\Diss\\sec_lit\\ENG\\20240919_wordembeddings\\modelA_iteration=100\\20240919_19_window=10_skipgram_defaultparams_model_vectors.kv\n",
      "2025-01-30 16:35:52,086 : INFO : KeyedVectors lifecycle event {'fname': 'C:\\\\Users\\\\Brottrager\\\\Documents\\\\Diss\\\\sec_lit\\\\ENG\\\\20240919_wordembeddings\\\\modelA_iteration=100\\\\20240919_19_window=10_skipgram_defaultparams_model_vectors.kv', 'datetime': '2025-01-30T16:35:52.086620', 'gensim': '4.3.2', 'python': '3.11.9 | packaged by Anaconda, Inc. | (main, Apr 19 2024, 16:40:41) [MSC v.1916 64 bit (AMD64)]', 'platform': 'Windows-10-10.0.26100-SP0', 'event': 'loaded'}\n",
      "2025-01-30 16:35:52,087 : INFO : loading KeyedVectors object from C:\\Users\\Brottrager\\Documents\\Diss\\sec_lit\\ENG\\20240919_wordembeddings\\modelA_iteration=100\\20240919_1_window=10_skipgram_defaultparams_model_vectors.kv\n",
      "2025-01-30 16:35:52,130 : INFO : KeyedVectors lifecycle event {'fname': 'C:\\\\Users\\\\Brottrager\\\\Documents\\\\Diss\\\\sec_lit\\\\ENG\\\\20240919_wordembeddings\\\\modelA_iteration=100\\\\20240919_1_window=10_skipgram_defaultparams_model_vectors.kv', 'datetime': '2025-01-30T16:35:52.130338', 'gensim': '4.3.2', 'python': '3.11.9 | packaged by Anaconda, Inc. | (main, Apr 19 2024, 16:40:41) [MSC v.1916 64 bit (AMD64)]', 'platform': 'Windows-10-10.0.26100-SP0', 'event': 'loaded'}\n",
      "2025-01-30 16:35:52,131 : INFO : loading KeyedVectors object from C:\\Users\\Brottrager\\Documents\\Diss\\sec_lit\\ENG\\20240919_wordembeddings\\modelA_iteration=100\\20240919_20_window=10_skipgram_defaultparams_model_vectors.kv\n",
      "2025-01-30 16:35:52,175 : INFO : KeyedVectors lifecycle event {'fname': 'C:\\\\Users\\\\Brottrager\\\\Documents\\\\Diss\\\\sec_lit\\\\ENG\\\\20240919_wordembeddings\\\\modelA_iteration=100\\\\20240919_20_window=10_skipgram_defaultparams_model_vectors.kv', 'datetime': '2025-01-30T16:35:52.175950', 'gensim': '4.3.2', 'python': '3.11.9 | packaged by Anaconda, Inc. | (main, Apr 19 2024, 16:40:41) [MSC v.1916 64 bit (AMD64)]', 'platform': 'Windows-10-10.0.26100-SP0', 'event': 'loaded'}\n",
      "2025-01-30 16:35:52,177 : INFO : loading KeyedVectors object from C:\\Users\\Brottrager\\Documents\\Diss\\sec_lit\\ENG\\20240919_wordembeddings\\modelA_iteration=100\\20240919_21_window=10_skipgram_defaultparams_model_vectors.kv\n",
      "2025-01-30 16:35:52,220 : INFO : KeyedVectors lifecycle event {'fname': 'C:\\\\Users\\\\Brottrager\\\\Documents\\\\Diss\\\\sec_lit\\\\ENG\\\\20240919_wordembeddings\\\\modelA_iteration=100\\\\20240919_21_window=10_skipgram_defaultparams_model_vectors.kv', 'datetime': '2025-01-30T16:35:52.220389', 'gensim': '4.3.2', 'python': '3.11.9 | packaged by Anaconda, Inc. | (main, Apr 19 2024, 16:40:41) [MSC v.1916 64 bit (AMD64)]', 'platform': 'Windows-10-10.0.26100-SP0', 'event': 'loaded'}\n",
      "2025-01-30 16:35:52,222 : INFO : loading KeyedVectors object from C:\\Users\\Brottrager\\Documents\\Diss\\sec_lit\\ENG\\20240919_wordembeddings\\modelA_iteration=100\\20240919_22_window=10_skipgram_defaultparams_model_vectors.kv\n",
      "2025-01-30 16:35:52,266 : INFO : KeyedVectors lifecycle event {'fname': 'C:\\\\Users\\\\Brottrager\\\\Documents\\\\Diss\\\\sec_lit\\\\ENG\\\\20240919_wordembeddings\\\\modelA_iteration=100\\\\20240919_22_window=10_skipgram_defaultparams_model_vectors.kv', 'datetime': '2025-01-30T16:35:52.266172', 'gensim': '4.3.2', 'python': '3.11.9 | packaged by Anaconda, Inc. | (main, Apr 19 2024, 16:40:41) [MSC v.1916 64 bit (AMD64)]', 'platform': 'Windows-10-10.0.26100-SP0', 'event': 'loaded'}\n",
      "2025-01-30 16:35:52,267 : INFO : loading KeyedVectors object from C:\\Users\\Brottrager\\Documents\\Diss\\sec_lit\\ENG\\20240919_wordembeddings\\modelA_iteration=100\\20240919_23_window=10_skipgram_defaultparams_model_vectors.kv\n",
      "2025-01-30 16:35:52,321 : INFO : KeyedVectors lifecycle event {'fname': 'C:\\\\Users\\\\Brottrager\\\\Documents\\\\Diss\\\\sec_lit\\\\ENG\\\\20240919_wordembeddings\\\\modelA_iteration=100\\\\20240919_23_window=10_skipgram_defaultparams_model_vectors.kv', 'datetime': '2025-01-30T16:35:52.321044', 'gensim': '4.3.2', 'python': '3.11.9 | packaged by Anaconda, Inc. | (main, Apr 19 2024, 16:40:41) [MSC v.1916 64 bit (AMD64)]', 'platform': 'Windows-10-10.0.26100-SP0', 'event': 'loaded'}\n",
      "2025-01-30 16:35:52,322 : INFO : loading KeyedVectors object from C:\\Users\\Brottrager\\Documents\\Diss\\sec_lit\\ENG\\20240919_wordembeddings\\modelA_iteration=100\\20240919_24_window=10_skipgram_defaultparams_model_vectors.kv\n",
      "2025-01-30 16:35:52,370 : INFO : KeyedVectors lifecycle event {'fname': 'C:\\\\Users\\\\Brottrager\\\\Documents\\\\Diss\\\\sec_lit\\\\ENG\\\\20240919_wordembeddings\\\\modelA_iteration=100\\\\20240919_24_window=10_skipgram_defaultparams_model_vectors.kv', 'datetime': '2025-01-30T16:35:52.370040', 'gensim': '4.3.2', 'python': '3.11.9 | packaged by Anaconda, Inc. | (main, Apr 19 2024, 16:40:41) [MSC v.1916 64 bit (AMD64)]', 'platform': 'Windows-10-10.0.26100-SP0', 'event': 'loaded'}\n",
      "2025-01-30 16:35:52,372 : INFO : loading KeyedVectors object from C:\\Users\\Brottrager\\Documents\\Diss\\sec_lit\\ENG\\20240919_wordembeddings\\modelA_iteration=100\\20240919_25_window=10_skipgram_defaultparams_model_vectors.kv\n",
      "2025-01-30 16:35:52,430 : INFO : KeyedVectors lifecycle event {'fname': 'C:\\\\Users\\\\Brottrager\\\\Documents\\\\Diss\\\\sec_lit\\\\ENG\\\\20240919_wordembeddings\\\\modelA_iteration=100\\\\20240919_25_window=10_skipgram_defaultparams_model_vectors.kv', 'datetime': '2025-01-30T16:35:52.430618', 'gensim': '4.3.2', 'python': '3.11.9 | packaged by Anaconda, Inc. | (main, Apr 19 2024, 16:40:41) [MSC v.1916 64 bit (AMD64)]', 'platform': 'Windows-10-10.0.26100-SP0', 'event': 'loaded'}\n",
      "2025-01-30 16:35:52,431 : INFO : loading KeyedVectors object from C:\\Users\\Brottrager\\Documents\\Diss\\sec_lit\\ENG\\20240919_wordembeddings\\modelA_iteration=100\\20240919_26_window=10_skipgram_defaultparams_model_vectors.kv\n",
      "2025-01-30 16:35:52,480 : INFO : KeyedVectors lifecycle event {'fname': 'C:\\\\Users\\\\Brottrager\\\\Documents\\\\Diss\\\\sec_lit\\\\ENG\\\\20240919_wordembeddings\\\\modelA_iteration=100\\\\20240919_26_window=10_skipgram_defaultparams_model_vectors.kv', 'datetime': '2025-01-30T16:35:52.480616', 'gensim': '4.3.2', 'python': '3.11.9 | packaged by Anaconda, Inc. | (main, Apr 19 2024, 16:40:41) [MSC v.1916 64 bit (AMD64)]', 'platform': 'Windows-10-10.0.26100-SP0', 'event': 'loaded'}\n",
      "2025-01-30 16:35:52,481 : INFO : loading KeyedVectors object from C:\\Users\\Brottrager\\Documents\\Diss\\sec_lit\\ENG\\20240919_wordembeddings\\modelA_iteration=100\\20240919_27_window=10_skipgram_defaultparams_model_vectors.kv\n",
      "2025-01-30 16:35:52,538 : INFO : KeyedVectors lifecycle event {'fname': 'C:\\\\Users\\\\Brottrager\\\\Documents\\\\Diss\\\\sec_lit\\\\ENG\\\\20240919_wordembeddings\\\\modelA_iteration=100\\\\20240919_27_window=10_skipgram_defaultparams_model_vectors.kv', 'datetime': '2025-01-30T16:35:52.537142', 'gensim': '4.3.2', 'python': '3.11.9 | packaged by Anaconda, Inc. | (main, Apr 19 2024, 16:40:41) [MSC v.1916 64 bit (AMD64)]', 'platform': 'Windows-10-10.0.26100-SP0', 'event': 'loaded'}\n",
      "2025-01-30 16:35:52,539 : INFO : loading KeyedVectors object from C:\\Users\\Brottrager\\Documents\\Diss\\sec_lit\\ENG\\20240919_wordembeddings\\modelA_iteration=100\\20240919_28_window=10_skipgram_defaultparams_model_vectors.kv\n",
      "2025-01-30 16:35:52,602 : INFO : KeyedVectors lifecycle event {'fname': 'C:\\\\Users\\\\Brottrager\\\\Documents\\\\Diss\\\\sec_lit\\\\ENG\\\\20240919_wordembeddings\\\\modelA_iteration=100\\\\20240919_28_window=10_skipgram_defaultparams_model_vectors.kv', 'datetime': '2025-01-30T16:35:52.602694', 'gensim': '4.3.2', 'python': '3.11.9 | packaged by Anaconda, Inc. | (main, Apr 19 2024, 16:40:41) [MSC v.1916 64 bit (AMD64)]', 'platform': 'Windows-10-10.0.26100-SP0', 'event': 'loaded'}\n",
      "2025-01-30 16:35:52,604 : INFO : loading KeyedVectors object from C:\\Users\\Brottrager\\Documents\\Diss\\sec_lit\\ENG\\20240919_wordembeddings\\modelA_iteration=100\\20240919_29_window=10_skipgram_defaultparams_model_vectors.kv\n",
      "2025-01-30 16:35:52,659 : INFO : KeyedVectors lifecycle event {'fname': 'C:\\\\Users\\\\Brottrager\\\\Documents\\\\Diss\\\\sec_lit\\\\ENG\\\\20240919_wordembeddings\\\\modelA_iteration=100\\\\20240919_29_window=10_skipgram_defaultparams_model_vectors.kv', 'datetime': '2025-01-30T16:35:52.658697', 'gensim': '4.3.2', 'python': '3.11.9 | packaged by Anaconda, Inc. | (main, Apr 19 2024, 16:40:41) [MSC v.1916 64 bit (AMD64)]', 'platform': 'Windows-10-10.0.26100-SP0', 'event': 'loaded'}\n",
      "2025-01-30 16:35:52,660 : INFO : loading KeyedVectors object from C:\\Users\\Brottrager\\Documents\\Diss\\sec_lit\\ENG\\20240919_wordembeddings\\modelA_iteration=100\\20240919_2_window=10_skipgram_defaultparams_model_vectors.kv\n",
      "2025-01-30 16:35:52,719 : INFO : KeyedVectors lifecycle event {'fname': 'C:\\\\Users\\\\Brottrager\\\\Documents\\\\Diss\\\\sec_lit\\\\ENG\\\\20240919_wordembeddings\\\\modelA_iteration=100\\\\20240919_2_window=10_skipgram_defaultparams_model_vectors.kv', 'datetime': '2025-01-30T16:35:52.719225', 'gensim': '4.3.2', 'python': '3.11.9 | packaged by Anaconda, Inc. | (main, Apr 19 2024, 16:40:41) [MSC v.1916 64 bit (AMD64)]', 'platform': 'Windows-10-10.0.26100-SP0', 'event': 'loaded'}\n",
      "2025-01-30 16:35:52,720 : INFO : loading KeyedVectors object from C:\\Users\\Brottrager\\Documents\\Diss\\sec_lit\\ENG\\20240919_wordembeddings\\modelA_iteration=100\\20240919_30_window=10_skipgram_defaultparams_model_vectors.kv\n",
      "2025-01-30 16:35:52,776 : INFO : KeyedVectors lifecycle event {'fname': 'C:\\\\Users\\\\Brottrager\\\\Documents\\\\Diss\\\\sec_lit\\\\ENG\\\\20240919_wordembeddings\\\\modelA_iteration=100\\\\20240919_30_window=10_skipgram_defaultparams_model_vectors.kv', 'datetime': '2025-01-30T16:35:52.776793', 'gensim': '4.3.2', 'python': '3.11.9 | packaged by Anaconda, Inc. | (main, Apr 19 2024, 16:40:41) [MSC v.1916 64 bit (AMD64)]', 'platform': 'Windows-10-10.0.26100-SP0', 'event': 'loaded'}\n",
      "2025-01-30 16:35:52,778 : INFO : loading KeyedVectors object from C:\\Users\\Brottrager\\Documents\\Diss\\sec_lit\\ENG\\20240919_wordembeddings\\modelA_iteration=100\\20240919_31_window=10_skipgram_defaultparams_model_vectors.kv\n",
      "2025-01-30 16:35:52,832 : INFO : KeyedVectors lifecycle event {'fname': 'C:\\\\Users\\\\Brottrager\\\\Documents\\\\Diss\\\\sec_lit\\\\ENG\\\\20240919_wordembeddings\\\\modelA_iteration=100\\\\20240919_31_window=10_skipgram_defaultparams_model_vectors.kv', 'datetime': '2025-01-30T16:35:52.832117', 'gensim': '4.3.2', 'python': '3.11.9 | packaged by Anaconda, Inc. | (main, Apr 19 2024, 16:40:41) [MSC v.1916 64 bit (AMD64)]', 'platform': 'Windows-10-10.0.26100-SP0', 'event': 'loaded'}\n",
      "2025-01-30 16:35:52,842 : INFO : loading KeyedVectors object from C:\\Users\\Brottrager\\Documents\\Diss\\sec_lit\\ENG\\20240919_wordembeddings\\modelA_iteration=100\\20240919_32_window=10_skipgram_defaultparams_model_vectors.kv\n",
      "2025-01-30 16:35:52,896 : INFO : KeyedVectors lifecycle event {'fname': 'C:\\\\Users\\\\Brottrager\\\\Documents\\\\Diss\\\\sec_lit\\\\ENG\\\\20240919_wordembeddings\\\\modelA_iteration=100\\\\20240919_32_window=10_skipgram_defaultparams_model_vectors.kv', 'datetime': '2025-01-30T16:35:52.896532', 'gensim': '4.3.2', 'python': '3.11.9 | packaged by Anaconda, Inc. | (main, Apr 19 2024, 16:40:41) [MSC v.1916 64 bit (AMD64)]', 'platform': 'Windows-10-10.0.26100-SP0', 'event': 'loaded'}\n",
      "2025-01-30 16:35:52,898 : INFO : loading KeyedVectors object from C:\\Users\\Brottrager\\Documents\\Diss\\sec_lit\\ENG\\20240919_wordembeddings\\modelA_iteration=100\\20240919_33_window=10_skipgram_defaultparams_model_vectors.kv\n",
      "2025-01-30 16:35:52,949 : INFO : KeyedVectors lifecycle event {'fname': 'C:\\\\Users\\\\Brottrager\\\\Documents\\\\Diss\\\\sec_lit\\\\ENG\\\\20240919_wordembeddings\\\\modelA_iteration=100\\\\20240919_33_window=10_skipgram_defaultparams_model_vectors.kv', 'datetime': '2025-01-30T16:35:52.949525', 'gensim': '4.3.2', 'python': '3.11.9 | packaged by Anaconda, Inc. | (main, Apr 19 2024, 16:40:41) [MSC v.1916 64 bit (AMD64)]', 'platform': 'Windows-10-10.0.26100-SP0', 'event': 'loaded'}\n",
      "2025-01-30 16:35:52,950 : INFO : loading KeyedVectors object from C:\\Users\\Brottrager\\Documents\\Diss\\sec_lit\\ENG\\20240919_wordembeddings\\modelA_iteration=100\\20240919_34_window=10_skipgram_defaultparams_model_vectors.kv\n",
      "2025-01-30 16:35:52,994 : INFO : KeyedVectors lifecycle event {'fname': 'C:\\\\Users\\\\Brottrager\\\\Documents\\\\Diss\\\\sec_lit\\\\ENG\\\\20240919_wordembeddings\\\\modelA_iteration=100\\\\20240919_34_window=10_skipgram_defaultparams_model_vectors.kv', 'datetime': '2025-01-30T16:35:52.994779', 'gensim': '4.3.2', 'python': '3.11.9 | packaged by Anaconda, Inc. | (main, Apr 19 2024, 16:40:41) [MSC v.1916 64 bit (AMD64)]', 'platform': 'Windows-10-10.0.26100-SP0', 'event': 'loaded'}\n",
      "2025-01-30 16:35:52,996 : INFO : loading KeyedVectors object from C:\\Users\\Brottrager\\Documents\\Diss\\sec_lit\\ENG\\20240919_wordembeddings\\modelA_iteration=100\\20240919_35_window=10_skipgram_defaultparams_model_vectors.kv\n",
      "2025-01-30 16:35:53,039 : INFO : KeyedVectors lifecycle event {'fname': 'C:\\\\Users\\\\Brottrager\\\\Documents\\\\Diss\\\\sec_lit\\\\ENG\\\\20240919_wordembeddings\\\\modelA_iteration=100\\\\20240919_35_window=10_skipgram_defaultparams_model_vectors.kv', 'datetime': '2025-01-30T16:35:53.039688', 'gensim': '4.3.2', 'python': '3.11.9 | packaged by Anaconda, Inc. | (main, Apr 19 2024, 16:40:41) [MSC v.1916 64 bit (AMD64)]', 'platform': 'Windows-10-10.0.26100-SP0', 'event': 'loaded'}\n",
      "2025-01-30 16:35:53,041 : INFO : loading KeyedVectors object from C:\\Users\\Brottrager\\Documents\\Diss\\sec_lit\\ENG\\20240919_wordembeddings\\modelA_iteration=100\\20240919_36_window=10_skipgram_defaultparams_model_vectors.kv\n",
      "2025-01-30 16:35:53,086 : INFO : KeyedVectors lifecycle event {'fname': 'C:\\\\Users\\\\Brottrager\\\\Documents\\\\Diss\\\\sec_lit\\\\ENG\\\\20240919_wordembeddings\\\\modelA_iteration=100\\\\20240919_36_window=10_skipgram_defaultparams_model_vectors.kv', 'datetime': '2025-01-30T16:35:53.086692', 'gensim': '4.3.2', 'python': '3.11.9 | packaged by Anaconda, Inc. | (main, Apr 19 2024, 16:40:41) [MSC v.1916 64 bit (AMD64)]', 'platform': 'Windows-10-10.0.26100-SP0', 'event': 'loaded'}\n",
      "2025-01-30 16:35:53,087 : INFO : loading KeyedVectors object from C:\\Users\\Brottrager\\Documents\\Diss\\sec_lit\\ENG\\20240919_wordembeddings\\modelA_iteration=100\\20240919_37_window=10_skipgram_defaultparams_model_vectors.kv\n",
      "2025-01-30 16:35:53,133 : INFO : KeyedVectors lifecycle event {'fname': 'C:\\\\Users\\\\Brottrager\\\\Documents\\\\Diss\\\\sec_lit\\\\ENG\\\\20240919_wordembeddings\\\\modelA_iteration=100\\\\20240919_37_window=10_skipgram_defaultparams_model_vectors.kv', 'datetime': '2025-01-30T16:35:53.133018', 'gensim': '4.3.2', 'python': '3.11.9 | packaged by Anaconda, Inc. | (main, Apr 19 2024, 16:40:41) [MSC v.1916 64 bit (AMD64)]', 'platform': 'Windows-10-10.0.26100-SP0', 'event': 'loaded'}\n",
      "2025-01-30 16:35:53,135 : INFO : loading KeyedVectors object from C:\\Users\\Brottrager\\Documents\\Diss\\sec_lit\\ENG\\20240919_wordembeddings\\modelA_iteration=100\\20240919_38_window=10_skipgram_defaultparams_model_vectors.kv\n",
      "2025-01-30 16:35:53,183 : INFO : KeyedVectors lifecycle event {'fname': 'C:\\\\Users\\\\Brottrager\\\\Documents\\\\Diss\\\\sec_lit\\\\ENG\\\\20240919_wordembeddings\\\\modelA_iteration=100\\\\20240919_38_window=10_skipgram_defaultparams_model_vectors.kv', 'datetime': '2025-01-30T16:35:53.183023', 'gensim': '4.3.2', 'python': '3.11.9 | packaged by Anaconda, Inc. | (main, Apr 19 2024, 16:40:41) [MSC v.1916 64 bit (AMD64)]', 'platform': 'Windows-10-10.0.26100-SP0', 'event': 'loaded'}\n",
      "2025-01-30 16:35:53,185 : INFO : loading KeyedVectors object from C:\\Users\\Brottrager\\Documents\\Diss\\sec_lit\\ENG\\20240919_wordembeddings\\modelA_iteration=100\\20240919_39_window=10_skipgram_defaultparams_model_vectors.kv\n",
      "2025-01-30 16:35:53,231 : INFO : KeyedVectors lifecycle event {'fname': 'C:\\\\Users\\\\Brottrager\\\\Documents\\\\Diss\\\\sec_lit\\\\ENG\\\\20240919_wordembeddings\\\\modelA_iteration=100\\\\20240919_39_window=10_skipgram_defaultparams_model_vectors.kv', 'datetime': '2025-01-30T16:35:53.230547', 'gensim': '4.3.2', 'python': '3.11.9 | packaged by Anaconda, Inc. | (main, Apr 19 2024, 16:40:41) [MSC v.1916 64 bit (AMD64)]', 'platform': 'Windows-10-10.0.26100-SP0', 'event': 'loaded'}\n",
      "2025-01-30 16:35:53,232 : INFO : loading KeyedVectors object from C:\\Users\\Brottrager\\Documents\\Diss\\sec_lit\\ENG\\20240919_wordembeddings\\modelA_iteration=100\\20240919_3_window=10_skipgram_defaultparams_model_vectors.kv\n",
      "2025-01-30 16:35:53,280 : INFO : KeyedVectors lifecycle event {'fname': 'C:\\\\Users\\\\Brottrager\\\\Documents\\\\Diss\\\\sec_lit\\\\ENG\\\\20240919_wordembeddings\\\\modelA_iteration=100\\\\20240919_3_window=10_skipgram_defaultparams_model_vectors.kv', 'datetime': '2025-01-30T16:35:53.280578', 'gensim': '4.3.2', 'python': '3.11.9 | packaged by Anaconda, Inc. | (main, Apr 19 2024, 16:40:41) [MSC v.1916 64 bit (AMD64)]', 'platform': 'Windows-10-10.0.26100-SP0', 'event': 'loaded'}\n",
      "2025-01-30 16:35:53,281 : INFO : loading KeyedVectors object from C:\\Users\\Brottrager\\Documents\\Diss\\sec_lit\\ENG\\20240919_wordembeddings\\modelA_iteration=100\\20240919_40_window=10_skipgram_defaultparams_model_vectors.kv\n",
      "2025-01-30 16:35:53,329 : INFO : KeyedVectors lifecycle event {'fname': 'C:\\\\Users\\\\Brottrager\\\\Documents\\\\Diss\\\\sec_lit\\\\ENG\\\\20240919_wordembeddings\\\\modelA_iteration=100\\\\20240919_40_window=10_skipgram_defaultparams_model_vectors.kv', 'datetime': '2025-01-30T16:35:53.328111', 'gensim': '4.3.2', 'python': '3.11.9 | packaged by Anaconda, Inc. | (main, Apr 19 2024, 16:40:41) [MSC v.1916 64 bit (AMD64)]', 'platform': 'Windows-10-10.0.26100-SP0', 'event': 'loaded'}\n",
      "2025-01-30 16:35:53,331 : INFO : loading KeyedVectors object from C:\\Users\\Brottrager\\Documents\\Diss\\sec_lit\\ENG\\20240919_wordembeddings\\modelA_iteration=100\\20240919_41_window=10_skipgram_defaultparams_model_vectors.kv\n",
      "2025-01-30 16:35:53,380 : INFO : KeyedVectors lifecycle event {'fname': 'C:\\\\Users\\\\Brottrager\\\\Documents\\\\Diss\\\\sec_lit\\\\ENG\\\\20240919_wordembeddings\\\\modelA_iteration=100\\\\20240919_41_window=10_skipgram_defaultparams_model_vectors.kv', 'datetime': '2025-01-30T16:35:53.380138', 'gensim': '4.3.2', 'python': '3.11.9 | packaged by Anaconda, Inc. | (main, Apr 19 2024, 16:40:41) [MSC v.1916 64 bit (AMD64)]', 'platform': 'Windows-10-10.0.26100-SP0', 'event': 'loaded'}\n",
      "2025-01-30 16:35:53,382 : INFO : loading KeyedVectors object from C:\\Users\\Brottrager\\Documents\\Diss\\sec_lit\\ENG\\20240919_wordembeddings\\modelA_iteration=100\\20240919_42_window=10_skipgram_defaultparams_model_vectors.kv\n",
      "2025-01-30 16:35:53,430 : INFO : KeyedVectors lifecycle event {'fname': 'C:\\\\Users\\\\Brottrager\\\\Documents\\\\Diss\\\\sec_lit\\\\ENG\\\\20240919_wordembeddings\\\\modelA_iteration=100\\\\20240919_42_window=10_skipgram_defaultparams_model_vectors.kv', 'datetime': '2025-01-30T16:35:53.430183', 'gensim': '4.3.2', 'python': '3.11.9 | packaged by Anaconda, Inc. | (main, Apr 19 2024, 16:40:41) [MSC v.1916 64 bit (AMD64)]', 'platform': 'Windows-10-10.0.26100-SP0', 'event': 'loaded'}\n",
      "2025-01-30 16:35:53,431 : INFO : loading KeyedVectors object from C:\\Users\\Brottrager\\Documents\\Diss\\sec_lit\\ENG\\20240919_wordembeddings\\modelA_iteration=100\\20240919_43_window=10_skipgram_defaultparams_model_vectors.kv\n",
      "2025-01-30 16:35:53,480 : INFO : KeyedVectors lifecycle event {'fname': 'C:\\\\Users\\\\Brottrager\\\\Documents\\\\Diss\\\\sec_lit\\\\ENG\\\\20240919_wordembeddings\\\\modelA_iteration=100\\\\20240919_43_window=10_skipgram_defaultparams_model_vectors.kv', 'datetime': '2025-01-30T16:35:53.480205', 'gensim': '4.3.2', 'python': '3.11.9 | packaged by Anaconda, Inc. | (main, Apr 19 2024, 16:40:41) [MSC v.1916 64 bit (AMD64)]', 'platform': 'Windows-10-10.0.26100-SP0', 'event': 'loaded'}\n",
      "2025-01-30 16:35:53,481 : INFO : loading KeyedVectors object from C:\\Users\\Brottrager\\Documents\\Diss\\sec_lit\\ENG\\20240919_wordembeddings\\modelA_iteration=100\\20240919_44_window=10_skipgram_defaultparams_model_vectors.kv\n",
      "2025-01-30 16:35:53,528 : INFO : KeyedVectors lifecycle event {'fname': 'C:\\\\Users\\\\Brottrager\\\\Documents\\\\Diss\\\\sec_lit\\\\ENG\\\\20240919_wordembeddings\\\\modelA_iteration=100\\\\20240919_44_window=10_skipgram_defaultparams_model_vectors.kv', 'datetime': '2025-01-30T16:35:53.528347', 'gensim': '4.3.2', 'python': '3.11.9 | packaged by Anaconda, Inc. | (main, Apr 19 2024, 16:40:41) [MSC v.1916 64 bit (AMD64)]', 'platform': 'Windows-10-10.0.26100-SP0', 'event': 'loaded'}\n",
      "2025-01-30 16:35:53,530 : INFO : loading KeyedVectors object from C:\\Users\\Brottrager\\Documents\\Diss\\sec_lit\\ENG\\20240919_wordembeddings\\modelA_iteration=100\\20240919_45_window=10_skipgram_defaultparams_model_vectors.kv\n",
      "2025-01-30 16:35:53,580 : INFO : KeyedVectors lifecycle event {'fname': 'C:\\\\Users\\\\Brottrager\\\\Documents\\\\Diss\\\\sec_lit\\\\ENG\\\\20240919_wordembeddings\\\\modelA_iteration=100\\\\20240919_45_window=10_skipgram_defaultparams_model_vectors.kv', 'datetime': '2025-01-30T16:35:53.580370', 'gensim': '4.3.2', 'python': '3.11.9 | packaged by Anaconda, Inc. | (main, Apr 19 2024, 16:40:41) [MSC v.1916 64 bit (AMD64)]', 'platform': 'Windows-10-10.0.26100-SP0', 'event': 'loaded'}\n",
      "2025-01-30 16:35:53,582 : INFO : loading KeyedVectors object from C:\\Users\\Brottrager\\Documents\\Diss\\sec_lit\\ENG\\20240919_wordembeddings\\modelA_iteration=100\\20240919_46_window=10_skipgram_defaultparams_model_vectors.kv\n",
      "2025-01-30 16:35:53,636 : INFO : KeyedVectors lifecycle event {'fname': 'C:\\\\Users\\\\Brottrager\\\\Documents\\\\Diss\\\\sec_lit\\\\ENG\\\\20240919_wordembeddings\\\\modelA_iteration=100\\\\20240919_46_window=10_skipgram_defaultparams_model_vectors.kv', 'datetime': '2025-01-30T16:35:53.636448', 'gensim': '4.3.2', 'python': '3.11.9 | packaged by Anaconda, Inc. | (main, Apr 19 2024, 16:40:41) [MSC v.1916 64 bit (AMD64)]', 'platform': 'Windows-10-10.0.26100-SP0', 'event': 'loaded'}\n",
      "2025-01-30 16:35:53,638 : INFO : loading KeyedVectors object from C:\\Users\\Brottrager\\Documents\\Diss\\sec_lit\\ENG\\20240919_wordembeddings\\modelA_iteration=100\\20240919_47_window=10_skipgram_defaultparams_model_vectors.kv\n",
      "2025-01-30 16:35:53,684 : INFO : KeyedVectors lifecycle event {'fname': 'C:\\\\Users\\\\Brottrager\\\\Documents\\\\Diss\\\\sec_lit\\\\ENG\\\\20240919_wordembeddings\\\\modelA_iteration=100\\\\20240919_47_window=10_skipgram_defaultparams_model_vectors.kv', 'datetime': '2025-01-30T16:35:53.684460', 'gensim': '4.3.2', 'python': '3.11.9 | packaged by Anaconda, Inc. | (main, Apr 19 2024, 16:40:41) [MSC v.1916 64 bit (AMD64)]', 'platform': 'Windows-10-10.0.26100-SP0', 'event': 'loaded'}\n",
      "2025-01-30 16:35:53,685 : INFO : loading KeyedVectors object from C:\\Users\\Brottrager\\Documents\\Diss\\sec_lit\\ENG\\20240919_wordembeddings\\modelA_iteration=100\\20240919_48_window=10_skipgram_defaultparams_model_vectors.kv\n",
      "2025-01-30 16:35:53,726 : INFO : KeyedVectors lifecycle event {'fname': 'C:\\\\Users\\\\Brottrager\\\\Documents\\\\Diss\\\\sec_lit\\\\ENG\\\\20240919_wordembeddings\\\\modelA_iteration=100\\\\20240919_48_window=10_skipgram_defaultparams_model_vectors.kv', 'datetime': '2025-01-30T16:35:53.726980', 'gensim': '4.3.2', 'python': '3.11.9 | packaged by Anaconda, Inc. | (main, Apr 19 2024, 16:40:41) [MSC v.1916 64 bit (AMD64)]', 'platform': 'Windows-10-10.0.26100-SP0', 'event': 'loaded'}\n",
      "2025-01-30 16:35:53,728 : INFO : loading KeyedVectors object from C:\\Users\\Brottrager\\Documents\\Diss\\sec_lit\\ENG\\20240919_wordembeddings\\modelA_iteration=100\\20240919_49_window=10_skipgram_defaultparams_model_vectors.kv\n",
      "2025-01-30 16:35:53,770 : INFO : KeyedVectors lifecycle event {'fname': 'C:\\\\Users\\\\Brottrager\\\\Documents\\\\Diss\\\\sec_lit\\\\ENG\\\\20240919_wordembeddings\\\\modelA_iteration=100\\\\20240919_49_window=10_skipgram_defaultparams_model_vectors.kv', 'datetime': '2025-01-30T16:35:53.770015', 'gensim': '4.3.2', 'python': '3.11.9 | packaged by Anaconda, Inc. | (main, Apr 19 2024, 16:40:41) [MSC v.1916 64 bit (AMD64)]', 'platform': 'Windows-10-10.0.26100-SP0', 'event': 'loaded'}\n",
      "2025-01-30 16:35:53,772 : INFO : loading KeyedVectors object from C:\\Users\\Brottrager\\Documents\\Diss\\sec_lit\\ENG\\20240919_wordembeddings\\modelA_iteration=100\\20240919_4_window=10_skipgram_defaultparams_model_vectors.kv\n",
      "2025-01-30 16:35:53,823 : INFO : KeyedVectors lifecycle event {'fname': 'C:\\\\Users\\\\Brottrager\\\\Documents\\\\Diss\\\\sec_lit\\\\ENG\\\\20240919_wordembeddings\\\\modelA_iteration=100\\\\20240919_4_window=10_skipgram_defaultparams_model_vectors.kv', 'datetime': '2025-01-30T16:35:53.823896', 'gensim': '4.3.2', 'python': '3.11.9 | packaged by Anaconda, Inc. | (main, Apr 19 2024, 16:40:41) [MSC v.1916 64 bit (AMD64)]', 'platform': 'Windows-10-10.0.26100-SP0', 'event': 'loaded'}\n",
      "2025-01-30 16:35:53,825 : INFO : loading KeyedVectors object from C:\\Users\\Brottrager\\Documents\\Diss\\sec_lit\\ENG\\20240919_wordembeddings\\modelA_iteration=100\\20240919_50_window=10_skipgram_defaultparams_model_vectors.kv\n",
      "2025-01-30 16:35:53,867 : INFO : KeyedVectors lifecycle event {'fname': 'C:\\\\Users\\\\Brottrager\\\\Documents\\\\Diss\\\\sec_lit\\\\ENG\\\\20240919_wordembeddings\\\\modelA_iteration=100\\\\20240919_50_window=10_skipgram_defaultparams_model_vectors.kv', 'datetime': '2025-01-30T16:35:53.867896', 'gensim': '4.3.2', 'python': '3.11.9 | packaged by Anaconda, Inc. | (main, Apr 19 2024, 16:40:41) [MSC v.1916 64 bit (AMD64)]', 'platform': 'Windows-10-10.0.26100-SP0', 'event': 'loaded'}\n",
      "2025-01-30 16:35:53,869 : INFO : loading KeyedVectors object from C:\\Users\\Brottrager\\Documents\\Diss\\sec_lit\\ENG\\20240919_wordembeddings\\modelA_iteration=100\\20240919_51_window=10_skipgram_defaultparams_model_vectors.kv\n",
      "2025-01-30 16:35:53,913 : INFO : KeyedVectors lifecycle event {'fname': 'C:\\\\Users\\\\Brottrager\\\\Documents\\\\Diss\\\\sec_lit\\\\ENG\\\\20240919_wordembeddings\\\\modelA_iteration=100\\\\20240919_51_window=10_skipgram_defaultparams_model_vectors.kv', 'datetime': '2025-01-30T16:35:53.913985', 'gensim': '4.3.2', 'python': '3.11.9 | packaged by Anaconda, Inc. | (main, Apr 19 2024, 16:40:41) [MSC v.1916 64 bit (AMD64)]', 'platform': 'Windows-10-10.0.26100-SP0', 'event': 'loaded'}\n",
      "2025-01-30 16:35:53,914 : INFO : loading KeyedVectors object from C:\\Users\\Brottrager\\Documents\\Diss\\sec_lit\\ENG\\20240919_wordembeddings\\modelA_iteration=100\\20240919_52_window=10_skipgram_defaultparams_model_vectors.kv\n",
      "2025-01-30 16:35:53,960 : INFO : KeyedVectors lifecycle event {'fname': 'C:\\\\Users\\\\Brottrager\\\\Documents\\\\Diss\\\\sec_lit\\\\ENG\\\\20240919_wordembeddings\\\\modelA_iteration=100\\\\20240919_52_window=10_skipgram_defaultparams_model_vectors.kv', 'datetime': '2025-01-30T16:35:53.960019', 'gensim': '4.3.2', 'python': '3.11.9 | packaged by Anaconda, Inc. | (main, Apr 19 2024, 16:40:41) [MSC v.1916 64 bit (AMD64)]', 'platform': 'Windows-10-10.0.26100-SP0', 'event': 'loaded'}\n",
      "2025-01-30 16:35:53,961 : INFO : loading KeyedVectors object from C:\\Users\\Brottrager\\Documents\\Diss\\sec_lit\\ENG\\20240919_wordembeddings\\modelA_iteration=100\\20240919_53_window=10_skipgram_defaultparams_model_vectors.kv\n",
      "2025-01-30 16:35:54,007 : INFO : KeyedVectors lifecycle event {'fname': 'C:\\\\Users\\\\Brottrager\\\\Documents\\\\Diss\\\\sec_lit\\\\ENG\\\\20240919_wordembeddings\\\\modelA_iteration=100\\\\20240919_53_window=10_skipgram_defaultparams_model_vectors.kv', 'datetime': '2025-01-30T16:35:54.007515', 'gensim': '4.3.2', 'python': '3.11.9 | packaged by Anaconda, Inc. | (main, Apr 19 2024, 16:40:41) [MSC v.1916 64 bit (AMD64)]', 'platform': 'Windows-10-10.0.26100-SP0', 'event': 'loaded'}\n",
      "2025-01-30 16:35:54,009 : INFO : loading KeyedVectors object from C:\\Users\\Brottrager\\Documents\\Diss\\sec_lit\\ENG\\20240919_wordembeddings\\modelA_iteration=100\\20240919_54_window=10_skipgram_defaultparams_model_vectors.kv\n",
      "2025-01-30 16:35:54,054 : INFO : KeyedVectors lifecycle event {'fname': 'C:\\\\Users\\\\Brottrager\\\\Documents\\\\Diss\\\\sec_lit\\\\ENG\\\\20240919_wordembeddings\\\\modelA_iteration=100\\\\20240919_54_window=10_skipgram_defaultparams_model_vectors.kv', 'datetime': '2025-01-30T16:35:54.054548', 'gensim': '4.3.2', 'python': '3.11.9 | packaged by Anaconda, Inc. | (main, Apr 19 2024, 16:40:41) [MSC v.1916 64 bit (AMD64)]', 'platform': 'Windows-10-10.0.26100-SP0', 'event': 'loaded'}\n",
      "2025-01-30 16:35:54,055 : INFO : loading KeyedVectors object from C:\\Users\\Brottrager\\Documents\\Diss\\sec_lit\\ENG\\20240919_wordembeddings\\modelA_iteration=100\\20240919_55_window=10_skipgram_defaultparams_model_vectors.kv\n",
      "2025-01-30 16:35:54,100 : INFO : KeyedVectors lifecycle event {'fname': 'C:\\\\Users\\\\Brottrager\\\\Documents\\\\Diss\\\\sec_lit\\\\ENG\\\\20240919_wordembeddings\\\\modelA_iteration=100\\\\20240919_55_window=10_skipgram_defaultparams_model_vectors.kv', 'datetime': '2025-01-30T16:35:54.099079', 'gensim': '4.3.2', 'python': '3.11.9 | packaged by Anaconda, Inc. | (main, Apr 19 2024, 16:40:41) [MSC v.1916 64 bit (AMD64)]', 'platform': 'Windows-10-10.0.26100-SP0', 'event': 'loaded'}\n",
      "2025-01-30 16:35:54,101 : INFO : loading KeyedVectors object from C:\\Users\\Brottrager\\Documents\\Diss\\sec_lit\\ENG\\20240919_wordembeddings\\modelA_iteration=100\\20240919_56_window=10_skipgram_defaultparams_model_vectors.kv\n",
      "2025-01-30 16:35:54,141 : INFO : KeyedVectors lifecycle event {'fname': 'C:\\\\Users\\\\Brottrager\\\\Documents\\\\Diss\\\\sec_lit\\\\ENG\\\\20240919_wordembeddings\\\\modelA_iteration=100\\\\20240919_56_window=10_skipgram_defaultparams_model_vectors.kv', 'datetime': '2025-01-30T16:35:54.141087', 'gensim': '4.3.2', 'python': '3.11.9 | packaged by Anaconda, Inc. | (main, Apr 19 2024, 16:40:41) [MSC v.1916 64 bit (AMD64)]', 'platform': 'Windows-10-10.0.26100-SP0', 'event': 'loaded'}\n",
      "2025-01-30 16:35:54,144 : INFO : loading KeyedVectors object from C:\\Users\\Brottrager\\Documents\\Diss\\sec_lit\\ENG\\20240919_wordembeddings\\modelA_iteration=100\\20240919_57_window=10_skipgram_defaultparams_model_vectors.kv\n",
      "2025-01-30 16:35:54,191 : INFO : KeyedVectors lifecycle event {'fname': 'C:\\\\Users\\\\Brottrager\\\\Documents\\\\Diss\\\\sec_lit\\\\ENG\\\\20240919_wordembeddings\\\\modelA_iteration=100\\\\20240919_57_window=10_skipgram_defaultparams_model_vectors.kv', 'datetime': '2025-01-30T16:35:54.191120', 'gensim': '4.3.2', 'python': '3.11.9 | packaged by Anaconda, Inc. | (main, Apr 19 2024, 16:40:41) [MSC v.1916 64 bit (AMD64)]', 'platform': 'Windows-10-10.0.26100-SP0', 'event': 'loaded'}\n",
      "2025-01-30 16:35:54,193 : INFO : loading KeyedVectors object from C:\\Users\\Brottrager\\Documents\\Diss\\sec_lit\\ENG\\20240919_wordembeddings\\modelA_iteration=100\\20240919_58_window=10_skipgram_defaultparams_model_vectors.kv\n",
      "2025-01-30 16:35:54,237 : INFO : KeyedVectors lifecycle event {'fname': 'C:\\\\Users\\\\Brottrager\\\\Documents\\\\Diss\\\\sec_lit\\\\ENG\\\\20240919_wordembeddings\\\\modelA_iteration=100\\\\20240919_58_window=10_skipgram_defaultparams_model_vectors.kv', 'datetime': '2025-01-30T16:35:54.237658', 'gensim': '4.3.2', 'python': '3.11.9 | packaged by Anaconda, Inc. | (main, Apr 19 2024, 16:40:41) [MSC v.1916 64 bit (AMD64)]', 'platform': 'Windows-10-10.0.26100-SP0', 'event': 'loaded'}\n",
      "2025-01-30 16:35:54,238 : INFO : loading KeyedVectors object from C:\\Users\\Brottrager\\Documents\\Diss\\sec_lit\\ENG\\20240919_wordembeddings\\modelA_iteration=100\\20240919_59_window=10_skipgram_defaultparams_model_vectors.kv\n",
      "2025-01-30 16:35:54,283 : INFO : KeyedVectors lifecycle event {'fname': 'C:\\\\Users\\\\Brottrager\\\\Documents\\\\Diss\\\\sec_lit\\\\ENG\\\\20240919_wordembeddings\\\\modelA_iteration=100\\\\20240919_59_window=10_skipgram_defaultparams_model_vectors.kv', 'datetime': '2025-01-30T16:35:54.283669', 'gensim': '4.3.2', 'python': '3.11.9 | packaged by Anaconda, Inc. | (main, Apr 19 2024, 16:40:41) [MSC v.1916 64 bit (AMD64)]', 'platform': 'Windows-10-10.0.26100-SP0', 'event': 'loaded'}\n",
      "2025-01-30 16:35:54,284 : INFO : loading KeyedVectors object from C:\\Users\\Brottrager\\Documents\\Diss\\sec_lit\\ENG\\20240919_wordembeddings\\modelA_iteration=100\\20240919_5_window=10_skipgram_defaultparams_model_vectors.kv\n",
      "2025-01-30 16:35:54,328 : INFO : KeyedVectors lifecycle event {'fname': 'C:\\\\Users\\\\Brottrager\\\\Documents\\\\Diss\\\\sec_lit\\\\ENG\\\\20240919_wordembeddings\\\\modelA_iteration=100\\\\20240919_5_window=10_skipgram_defaultparams_model_vectors.kv', 'datetime': '2025-01-30T16:35:54.328194', 'gensim': '4.3.2', 'python': '3.11.9 | packaged by Anaconda, Inc. | (main, Apr 19 2024, 16:40:41) [MSC v.1916 64 bit (AMD64)]', 'platform': 'Windows-10-10.0.26100-SP0', 'event': 'loaded'}\n",
      "2025-01-30 16:35:54,330 : INFO : loading KeyedVectors object from C:\\Users\\Brottrager\\Documents\\Diss\\sec_lit\\ENG\\20240919_wordembeddings\\modelA_iteration=100\\20240919_60_window=10_skipgram_defaultparams_model_vectors.kv\n",
      "2025-01-30 16:35:54,372 : INFO : KeyedVectors lifecycle event {'fname': 'C:\\\\Users\\\\Brottrager\\\\Documents\\\\Diss\\\\sec_lit\\\\ENG\\\\20240919_wordembeddings\\\\modelA_iteration=100\\\\20240919_60_window=10_skipgram_defaultparams_model_vectors.kv', 'datetime': '2025-01-30T16:35:54.372194', 'gensim': '4.3.2', 'python': '3.11.9 | packaged by Anaconda, Inc. | (main, Apr 19 2024, 16:40:41) [MSC v.1916 64 bit (AMD64)]', 'platform': 'Windows-10-10.0.26100-SP0', 'event': 'loaded'}\n",
      "2025-01-30 16:35:54,373 : INFO : loading KeyedVectors object from C:\\Users\\Brottrager\\Documents\\Diss\\sec_lit\\ENG\\20240919_wordembeddings\\modelA_iteration=100\\20240919_61_window=10_skipgram_defaultparams_model_vectors.kv\n",
      "2025-01-30 16:35:54,416 : INFO : KeyedVectors lifecycle event {'fname': 'C:\\\\Users\\\\Brottrager\\\\Documents\\\\Diss\\\\sec_lit\\\\ENG\\\\20240919_wordembeddings\\\\modelA_iteration=100\\\\20240919_61_window=10_skipgram_defaultparams_model_vectors.kv', 'datetime': '2025-01-30T16:35:54.416614', 'gensim': '4.3.2', 'python': '3.11.9 | packaged by Anaconda, Inc. | (main, Apr 19 2024, 16:40:41) [MSC v.1916 64 bit (AMD64)]', 'platform': 'Windows-10-10.0.26100-SP0', 'event': 'loaded'}\n",
      "2025-01-30 16:35:54,417 : INFO : loading KeyedVectors object from C:\\Users\\Brottrager\\Documents\\Diss\\sec_lit\\ENG\\20240919_wordembeddings\\modelA_iteration=100\\20240919_62_window=10_skipgram_defaultparams_model_vectors.kv\n",
      "2025-01-30 16:35:54,457 : INFO : KeyedVectors lifecycle event {'fname': 'C:\\\\Users\\\\Brottrager\\\\Documents\\\\Diss\\\\sec_lit\\\\ENG\\\\20240919_wordembeddings\\\\modelA_iteration=100\\\\20240919_62_window=10_skipgram_defaultparams_model_vectors.kv', 'datetime': '2025-01-30T16:35:54.457607', 'gensim': '4.3.2', 'python': '3.11.9 | packaged by Anaconda, Inc. | (main, Apr 19 2024, 16:40:41) [MSC v.1916 64 bit (AMD64)]', 'platform': 'Windows-10-10.0.26100-SP0', 'event': 'loaded'}\n",
      "2025-01-30 16:35:54,458 : INFO : loading KeyedVectors object from C:\\Users\\Brottrager\\Documents\\Diss\\sec_lit\\ENG\\20240919_wordembeddings\\modelA_iteration=100\\20240919_63_window=10_skipgram_defaultparams_model_vectors.kv\n",
      "2025-01-30 16:35:54,501 : INFO : KeyedVectors lifecycle event {'fname': 'C:\\\\Users\\\\Brottrager\\\\Documents\\\\Diss\\\\sec_lit\\\\ENG\\\\20240919_wordembeddings\\\\modelA_iteration=100\\\\20240919_63_window=10_skipgram_defaultparams_model_vectors.kv', 'datetime': '2025-01-30T16:35:54.501137', 'gensim': '4.3.2', 'python': '3.11.9 | packaged by Anaconda, Inc. | (main, Apr 19 2024, 16:40:41) [MSC v.1916 64 bit (AMD64)]', 'platform': 'Windows-10-10.0.26100-SP0', 'event': 'loaded'}\n",
      "2025-01-30 16:35:54,502 : INFO : loading KeyedVectors object from C:\\Users\\Brottrager\\Documents\\Diss\\sec_lit\\ENG\\20240919_wordembeddings\\modelA_iteration=100\\20240919_64_window=10_skipgram_defaultparams_model_vectors.kv\n",
      "2025-01-30 16:35:54,545 : INFO : KeyedVectors lifecycle event {'fname': 'C:\\\\Users\\\\Brottrager\\\\Documents\\\\Diss\\\\sec_lit\\\\ENG\\\\20240919_wordembeddings\\\\modelA_iteration=100\\\\20240919_64_window=10_skipgram_defaultparams_model_vectors.kv', 'datetime': '2025-01-30T16:35:54.545156', 'gensim': '4.3.2', 'python': '3.11.9 | packaged by Anaconda, Inc. | (main, Apr 19 2024, 16:40:41) [MSC v.1916 64 bit (AMD64)]', 'platform': 'Windows-10-10.0.26100-SP0', 'event': 'loaded'}\n",
      "2025-01-30 16:35:54,546 : INFO : loading KeyedVectors object from C:\\Users\\Brottrager\\Documents\\Diss\\sec_lit\\ENG\\20240919_wordembeddings\\modelA_iteration=100\\20240919_65_window=10_skipgram_defaultparams_model_vectors.kv\n",
      "2025-01-30 16:35:54,588 : INFO : KeyedVectors lifecycle event {'fname': 'C:\\\\Users\\\\Brottrager\\\\Documents\\\\Diss\\\\sec_lit\\\\ENG\\\\20240919_wordembeddings\\\\modelA_iteration=100\\\\20240919_65_window=10_skipgram_defaultparams_model_vectors.kv', 'datetime': '2025-01-30T16:35:54.588184', 'gensim': '4.3.2', 'python': '3.11.9 | packaged by Anaconda, Inc. | (main, Apr 19 2024, 16:40:41) [MSC v.1916 64 bit (AMD64)]', 'platform': 'Windows-10-10.0.26100-SP0', 'event': 'loaded'}\n",
      "2025-01-30 16:35:54,589 : INFO : loading KeyedVectors object from C:\\Users\\Brottrager\\Documents\\Diss\\sec_lit\\ENG\\20240919_wordembeddings\\modelA_iteration=100\\20240919_66_window=10_skipgram_defaultparams_model_vectors.kv\n",
      "2025-01-30 16:35:54,633 : INFO : KeyedVectors lifecycle event {'fname': 'C:\\\\Users\\\\Brottrager\\\\Documents\\\\Diss\\\\sec_lit\\\\ENG\\\\20240919_wordembeddings\\\\modelA_iteration=100\\\\20240919_66_window=10_skipgram_defaultparams_model_vectors.kv', 'datetime': '2025-01-30T16:35:54.633528', 'gensim': '4.3.2', 'python': '3.11.9 | packaged by Anaconda, Inc. | (main, Apr 19 2024, 16:40:41) [MSC v.1916 64 bit (AMD64)]', 'platform': 'Windows-10-10.0.26100-SP0', 'event': 'loaded'}\n",
      "2025-01-30 16:35:54,634 : INFO : loading KeyedVectors object from C:\\Users\\Brottrager\\Documents\\Diss\\sec_lit\\ENG\\20240919_wordembeddings\\modelA_iteration=100\\20240919_67_window=10_skipgram_defaultparams_model_vectors.kv\n",
      "2025-01-30 16:35:54,677 : INFO : KeyedVectors lifecycle event {'fname': 'C:\\\\Users\\\\Brottrager\\\\Documents\\\\Diss\\\\sec_lit\\\\ENG\\\\20240919_wordembeddings\\\\modelA_iteration=100\\\\20240919_67_window=10_skipgram_defaultparams_model_vectors.kv', 'datetime': '2025-01-30T16:35:54.677523', 'gensim': '4.3.2', 'python': '3.11.9 | packaged by Anaconda, Inc. | (main, Apr 19 2024, 16:40:41) [MSC v.1916 64 bit (AMD64)]', 'platform': 'Windows-10-10.0.26100-SP0', 'event': 'loaded'}\n",
      "2025-01-30 16:35:54,678 : INFO : loading KeyedVectors object from C:\\Users\\Brottrager\\Documents\\Diss\\sec_lit\\ENG\\20240919_wordembeddings\\modelA_iteration=100\\20240919_68_window=10_skipgram_defaultparams_model_vectors.kv\n",
      "2025-01-30 16:35:54,720 : INFO : KeyedVectors lifecycle event {'fname': 'C:\\\\Users\\\\Brottrager\\\\Documents\\\\Diss\\\\sec_lit\\\\ENG\\\\20240919_wordembeddings\\\\modelA_iteration=100\\\\20240919_68_window=10_skipgram_defaultparams_model_vectors.kv', 'datetime': '2025-01-30T16:35:54.720737', 'gensim': '4.3.2', 'python': '3.11.9 | packaged by Anaconda, Inc. | (main, Apr 19 2024, 16:40:41) [MSC v.1916 64 bit (AMD64)]', 'platform': 'Windows-10-10.0.26100-SP0', 'event': 'loaded'}\n",
      "2025-01-30 16:35:54,722 : INFO : loading KeyedVectors object from C:\\Users\\Brottrager\\Documents\\Diss\\sec_lit\\ENG\\20240919_wordembeddings\\modelA_iteration=100\\20240919_69_window=10_skipgram_defaultparams_model_vectors.kv\n",
      "2025-01-30 16:35:54,765 : INFO : KeyedVectors lifecycle event {'fname': 'C:\\\\Users\\\\Brottrager\\\\Documents\\\\Diss\\\\sec_lit\\\\ENG\\\\20240919_wordembeddings\\\\modelA_iteration=100\\\\20240919_69_window=10_skipgram_defaultparams_model_vectors.kv', 'datetime': '2025-01-30T16:35:54.765733', 'gensim': '4.3.2', 'python': '3.11.9 | packaged by Anaconda, Inc. | (main, Apr 19 2024, 16:40:41) [MSC v.1916 64 bit (AMD64)]', 'platform': 'Windows-10-10.0.26100-SP0', 'event': 'loaded'}\n",
      "2025-01-30 16:35:54,766 : INFO : loading KeyedVectors object from C:\\Users\\Brottrager\\Documents\\Diss\\sec_lit\\ENG\\20240919_wordembeddings\\modelA_iteration=100\\20240919_6_window=10_skipgram_defaultparams_model_vectors.kv\n",
      "2025-01-30 16:35:54,806 : INFO : KeyedVectors lifecycle event {'fname': 'C:\\\\Users\\\\Brottrager\\\\Documents\\\\Diss\\\\sec_lit\\\\ENG\\\\20240919_wordembeddings\\\\modelA_iteration=100\\\\20240919_6_window=10_skipgram_defaultparams_model_vectors.kv', 'datetime': '2025-01-30T16:35:54.806269', 'gensim': '4.3.2', 'python': '3.11.9 | packaged by Anaconda, Inc. | (main, Apr 19 2024, 16:40:41) [MSC v.1916 64 bit (AMD64)]', 'platform': 'Windows-10-10.0.26100-SP0', 'event': 'loaded'}\n",
      "2025-01-30 16:35:54,808 : INFO : loading KeyedVectors object from C:\\Users\\Brottrager\\Documents\\Diss\\sec_lit\\ENG\\20240919_wordembeddings\\modelA_iteration=100\\20240919_70_window=10_skipgram_defaultparams_model_vectors.kv\n",
      "2025-01-30 16:35:54,850 : INFO : KeyedVectors lifecycle event {'fname': 'C:\\\\Users\\\\Brottrager\\\\Documents\\\\Diss\\\\sec_lit\\\\ENG\\\\20240919_wordembeddings\\\\modelA_iteration=100\\\\20240919_70_window=10_skipgram_defaultparams_model_vectors.kv', 'datetime': '2025-01-30T16:35:54.850276', 'gensim': '4.3.2', 'python': '3.11.9 | packaged by Anaconda, Inc. | (main, Apr 19 2024, 16:40:41) [MSC v.1916 64 bit (AMD64)]', 'platform': 'Windows-10-10.0.26100-SP0', 'event': 'loaded'}\n",
      "2025-01-30 16:35:54,851 : INFO : loading KeyedVectors object from C:\\Users\\Brottrager\\Documents\\Diss\\sec_lit\\ENG\\20240919_wordembeddings\\modelA_iteration=100\\20240919_71_window=10_skipgram_defaultparams_model_vectors.kv\n",
      "2025-01-30 16:35:54,893 : INFO : KeyedVectors lifecycle event {'fname': 'C:\\\\Users\\\\Brottrager\\\\Documents\\\\Diss\\\\sec_lit\\\\ENG\\\\20240919_wordembeddings\\\\modelA_iteration=100\\\\20240919_71_window=10_skipgram_defaultparams_model_vectors.kv', 'datetime': '2025-01-30T16:35:54.892292', 'gensim': '4.3.2', 'python': '3.11.9 | packaged by Anaconda, Inc. | (main, Apr 19 2024, 16:40:41) [MSC v.1916 64 bit (AMD64)]', 'platform': 'Windows-10-10.0.26100-SP0', 'event': 'loaded'}\n",
      "2025-01-30 16:35:54,894 : INFO : loading KeyedVectors object from C:\\Users\\Brottrager\\Documents\\Diss\\sec_lit\\ENG\\20240919_wordembeddings\\modelA_iteration=100\\20240919_72_window=10_skipgram_defaultparams_model_vectors.kv\n",
      "2025-01-30 16:35:54,933 : INFO : KeyedVectors lifecycle event {'fname': 'C:\\\\Users\\\\Brottrager\\\\Documents\\\\Diss\\\\sec_lit\\\\ENG\\\\20240919_wordembeddings\\\\modelA_iteration=100\\\\20240919_72_window=10_skipgram_defaultparams_model_vectors.kv', 'datetime': '2025-01-30T16:35:54.933806', 'gensim': '4.3.2', 'python': '3.11.9 | packaged by Anaconda, Inc. | (main, Apr 19 2024, 16:40:41) [MSC v.1916 64 bit (AMD64)]', 'platform': 'Windows-10-10.0.26100-SP0', 'event': 'loaded'}\n",
      "2025-01-30 16:35:54,935 : INFO : loading KeyedVectors object from C:\\Users\\Brottrager\\Documents\\Diss\\sec_lit\\ENG\\20240919_wordembeddings\\modelA_iteration=100\\20240919_73_window=10_skipgram_defaultparams_model_vectors.kv\n",
      "2025-01-30 16:35:54,975 : INFO : KeyedVectors lifecycle event {'fname': 'C:\\\\Users\\\\Brottrager\\\\Documents\\\\Diss\\\\sec_lit\\\\ENG\\\\20240919_wordembeddings\\\\modelA_iteration=100\\\\20240919_73_window=10_skipgram_defaultparams_model_vectors.kv', 'datetime': '2025-01-30T16:35:54.975811', 'gensim': '4.3.2', 'python': '3.11.9 | packaged by Anaconda, Inc. | (main, Apr 19 2024, 16:40:41) [MSC v.1916 64 bit (AMD64)]', 'platform': 'Windows-10-10.0.26100-SP0', 'event': 'loaded'}\n",
      "2025-01-30 16:35:54,995 : INFO : loading KeyedVectors object from C:\\Users\\Brottrager\\Documents\\Diss\\sec_lit\\ENG\\20240919_wordembeddings\\modelA_iteration=100\\20240919_74_window=10_skipgram_defaultparams_model_vectors.kv\n",
      "2025-01-30 16:35:55,036 : INFO : KeyedVectors lifecycle event {'fname': 'C:\\\\Users\\\\Brottrager\\\\Documents\\\\Diss\\\\sec_lit\\\\ENG\\\\20240919_wordembeddings\\\\modelA_iteration=100\\\\20240919_74_window=10_skipgram_defaultparams_model_vectors.kv', 'datetime': '2025-01-30T16:35:55.036920', 'gensim': '4.3.2', 'python': '3.11.9 | packaged by Anaconda, Inc. | (main, Apr 19 2024, 16:40:41) [MSC v.1916 64 bit (AMD64)]', 'platform': 'Windows-10-10.0.26100-SP0', 'event': 'loaded'}\n",
      "2025-01-30 16:35:55,038 : INFO : loading KeyedVectors object from C:\\Users\\Brottrager\\Documents\\Diss\\sec_lit\\ENG\\20240919_wordembeddings\\modelA_iteration=100\\20240919_75_window=10_skipgram_defaultparams_model_vectors.kv\n",
      "2025-01-30 16:35:55,080 : INFO : KeyedVectors lifecycle event {'fname': 'C:\\\\Users\\\\Brottrager\\\\Documents\\\\Diss\\\\sec_lit\\\\ENG\\\\20240919_wordembeddings\\\\modelA_iteration=100\\\\20240919_75_window=10_skipgram_defaultparams_model_vectors.kv', 'datetime': '2025-01-30T16:35:55.080925', 'gensim': '4.3.2', 'python': '3.11.9 | packaged by Anaconda, Inc. | (main, Apr 19 2024, 16:40:41) [MSC v.1916 64 bit (AMD64)]', 'platform': 'Windows-10-10.0.26100-SP0', 'event': 'loaded'}\n",
      "2025-01-30 16:35:55,081 : INFO : loading KeyedVectors object from C:\\Users\\Brottrager\\Documents\\Diss\\sec_lit\\ENG\\20240919_wordembeddings\\modelA_iteration=100\\20240919_76_window=10_skipgram_defaultparams_model_vectors.kv\n",
      "2025-01-30 16:35:55,124 : INFO : KeyedVectors lifecycle event {'fname': 'C:\\\\Users\\\\Brottrager\\\\Documents\\\\Diss\\\\sec_lit\\\\ENG\\\\20240919_wordembeddings\\\\modelA_iteration=100\\\\20240919_76_window=10_skipgram_defaultparams_model_vectors.kv', 'datetime': '2025-01-30T16:35:55.124479', 'gensim': '4.3.2', 'python': '3.11.9 | packaged by Anaconda, Inc. | (main, Apr 19 2024, 16:40:41) [MSC v.1916 64 bit (AMD64)]', 'platform': 'Windows-10-10.0.26100-SP0', 'event': 'loaded'}\n",
      "2025-01-30 16:35:55,126 : INFO : loading KeyedVectors object from C:\\Users\\Brottrager\\Documents\\Diss\\sec_lit\\ENG\\20240919_wordembeddings\\modelA_iteration=100\\20240919_77_window=10_skipgram_defaultparams_model_vectors.kv\n",
      "2025-01-30 16:35:55,167 : INFO : KeyedVectors lifecycle event {'fname': 'C:\\\\Users\\\\Brottrager\\\\Documents\\\\Diss\\\\sec_lit\\\\ENG\\\\20240919_wordembeddings\\\\modelA_iteration=100\\\\20240919_77_window=10_skipgram_defaultparams_model_vectors.kv', 'datetime': '2025-01-30T16:35:55.167470', 'gensim': '4.3.2', 'python': '3.11.9 | packaged by Anaconda, Inc. | (main, Apr 19 2024, 16:40:41) [MSC v.1916 64 bit (AMD64)]', 'platform': 'Windows-10-10.0.26100-SP0', 'event': 'loaded'}\n",
      "2025-01-30 16:35:55,168 : INFO : loading KeyedVectors object from C:\\Users\\Brottrager\\Documents\\Diss\\sec_lit\\ENG\\20240919_wordembeddings\\modelA_iteration=100\\20240919_78_window=10_skipgram_defaultparams_model_vectors.kv\n",
      "2025-01-30 16:35:55,206 : INFO : KeyedVectors lifecycle event {'fname': 'C:\\\\Users\\\\Brottrager\\\\Documents\\\\Diss\\\\sec_lit\\\\ENG\\\\20240919_wordembeddings\\\\modelA_iteration=100\\\\20240919_78_window=10_skipgram_defaultparams_model_vectors.kv', 'datetime': '2025-01-30T16:35:55.206992', 'gensim': '4.3.2', 'python': '3.11.9 | packaged by Anaconda, Inc. | (main, Apr 19 2024, 16:40:41) [MSC v.1916 64 bit (AMD64)]', 'platform': 'Windows-10-10.0.26100-SP0', 'event': 'loaded'}\n",
      "2025-01-30 16:35:55,208 : INFO : loading KeyedVectors object from C:\\Users\\Brottrager\\Documents\\Diss\\sec_lit\\ENG\\20240919_wordembeddings\\modelA_iteration=100\\20240919_79_window=10_skipgram_defaultparams_model_vectors.kv\n",
      "2025-01-30 16:35:55,251 : INFO : KeyedVectors lifecycle event {'fname': 'C:\\\\Users\\\\Brottrager\\\\Documents\\\\Diss\\\\sec_lit\\\\ENG\\\\20240919_wordembeddings\\\\modelA_iteration=100\\\\20240919_79_window=10_skipgram_defaultparams_model_vectors.kv', 'datetime': '2025-01-30T16:35:55.251991', 'gensim': '4.3.2', 'python': '3.11.9 | packaged by Anaconda, Inc. | (main, Apr 19 2024, 16:40:41) [MSC v.1916 64 bit (AMD64)]', 'platform': 'Windows-10-10.0.26100-SP0', 'event': 'loaded'}\n",
      "2025-01-30 16:35:55,253 : INFO : loading KeyedVectors object from C:\\Users\\Brottrager\\Documents\\Diss\\sec_lit\\ENG\\20240919_wordembeddings\\modelA_iteration=100\\20240919_7_window=10_skipgram_defaultparams_model_vectors.kv\n",
      "2025-01-30 16:35:55,307 : INFO : KeyedVectors lifecycle event {'fname': 'C:\\\\Users\\\\Brottrager\\\\Documents\\\\Diss\\\\sec_lit\\\\ENG\\\\20240919_wordembeddings\\\\modelA_iteration=100\\\\20240919_7_window=10_skipgram_defaultparams_model_vectors.kv', 'datetime': '2025-01-30T16:35:55.307385', 'gensim': '4.3.2', 'python': '3.11.9 | packaged by Anaconda, Inc. | (main, Apr 19 2024, 16:40:41) [MSC v.1916 64 bit (AMD64)]', 'platform': 'Windows-10-10.0.26100-SP0', 'event': 'loaded'}\n",
      "2025-01-30 16:35:55,309 : INFO : loading KeyedVectors object from C:\\Users\\Brottrager\\Documents\\Diss\\sec_lit\\ENG\\20240919_wordembeddings\\modelA_iteration=100\\20240919_80_window=10_skipgram_defaultparams_model_vectors.kv\n",
      "2025-01-30 16:35:55,348 : INFO : KeyedVectors lifecycle event {'fname': 'C:\\\\Users\\\\Brottrager\\\\Documents\\\\Diss\\\\sec_lit\\\\ENG\\\\20240919_wordembeddings\\\\modelA_iteration=100\\\\20240919_80_window=10_skipgram_defaultparams_model_vectors.kv', 'datetime': '2025-01-30T16:35:55.348428', 'gensim': '4.3.2', 'python': '3.11.9 | packaged by Anaconda, Inc. | (main, Apr 19 2024, 16:40:41) [MSC v.1916 64 bit (AMD64)]', 'platform': 'Windows-10-10.0.26100-SP0', 'event': 'loaded'}\n",
      "2025-01-30 16:35:55,349 : INFO : loading KeyedVectors object from C:\\Users\\Brottrager\\Documents\\Diss\\sec_lit\\ENG\\20240919_wordembeddings\\modelA_iteration=100\\20240919_81_window=10_skipgram_defaultparams_model_vectors.kv\n",
      "2025-01-30 16:35:55,391 : INFO : KeyedVectors lifecycle event {'fname': 'C:\\\\Users\\\\Brottrager\\\\Documents\\\\Diss\\\\sec_lit\\\\ENG\\\\20240919_wordembeddings\\\\modelA_iteration=100\\\\20240919_81_window=10_skipgram_defaultparams_model_vectors.kv', 'datetime': '2025-01-30T16:35:55.391395', 'gensim': '4.3.2', 'python': '3.11.9 | packaged by Anaconda, Inc. | (main, Apr 19 2024, 16:40:41) [MSC v.1916 64 bit (AMD64)]', 'platform': 'Windows-10-10.0.26100-SP0', 'event': 'loaded'}\n",
      "2025-01-30 16:35:55,392 : INFO : loading KeyedVectors object from C:\\Users\\Brottrager\\Documents\\Diss\\sec_lit\\ENG\\20240919_wordembeddings\\modelA_iteration=100\\20240919_82_window=10_skipgram_defaultparams_model_vectors.kv\n",
      "2025-01-30 16:35:55,437 : INFO : KeyedVectors lifecycle event {'fname': 'C:\\\\Users\\\\Brottrager\\\\Documents\\\\Diss\\\\sec_lit\\\\ENG\\\\20240919_wordembeddings\\\\modelA_iteration=100\\\\20240919_82_window=10_skipgram_defaultparams_model_vectors.kv', 'datetime': '2025-01-30T16:35:55.437970', 'gensim': '4.3.2', 'python': '3.11.9 | packaged by Anaconda, Inc. | (main, Apr 19 2024, 16:40:41) [MSC v.1916 64 bit (AMD64)]', 'platform': 'Windows-10-10.0.26100-SP0', 'event': 'loaded'}\n",
      "2025-01-30 16:35:55,439 : INFO : loading KeyedVectors object from C:\\Users\\Brottrager\\Documents\\Diss\\sec_lit\\ENG\\20240919_wordembeddings\\modelA_iteration=100\\20240919_83_window=10_skipgram_defaultparams_model_vectors.kv\n",
      "2025-01-30 16:35:55,486 : INFO : KeyedVectors lifecycle event {'fname': 'C:\\\\Users\\\\Brottrager\\\\Documents\\\\Diss\\\\sec_lit\\\\ENG\\\\20240919_wordembeddings\\\\modelA_iteration=100\\\\20240919_83_window=10_skipgram_defaultparams_model_vectors.kv', 'datetime': '2025-01-30T16:35:55.486989', 'gensim': '4.3.2', 'python': '3.11.9 | packaged by Anaconda, Inc. | (main, Apr 19 2024, 16:40:41) [MSC v.1916 64 bit (AMD64)]', 'platform': 'Windows-10-10.0.26100-SP0', 'event': 'loaded'}\n",
      "2025-01-30 16:35:55,488 : INFO : loading KeyedVectors object from C:\\Users\\Brottrager\\Documents\\Diss\\sec_lit\\ENG\\20240919_wordembeddings\\modelA_iteration=100\\20240919_84_window=10_skipgram_defaultparams_model_vectors.kv\n",
      "2025-01-30 16:35:55,532 : INFO : KeyedVectors lifecycle event {'fname': 'C:\\\\Users\\\\Brottrager\\\\Documents\\\\Diss\\\\sec_lit\\\\ENG\\\\20240919_wordembeddings\\\\modelA_iteration=100\\\\20240919_84_window=10_skipgram_defaultparams_model_vectors.kv', 'datetime': '2025-01-30T16:35:55.532508', 'gensim': '4.3.2', 'python': '3.11.9 | packaged by Anaconda, Inc. | (main, Apr 19 2024, 16:40:41) [MSC v.1916 64 bit (AMD64)]', 'platform': 'Windows-10-10.0.26100-SP0', 'event': 'loaded'}\n",
      "2025-01-30 16:35:55,534 : INFO : loading KeyedVectors object from C:\\Users\\Brottrager\\Documents\\Diss\\sec_lit\\ENG\\20240919_wordembeddings\\modelA_iteration=100\\20240919_85_window=10_skipgram_defaultparams_model_vectors.kv\n",
      "2025-01-30 16:35:55,580 : INFO : KeyedVectors lifecycle event {'fname': 'C:\\\\Users\\\\Brottrager\\\\Documents\\\\Diss\\\\sec_lit\\\\ENG\\\\20240919_wordembeddings\\\\modelA_iteration=100\\\\20240919_85_window=10_skipgram_defaultparams_model_vectors.kv', 'datetime': '2025-01-30T16:35:55.580479', 'gensim': '4.3.2', 'python': '3.11.9 | packaged by Anaconda, Inc. | (main, Apr 19 2024, 16:40:41) [MSC v.1916 64 bit (AMD64)]', 'platform': 'Windows-10-10.0.26100-SP0', 'event': 'loaded'}\n",
      "2025-01-30 16:35:55,581 : INFO : loading KeyedVectors object from C:\\Users\\Brottrager\\Documents\\Diss\\sec_lit\\ENG\\20240919_wordembeddings\\modelA_iteration=100\\20240919_86_window=10_skipgram_defaultparams_model_vectors.kv\n",
      "2025-01-30 16:35:55,628 : INFO : KeyedVectors lifecycle event {'fname': 'C:\\\\Users\\\\Brottrager\\\\Documents\\\\Diss\\\\sec_lit\\\\ENG\\\\20240919_wordembeddings\\\\modelA_iteration=100\\\\20240919_86_window=10_skipgram_defaultparams_model_vectors.kv', 'datetime': '2025-01-30T16:35:55.628021', 'gensim': '4.3.2', 'python': '3.11.9 | packaged by Anaconda, Inc. | (main, Apr 19 2024, 16:40:41) [MSC v.1916 64 bit (AMD64)]', 'platform': 'Windows-10-10.0.26100-SP0', 'event': 'loaded'}\n",
      "2025-01-30 16:35:55,629 : INFO : loading KeyedVectors object from C:\\Users\\Brottrager\\Documents\\Diss\\sec_lit\\ENG\\20240919_wordembeddings\\modelA_iteration=100\\20240919_87_window=10_skipgram_defaultparams_model_vectors.kv\n",
      "2025-01-30 16:35:55,672 : INFO : KeyedVectors lifecycle event {'fname': 'C:\\\\Users\\\\Brottrager\\\\Documents\\\\Diss\\\\sec_lit\\\\ENG\\\\20240919_wordembeddings\\\\modelA_iteration=100\\\\20240919_87_window=10_skipgram_defaultparams_model_vectors.kv', 'datetime': '2025-01-30T16:35:55.672034', 'gensim': '4.3.2', 'python': '3.11.9 | packaged by Anaconda, Inc. | (main, Apr 19 2024, 16:40:41) [MSC v.1916 64 bit (AMD64)]', 'platform': 'Windows-10-10.0.26100-SP0', 'event': 'loaded'}\n",
      "2025-01-30 16:35:55,673 : INFO : loading KeyedVectors object from C:\\Users\\Brottrager\\Documents\\Diss\\sec_lit\\ENG\\20240919_wordembeddings\\modelA_iteration=100\\20240919_88_window=10_skipgram_defaultparams_model_vectors.kv\n",
      "2025-01-30 16:35:55,714 : INFO : KeyedVectors lifecycle event {'fname': 'C:\\\\Users\\\\Brottrager\\\\Documents\\\\Diss\\\\sec_lit\\\\ENG\\\\20240919_wordembeddings\\\\modelA_iteration=100\\\\20240919_88_window=10_skipgram_defaultparams_model_vectors.kv', 'datetime': '2025-01-30T16:35:55.714142', 'gensim': '4.3.2', 'python': '3.11.9 | packaged by Anaconda, Inc. | (main, Apr 19 2024, 16:40:41) [MSC v.1916 64 bit (AMD64)]', 'platform': 'Windows-10-10.0.26100-SP0', 'event': 'loaded'}\n",
      "2025-01-30 16:35:55,716 : INFO : loading KeyedVectors object from C:\\Users\\Brottrager\\Documents\\Diss\\sec_lit\\ENG\\20240919_wordembeddings\\modelA_iteration=100\\20240919_89_window=10_skipgram_defaultparams_model_vectors.kv\n",
      "2025-01-30 16:35:55,755 : INFO : KeyedVectors lifecycle event {'fname': 'C:\\\\Users\\\\Brottrager\\\\Documents\\\\Diss\\\\sec_lit\\\\ENG\\\\20240919_wordembeddings\\\\modelA_iteration=100\\\\20240919_89_window=10_skipgram_defaultparams_model_vectors.kv', 'datetime': '2025-01-30T16:35:55.755141', 'gensim': '4.3.2', 'python': '3.11.9 | packaged by Anaconda, Inc. | (main, Apr 19 2024, 16:40:41) [MSC v.1916 64 bit (AMD64)]', 'platform': 'Windows-10-10.0.26100-SP0', 'event': 'loaded'}\n",
      "2025-01-30 16:35:55,757 : INFO : loading KeyedVectors object from C:\\Users\\Brottrager\\Documents\\Diss\\sec_lit\\ENG\\20240919_wordembeddings\\modelA_iteration=100\\20240919_8_window=10_skipgram_defaultparams_model_vectors.kv\n",
      "2025-01-30 16:35:55,798 : INFO : KeyedVectors lifecycle event {'fname': 'C:\\\\Users\\\\Brottrager\\\\Documents\\\\Diss\\\\sec_lit\\\\ENG\\\\20240919_wordembeddings\\\\modelA_iteration=100\\\\20240919_8_window=10_skipgram_defaultparams_model_vectors.kv', 'datetime': '2025-01-30T16:35:55.798710', 'gensim': '4.3.2', 'python': '3.11.9 | packaged by Anaconda, Inc. | (main, Apr 19 2024, 16:40:41) [MSC v.1916 64 bit (AMD64)]', 'platform': 'Windows-10-10.0.26100-SP0', 'event': 'loaded'}\n",
      "2025-01-30 16:35:55,799 : INFO : loading KeyedVectors object from C:\\Users\\Brottrager\\Documents\\Diss\\sec_lit\\ENG\\20240919_wordembeddings\\modelA_iteration=100\\20240919_90_window=10_skipgram_defaultparams_model_vectors.kv\n",
      "2025-01-30 16:35:55,837 : INFO : KeyedVectors lifecycle event {'fname': 'C:\\\\Users\\\\Brottrager\\\\Documents\\\\Diss\\\\sec_lit\\\\ENG\\\\20240919_wordembeddings\\\\modelA_iteration=100\\\\20240919_90_window=10_skipgram_defaultparams_model_vectors.kv', 'datetime': '2025-01-30T16:35:55.837739', 'gensim': '4.3.2', 'python': '3.11.9 | packaged by Anaconda, Inc. | (main, Apr 19 2024, 16:40:41) [MSC v.1916 64 bit (AMD64)]', 'platform': 'Windows-10-10.0.26100-SP0', 'event': 'loaded'}\n",
      "2025-01-30 16:35:55,839 : INFO : loading KeyedVectors object from C:\\Users\\Brottrager\\Documents\\Diss\\sec_lit\\ENG\\20240919_wordembeddings\\modelA_iteration=100\\20240919_91_window=10_skipgram_defaultparams_model_vectors.kv\n",
      "2025-01-30 16:35:55,886 : INFO : KeyedVectors lifecycle event {'fname': 'C:\\\\Users\\\\Brottrager\\\\Documents\\\\Diss\\\\sec_lit\\\\ENG\\\\20240919_wordembeddings\\\\modelA_iteration=100\\\\20240919_91_window=10_skipgram_defaultparams_model_vectors.kv', 'datetime': '2025-01-30T16:35:55.886720', 'gensim': '4.3.2', 'python': '3.11.9 | packaged by Anaconda, Inc. | (main, Apr 19 2024, 16:40:41) [MSC v.1916 64 bit (AMD64)]', 'platform': 'Windows-10-10.0.26100-SP0', 'event': 'loaded'}\n",
      "2025-01-30 16:35:55,888 : INFO : loading KeyedVectors object from C:\\Users\\Brottrager\\Documents\\Diss\\sec_lit\\ENG\\20240919_wordembeddings\\modelA_iteration=100\\20240919_92_window=10_skipgram_defaultparams_model_vectors.kv\n",
      "2025-01-30 16:35:55,931 : INFO : KeyedVectors lifecycle event {'fname': 'C:\\\\Users\\\\Brottrager\\\\Documents\\\\Diss\\\\sec_lit\\\\ENG\\\\20240919_wordembeddings\\\\modelA_iteration=100\\\\20240919_92_window=10_skipgram_defaultparams_model_vectors.kv', 'datetime': '2025-01-30T16:35:55.931144', 'gensim': '4.3.2', 'python': '3.11.9 | packaged by Anaconda, Inc. | (main, Apr 19 2024, 16:40:41) [MSC v.1916 64 bit (AMD64)]', 'platform': 'Windows-10-10.0.26100-SP0', 'event': 'loaded'}\n",
      "2025-01-30 16:35:55,932 : INFO : loading KeyedVectors object from C:\\Users\\Brottrager\\Documents\\Diss\\sec_lit\\ENG\\20240919_wordembeddings\\modelA_iteration=100\\20240919_93_window=10_skipgram_defaultparams_model_vectors.kv\n",
      "2025-01-30 16:35:55,970 : INFO : KeyedVectors lifecycle event {'fname': 'C:\\\\Users\\\\Brottrager\\\\Documents\\\\Diss\\\\sec_lit\\\\ENG\\\\20240919_wordembeddings\\\\modelA_iteration=100\\\\20240919_93_window=10_skipgram_defaultparams_model_vectors.kv', 'datetime': '2025-01-30T16:35:55.970133', 'gensim': '4.3.2', 'python': '3.11.9 | packaged by Anaconda, Inc. | (main, Apr 19 2024, 16:40:41) [MSC v.1916 64 bit (AMD64)]', 'platform': 'Windows-10-10.0.26100-SP0', 'event': 'loaded'}\n",
      "2025-01-30 16:35:55,971 : INFO : loading KeyedVectors object from C:\\Users\\Brottrager\\Documents\\Diss\\sec_lit\\ENG\\20240919_wordembeddings\\modelA_iteration=100\\20240919_94_window=10_skipgram_defaultparams_model_vectors.kv\n",
      "2025-01-30 16:35:56,012 : INFO : KeyedVectors lifecycle event {'fname': 'C:\\\\Users\\\\Brottrager\\\\Documents\\\\Diss\\\\sec_lit\\\\ENG\\\\20240919_wordembeddings\\\\modelA_iteration=100\\\\20240919_94_window=10_skipgram_defaultparams_model_vectors.kv', 'datetime': '2025-01-30T16:35:56.012709', 'gensim': '4.3.2', 'python': '3.11.9 | packaged by Anaconda, Inc. | (main, Apr 19 2024, 16:40:41) [MSC v.1916 64 bit (AMD64)]', 'platform': 'Windows-10-10.0.26100-SP0', 'event': 'loaded'}\n",
      "2025-01-30 16:35:56,013 : INFO : loading KeyedVectors object from C:\\Users\\Brottrager\\Documents\\Diss\\sec_lit\\ENG\\20240919_wordembeddings\\modelA_iteration=100\\20240919_95_window=10_skipgram_defaultparams_model_vectors.kv\n",
      "2025-01-30 16:35:56,053 : INFO : KeyedVectors lifecycle event {'fname': 'C:\\\\Users\\\\Brottrager\\\\Documents\\\\Diss\\\\sec_lit\\\\ENG\\\\20240919_wordembeddings\\\\modelA_iteration=100\\\\20240919_95_window=10_skipgram_defaultparams_model_vectors.kv', 'datetime': '2025-01-30T16:35:56.053696', 'gensim': '4.3.2', 'python': '3.11.9 | packaged by Anaconda, Inc. | (main, Apr 19 2024, 16:40:41) [MSC v.1916 64 bit (AMD64)]', 'platform': 'Windows-10-10.0.26100-SP0', 'event': 'loaded'}\n",
      "2025-01-30 16:35:56,055 : INFO : loading KeyedVectors object from C:\\Users\\Brottrager\\Documents\\Diss\\sec_lit\\ENG\\20240919_wordembeddings\\modelA_iteration=100\\20240919_96_window=10_skipgram_defaultparams_model_vectors.kv\n",
      "2025-01-30 16:35:56,096 : INFO : KeyedVectors lifecycle event {'fname': 'C:\\\\Users\\\\Brottrager\\\\Documents\\\\Diss\\\\sec_lit\\\\ENG\\\\20240919_wordembeddings\\\\modelA_iteration=100\\\\20240919_96_window=10_skipgram_defaultparams_model_vectors.kv', 'datetime': '2025-01-30T16:35:56.096731', 'gensim': '4.3.2', 'python': '3.11.9 | packaged by Anaconda, Inc. | (main, Apr 19 2024, 16:40:41) [MSC v.1916 64 bit (AMD64)]', 'platform': 'Windows-10-10.0.26100-SP0', 'event': 'loaded'}\n",
      "2025-01-30 16:35:56,098 : INFO : loading KeyedVectors object from C:\\Users\\Brottrager\\Documents\\Diss\\sec_lit\\ENG\\20240919_wordembeddings\\modelA_iteration=100\\20240919_97_window=10_skipgram_defaultparams_model_vectors.kv\n",
      "2025-01-30 16:35:56,140 : INFO : KeyedVectors lifecycle event {'fname': 'C:\\\\Users\\\\Brottrager\\\\Documents\\\\Diss\\\\sec_lit\\\\ENG\\\\20240919_wordembeddings\\\\modelA_iteration=100\\\\20240919_97_window=10_skipgram_defaultparams_model_vectors.kv', 'datetime': '2025-01-30T16:35:56.140924', 'gensim': '4.3.2', 'python': '3.11.9 | packaged by Anaconda, Inc. | (main, Apr 19 2024, 16:40:41) [MSC v.1916 64 bit (AMD64)]', 'platform': 'Windows-10-10.0.26100-SP0', 'event': 'loaded'}\n",
      "2025-01-30 16:35:56,141 : INFO : loading KeyedVectors object from C:\\Users\\Brottrager\\Documents\\Diss\\sec_lit\\ENG\\20240919_wordembeddings\\modelA_iteration=100\\20240919_98_window=10_skipgram_defaultparams_model_vectors.kv\n",
      "2025-01-30 16:35:56,184 : INFO : KeyedVectors lifecycle event {'fname': 'C:\\\\Users\\\\Brottrager\\\\Documents\\\\Diss\\\\sec_lit\\\\ENG\\\\20240919_wordembeddings\\\\modelA_iteration=100\\\\20240919_98_window=10_skipgram_defaultparams_model_vectors.kv', 'datetime': '2025-01-30T16:35:56.184901', 'gensim': '4.3.2', 'python': '3.11.9 | packaged by Anaconda, Inc. | (main, Apr 19 2024, 16:40:41) [MSC v.1916 64 bit (AMD64)]', 'platform': 'Windows-10-10.0.26100-SP0', 'event': 'loaded'}\n",
      "2025-01-30 16:35:56,186 : INFO : loading KeyedVectors object from C:\\Users\\Brottrager\\Documents\\Diss\\sec_lit\\ENG\\20240919_wordembeddings\\modelA_iteration=100\\20240919_99_window=10_skipgram_defaultparams_model_vectors.kv\n",
      "2025-01-30 16:35:56,227 : INFO : KeyedVectors lifecycle event {'fname': 'C:\\\\Users\\\\Brottrager\\\\Documents\\\\Diss\\\\sec_lit\\\\ENG\\\\20240919_wordembeddings\\\\modelA_iteration=100\\\\20240919_99_window=10_skipgram_defaultparams_model_vectors.kv', 'datetime': '2025-01-30T16:35:56.227064', 'gensim': '4.3.2', 'python': '3.11.9 | packaged by Anaconda, Inc. | (main, Apr 19 2024, 16:40:41) [MSC v.1916 64 bit (AMD64)]', 'platform': 'Windows-10-10.0.26100-SP0', 'event': 'loaded'}\n",
      "2025-01-30 16:35:56,228 : INFO : loading KeyedVectors object from C:\\Users\\Brottrager\\Documents\\Diss\\sec_lit\\ENG\\20240919_wordembeddings\\modelA_iteration=100\\20240919_9_window=10_skipgram_defaultparams_model_vectors.kv\n",
      "2025-01-30 16:35:56,268 : INFO : KeyedVectors lifecycle event {'fname': 'C:\\\\Users\\\\Brottrager\\\\Documents\\\\Diss\\\\sec_lit\\\\ENG\\\\20240919_wordembeddings\\\\modelA_iteration=100\\\\20240919_9_window=10_skipgram_defaultparams_model_vectors.kv', 'datetime': '2025-01-30T16:35:56.268042', 'gensim': '4.3.2', 'python': '3.11.9 | packaged by Anaconda, Inc. | (main, Apr 19 2024, 16:40:41) [MSC v.1916 64 bit (AMD64)]', 'platform': 'Windows-10-10.0.26100-SP0', 'event': 'loaded'}\n"
     ]
    }
   ],
   "source": [
    "models = []\n",
    "\n",
    "for file in files:\n",
    "    models.append(gensim.models.KeyedVectors.load(str(file)))"
   ]
  },
  {
   "cell_type": "code",
   "execution_count": 24,
   "id": "9772ed4f-088c-4fd6-8178-478a4adf9630",
   "metadata": {},
   "outputs": [],
   "source": [
    "vectors = {}\n",
    "\n",
    "for model in models:\n",
    "    for key in entities:\n",
    "        if key in model.key_to_index:\n",
    "            if key not in vectors:\n",
    "                vectors[key] = [model[key]]\n",
    "            else:\n",
    "                vectors[key].append(model[key])"
   ]
  },
  {
   "cell_type": "code",
   "execution_count": 25,
   "id": "27318214-7a75-4435-ba12-2b2078c03dc0",
   "metadata": {},
   "outputs": [],
   "source": [
    "vectors_mean = {}\n",
    "idsinEmbedding = []\n",
    "nodes = {}\n",
    "\n",
    "for key, values in vectors.items():\n",
    "    array = np.array(vectors[key], dtype='float32')\n",
    "    vectors_mean[key] = np.average(array, axis=0)\n",
    "    idsinEmbedding.append(key)\n",
    "    if key in entities_per:\n",
    "        nodes[key] = {'label': 'PERSON'}\n",
    "    elif key in entities_text:\n",
    "        nodes[key] = {'label': 'WORK_OF_ART'}   "
   ]
  },
  {
   "cell_type": "code",
   "execution_count": 27,
   "id": "9b869bfd-6fc3-4e53-8640-d867cb5e7df9",
   "metadata": {},
   "outputs": [],
   "source": [
    "save_data(base_dir + today + '_idsinEmbedding.json', idsinEmbedding)"
   ]
  },
  {
   "cell_type": "code",
   "execution_count": 26,
   "id": "6caa21dc-a09b-4e42-b4d2-48a2696ce2bd",
   "metadata": {},
   "outputs": [],
   "source": [
    "idsinEmbedding = load_data(base_dir + today + '_idsinEmbedding.json')"
   ]
  },
  {
   "cell_type": "code",
   "execution_count": 27,
   "id": "5803bc97-c06c-4e3f-a953-77873ab234f3",
   "metadata": {},
   "outputs": [
    {
     "data": {
      "text/plain": [
       "3589"
      ]
     },
     "execution_count": 27,
     "metadata": {},
     "output_type": "execute_result"
    }
   ],
   "source": [
    "len(idsinEmbedding)"
   ]
  },
  {
   "cell_type": "code",
   "execution_count": 28,
   "id": "cf80bb6d-f455-40c2-8111-e56ee9fbe697",
   "metadata": {},
   "outputs": [],
   "source": [
    "vectors_ls = []\n",
    "\n",
    "for key, values in vectors_mean.items():\n",
    "    vectors_ls.append(vectors_mean[key])"
   ]
  },
  {
   "cell_type": "code",
   "execution_count": 29,
   "id": "6620dda1",
   "metadata": {},
   "outputs": [],
   "source": [
    "similarities = cosine_similarity(vectors_ls)"
   ]
  },
  {
   "cell_type": "code",
   "execution_count": 30,
   "id": "c53c9add",
   "metadata": {},
   "outputs": [],
   "source": [
    "data = pd.DataFrame(similarities)"
   ]
  },
  {
   "cell_type": "code",
   "execution_count": 31,
   "id": "1ff9a419",
   "metadata": {},
   "outputs": [],
   "source": [
    "for i in range(0, len(data)):\n",
    "    for j in range(0,len(data)):\n",
    "        if i == j:\n",
    "            data.iloc[i,j] = 0"
   ]
  },
  {
   "cell_type": "code",
   "execution_count": 32,
   "id": "8af762fa-24fb-4555-b0d8-4c17b0b4fe69",
   "metadata": {},
   "outputs": [
    {
     "data": {
      "text/plain": [
       "3589"
      ]
     },
     "execution_count": 32,
     "metadata": {},
     "output_type": "execute_result"
    }
   ],
   "source": [
    "len(idsinEmbedding)"
   ]
  },
  {
   "cell_type": "code",
   "execution_count": 33,
   "id": "a8c0c61d",
   "metadata": {},
   "outputs": [],
   "source": [
    "data.columns = idsinEmbedding\n",
    "data.index = idsinEmbedding"
   ]
  },
  {
   "cell_type": "code",
   "execution_count": 37,
   "id": "3a42b105-08ce-4a50-b38d-cecc768892a4",
   "metadata": {},
   "outputs": [],
   "source": [
    "data.to_csv(path_results + '//fulladjacencymatrix.csv', encoding='utf8')"
   ]
  },
  {
   "cell_type": "markdown",
   "id": "ca430452",
   "metadata": {},
   "source": [
    "Minimum Spanning Tree "
   ]
  },
  {
   "cell_type": "code",
   "execution_count": 41,
   "id": "8e00fbe6",
   "metadata": {},
   "outputs": [],
   "source": [
    "G = nx.from_pandas_adjacency(data)"
   ]
  },
  {
   "cell_type": "code",
   "execution_count": 42,
   "id": "c520161c-e431-497e-8b99-54fa1982d5cd",
   "metadata": {},
   "outputs": [],
   "source": [
    "with open(path_results + '//fullnetwork_linklist.csv', mode='w', newline='', encoding='utf8') as file:\n",
    "    writer = csv.writer(file)\n",
    "    # Write header (optional)\n",
    "    writer.writerow(['Node1', 'Node2'])\n",
    "    \n",
    "    # Write each edge as a row\n",
    "    for u, v in G.edges():\n",
    "        writer.writerow([u, v])"
   ]
  },
  {
   "cell_type": "code",
   "execution_count": 40,
   "id": "374a59ca-0a07-4eb2-8cb9-155c35faff95",
   "metadata": {},
   "outputs": [],
   "source": [
    "nx.set_node_attributes(G, nodes)"
   ]
  },
  {
   "cell_type": "code",
   "execution_count": 41,
   "id": "a66d4d2a",
   "metadata": {},
   "outputs": [],
   "source": [
    "algorithm = 'kruskal'"
   ]
  },
  {
   "cell_type": "code",
   "execution_count": 42,
   "id": "9adccf0b",
   "metadata": {},
   "outputs": [],
   "source": [
    "for u, v, data in G.edges(data=True):\n",
    "    data['weight'] = 1 - data['weight'] # similarity vs minimum weight\n",
    "\n",
    "mst = nx.minimum_spanning_tree(G, algorithm=algorithm)\n",
    "\n",
    "for u, v, data in mst.edges(data=True):\n",
    "    data['weight'] = 1 - data['weight']"
   ]
  },
  {
   "cell_type": "code",
   "execution_count": 43,
   "id": "3469a504",
   "metadata": {},
   "outputs": [],
   "source": [
    "#filename = path_results + '\\\\' + today + '_min_count' + str(min_count) + '_vector_size' + str(vector_size) + '_window' + str(window) + '_epochs' + str(epochs) + '_' + str(algorithm) + \"_word_similarity_edges_highsimilarity.csv\"\n",
    "filename = path_results + '\\\\' + today + '_window=' + str(window) + \"_defaultparams_skipgram_mean5_word_similarity_edges_highsimilarity.csv\"\n",
    "\n",
    "with open(filename, 'w', newline='', encoding='utf-8') as csvfile:\n",
    "    writer = csv.writer(csvfile)\n",
    "    writer.writerow(['Source', 'Target', 'Weight'])\n",
    "    \n",
    "    for u, v, data in mst.edges(data=True):\n",
    "        writer.writerow([u, v, data['weight']])"
   ]
  },
  {
   "cell_type": "markdown",
   "id": "398d94ce-f14b-4881-86a0-fac4133651a2",
   "metadata": {},
   "source": [
    "#### Network: PER"
   ]
  },
  {
   "cell_type": "code",
   "execution_count": 46,
   "id": "640a431a-4fcf-447b-8c2f-f56828e8281b",
   "metadata": {},
   "outputs": [],
   "source": [
    "vectors_per_ls = []\n",
    "idsinEmbedding_per = []\n",
    "\n",
    "for key, values in vectors_mean.items():\n",
    "    if key in entities_per:\n",
    "        vectors_per_ls.append(vectors_mean[key])\n",
    "        idsinEmbedding_per.append(key)"
   ]
  },
  {
   "cell_type": "code",
   "execution_count": 47,
   "id": "e8c70250-d2d0-4024-9c54-29e188111fa3",
   "metadata": {},
   "outputs": [
    {
     "data": {
      "text/plain": [
       "2628"
      ]
     },
     "execution_count": 47,
     "metadata": {},
     "output_type": "execute_result"
    }
   ],
   "source": [
    "len(idsinEmbedding_per)"
   ]
  },
  {
   "cell_type": "code",
   "execution_count": 48,
   "id": "0effdc8d-8b5b-43f6-8e01-53fcadec2745",
   "metadata": {},
   "outputs": [],
   "source": [
    "save_data(base_dir + today + '_idsinEmbedding_PER.json', idsinEmbedding_per)"
   ]
  },
  {
   "cell_type": "code",
   "execution_count": 49,
   "id": "0731a91c-954b-4a63-a600-0782aeab699e",
   "metadata": {},
   "outputs": [],
   "source": [
    "similarities_per = cosine_similarity(vectors_per_ls)"
   ]
  },
  {
   "cell_type": "code",
   "execution_count": 50,
   "id": "e4e32cf3-70de-4cdc-a29f-a460a62c7497",
   "metadata": {},
   "outputs": [],
   "source": [
    "data_per = pd.DataFrame(similarities_per)"
   ]
  },
  {
   "cell_type": "code",
   "execution_count": 51,
   "id": "046cd20f-612e-4a65-8bbb-08ef78c04b99",
   "metadata": {},
   "outputs": [],
   "source": [
    "for i in range(0, len(data_per)):\n",
    "    for j in range(0,len(data_per)):\n",
    "        if i == j:\n",
    "            data_per.iloc[i,j] = 0"
   ]
  },
  {
   "cell_type": "code",
   "execution_count": 52,
   "id": "ae9fa5ea-96b8-4d53-897b-87587422b674",
   "metadata": {},
   "outputs": [],
   "source": [
    "data_per.columns = idsinEmbedding_per\n",
    "data_per.index = idsinEmbedding_per"
   ]
  },
  {
   "cell_type": "markdown",
   "id": "49f3ebe3-c438-42c2-9d40-db7719617bb5",
   "metadata": {},
   "source": [
    "Minimum Spanning Tree"
   ]
  },
  {
   "cell_type": "code",
   "execution_count": 53,
   "id": "d25158f0-e370-4ca4-bc7c-c2482797a1f2",
   "metadata": {},
   "outputs": [],
   "source": [
    "G_per = nx.from_pandas_adjacency(data_per)"
   ]
  },
  {
   "cell_type": "code",
   "execution_count": 54,
   "id": "06df0357-2ef9-4395-820c-21112450319b",
   "metadata": {},
   "outputs": [],
   "source": [
    "for u, v, data in G_per.edges(data=True):\n",
    "    data['weight'] = 1 - data['weight'] # similarity vs minimum weight\n",
    "\n",
    "mst_per = nx.minimum_spanning_tree(G_per, algorithm=algorithm)\n",
    "\n",
    "for u, v, data in mst_per.edges(data=True):\n",
    "    data['weight'] = 1 - data['weight']"
   ]
  },
  {
   "cell_type": "code",
   "execution_count": 55,
   "id": "4d14928d-82a4-493f-83a7-7075711ba5fe",
   "metadata": {},
   "outputs": [],
   "source": [
    "#filename = path_results + '\\\\' + today + '_min_count' + str(min_count) + '_vector_size' + str(vector_size) + '_window' + str(window) + '_epochs' + str(epochs) + '_' + str(algorithm) + \"_word_similarity_edges_highsimilarity_PER.csv\"\n",
    "filename = path_results + '\\\\' + today + '_window=' + str(window) + \"_defaultparams_skipgram_mean5_word_similarity_edges_highsimilarity_PER.csv\"\n",
    "\n",
    "with open(filename, 'w', newline='', encoding='utf-8') as csvfile:\n",
    "    writer = csv.writer(csvfile)\n",
    "    writer.writerow(['Source', 'Target', 'Weight'])\n",
    "    \n",
    "    for u, v, data in mst_per.edges(data=True):\n",
    "        writer.writerow([u, v, data['weight']])"
   ]
  },
  {
   "cell_type": "markdown",
   "id": "ecb714b7-8f9e-40f7-b09d-47e301f31b92",
   "metadata": {},
   "source": [
    "#### Network: WORK_OF_ART"
   ]
  },
  {
   "cell_type": "code",
   "execution_count": 34,
   "id": "57d6a687-8936-4750-9bc9-5b2d1a45bc05",
   "metadata": {},
   "outputs": [],
   "source": [
    "vectors_text_ls = []\n",
    "idsinEmbedding_text = []\n",
    "\n",
    "for key, values in vectors_mean.items():\n",
    "    if key in entities_text:\n",
    "        vectors_text_ls.append(vectors_mean[key])\n",
    "        idsinEmbedding_text.append(key)"
   ]
  },
  {
   "cell_type": "code",
   "execution_count": 35,
   "id": "db78c6b6-4196-4b42-938a-ea36c5876624",
   "metadata": {},
   "outputs": [
    {
     "data": {
      "text/plain": [
       "1056"
      ]
     },
     "execution_count": 35,
     "metadata": {},
     "output_type": "execute_result"
    }
   ],
   "source": [
    "len(idsinEmbedding_text)"
   ]
  },
  {
   "cell_type": "code",
   "execution_count": 34,
   "id": "c703f32e-a7ad-41c9-8092-429a00f465f9",
   "metadata": {},
   "outputs": [],
   "source": [
    "save_data(base_dir + today + '_idsinEmbedding_TEXT.json', idsinEmbedding_text)"
   ]
  },
  {
   "cell_type": "code",
   "execution_count": 36,
   "id": "1bc3238a-f410-4069-8834-3b7fc7c2523d",
   "metadata": {},
   "outputs": [],
   "source": [
    "similarities_text = cosine_similarity(vectors_text_ls)"
   ]
  },
  {
   "cell_type": "code",
   "execution_count": 37,
   "id": "304e43c5-0d66-4243-923c-6afd1714b8ff",
   "metadata": {},
   "outputs": [],
   "source": [
    "data_texts = pd.DataFrame(similarities_text)"
   ]
  },
  {
   "cell_type": "code",
   "execution_count": 38,
   "id": "99852b7f-780c-40ef-9018-0112f59d7609",
   "metadata": {},
   "outputs": [],
   "source": [
    "for i in range(0, len(data_texts)):\n",
    "    for j in range(0,len(data_texts)):\n",
    "        if i == j:\n",
    "            data_texts.iloc[i,j] = 0"
   ]
  },
  {
   "cell_type": "code",
   "execution_count": 39,
   "id": "27a61807-fd56-408b-943d-36c5d2983f87",
   "metadata": {},
   "outputs": [],
   "source": [
    "data_texts.columns = idsinEmbedding_text\n",
    "data_texts.index = idsinEmbedding_text"
   ]
  },
  {
   "cell_type": "code",
   "execution_count": 40,
   "id": "1563c898-9251-4047-85c1-6c02d53c7a95",
   "metadata": {},
   "outputs": [],
   "source": [
    "data_texts.to_csv(path_results + '\\\\' + today + '_window=' + str(window) + 'texts_wordembedding_adjacency.csv', encoding='utf8')"
   ]
  },
  {
   "cell_type": "markdown",
   "id": "51a621b7-6e65-4c93-a423-ce91487a9813",
   "metadata": {},
   "source": [
    "Minimum Spanning Tree"
   ]
  },
  {
   "cell_type": "code",
   "execution_count": 39,
   "id": "d874427c-a6c9-4b63-9418-18646b4dbace",
   "metadata": {},
   "outputs": [],
   "source": [
    "G_texts = nx.from_pandas_adjacency(data_texts)"
   ]
  },
  {
   "cell_type": "code",
   "execution_count": 42,
   "id": "e18d195a-8fd0-4410-be77-9e3a0922f29f",
   "metadata": {},
   "outputs": [],
   "source": [
    "for u, v, data in G_texts.edges(data=True):\n",
    "    data['weight'] = 1 - data['weight'] # similarity vs minimum weight\n",
    "\n",
    "mst_texts = nx.minimum_spanning_tree(G_texts, algorithm=algorithm)\n",
    "\n",
    "for u, v, data in mst_texts.edges(data=True):\n",
    "    data['weight'] = 1 - data['weight']"
   ]
  },
  {
   "cell_type": "code",
   "execution_count": 43,
   "id": "02eb517e-3ebd-42ba-a2c2-f39fc035427a",
   "metadata": {},
   "outputs": [],
   "source": [
    "#filename = path_results + '\\\\' + today + '_min_count' + str(min_count) + '_vector_size' + str(vector_size) + '_window' + str(window) + '_epochs' + str(epochs) + '_' + str(algorithm) + \"_word_similarity_edges_highsimilarity_WORK_OF_ART.csv\"\n",
    "filename = path_results + '\\\\' + today + '_window=' + str(window) + \"_defaultparams_skipgram_mean5_word_similarity_edges_highsimilarity_WORK_OF_ART.csv\"\n",
    "\n",
    "with open(filename, 'w', newline='', encoding='utf-8') as csvfile:\n",
    "    writer = csv.writer(csvfile)\n",
    "    writer.writerow(['Source', 'Target', 'Weight'])\n",
    "    \n",
    "    for u, v, data in mst_texts.edges(data=True):\n",
    "        writer.writerow([u, v, data['weight']])"
   ]
  }
 ],
 "metadata": {
  "kernelspec": {
   "display_name": "Python 3 (ipykernel)",
   "language": "python",
   "name": "python3"
  },
  "language_info": {
   "codemirror_mode": {
    "name": "ipython",
    "version": 3
   },
   "file_extension": ".py",
   "mimetype": "text/x-python",
   "name": "python",
   "nbconvert_exporter": "python",
   "pygments_lexer": "ipython3",
   "version": "3.11.9"
  }
 },
 "nbformat": 4,
 "nbformat_minor": 5
}
